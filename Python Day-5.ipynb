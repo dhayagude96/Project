{
 "cells": [
  {
   "cell_type": "code",
   "execution_count": null,
   "id": "c8c27d4d",
   "metadata": {},
   "outputs": [],
   "source": [
    "\"\"\"\n",
    "String :-->\n",
    "\n",
    "1.Creating \n",
    "2.Accessing \n",
    "3.Adding Char\n",
    "4.Editing String\n",
    "5.Deleting String\n",
    "6.Operators on String\n",
    "7.String Function\n",
    "\n",
    "\n",
    "\"\"\""
   ]
  },
  {
   "cell_type": "code",
   "execution_count": null,
   "id": "3a11c903",
   "metadata": {},
   "outputs": [],
   "source": []
  },
  {
   "cell_type": "code",
   "execution_count": null,
   "id": "046abf68",
   "metadata": {},
   "outputs": [],
   "source": [
    "# int / string / float : list / tuple / set / dict"
   ]
  },
  {
   "cell_type": "code",
   "execution_count": 2,
   "id": "fa006205",
   "metadata": {},
   "outputs": [
    {
     "name": "stdout",
     "output_type": "stream",
     "text": [
      "EduTECH Warje/EduTECH Warje/EduTECH Warje\n"
     ]
    }
   ],
   "source": [
    "#1.Creating \n",
    "\n",
    "s1 = 'EduTECH Warje'\n",
    "\n",
    "s2= \"EduTECH Warje\"\n",
    "\n",
    "s3 = \"\"\"EduTECH Warje\"\"\"\n",
    "\n",
    "print(s1,s2,s3 , sep ='/')"
   ]
  },
  {
   "cell_type": "code",
   "execution_count": 13,
   "id": "65e53f76",
   "metadata": {},
   "outputs": [
    {
     "name": "stdout",
     "output_type": "stream",
     "text": [
      "1st Chart of String Name :  V\n",
      "2nd Char of String Name : s\n",
      "Using Negative Indexing : l\n",
      "Using Negative Indexing : h\n",
      "using Slicing : Welcome\n",
      "using Slicing : EduTECH\n",
      "Using Negative Slicing: \n"
     ]
    }
   ],
   "source": [
    "#2.Accessing \n",
    "\n",
    "\n",
    "name = \"Vishal\"\n",
    "#       012345\n",
    "#          \n",
    "\n",
    "#Postive Indexing\n",
    "\n",
    "print(\"1st Chart of String Name : \" , name[0])\n",
    "\n",
    "print(\"2nd Char of String Name :\" , name[2])\n",
    "\n",
    "#Negative Indexing\n",
    "print(\"Using Negative Indexing :\" , name[-1])\n",
    "print(\"Using Negative Indexing :\" , name[-3])\n",
    "\n",
    "#Slicing\n",
    "\n",
    "info = \"Welcome to EduTECH World of EduCATION\"\n",
    "\n",
    "print(\"using Slicing :\" , info[0:7])\n",
    "print(\"using Slicing :\" , info[11:18])\n",
    "\n",
    "print(\"Using Negative Slicing:\" , info[:-1:-10])"
   ]
  },
  {
   "cell_type": "code",
   "execution_count": 16,
   "id": "ccbeaf5e",
   "metadata": {},
   "outputs": [],
   "source": [
    "#String & Tuple are the Immunatble Data Type\n",
    "#3.Adding Char\n",
    "\n",
    "s1 = \"Vishal\"\n",
    "\n",
    "#s1.add(\"Dhayagude\") #'str' object has no attribute 'add'\n",
    "\n",
    "#4.Editing String\n",
    "#s1[0] = \"B\" #'str' object does not support item assignment\n",
    "\n",
    "s1 = \"Vishal Dhayagude\""
   ]
  },
  {
   "cell_type": "code",
   "execution_count": 19,
   "id": "67fd8e5e",
   "metadata": {},
   "outputs": [
    {
     "ename": "TypeError",
     "evalue": "'str' object doesn't support item deletion",
     "output_type": "error",
     "traceback": [
      "\u001b[1;31m---------------------------------------------------------------------------\u001b[0m",
      "\u001b[1;31mTypeError\u001b[0m                                 Traceback (most recent call last)",
      "Cell \u001b[1;32mIn[19], line 7\u001b[0m\n\u001b[0;32m      3\u001b[0m s1 \u001b[38;5;241m=\u001b[39m \u001b[38;5;124m\"\u001b[39m\u001b[38;5;124mEduTECH\u001b[39m\u001b[38;5;124m\"\u001b[39m\n\u001b[0;32m      5\u001b[0m \u001b[38;5;66;03m#del(s1)\u001b[39;00m\n\u001b[1;32m----> 7\u001b[0m \u001b[38;5;28;01mdel\u001b[39;00m(s1[\u001b[38;5;241m0\u001b[39m])\n\u001b[0;32m      9\u001b[0m \u001b[38;5;28mprint\u001b[39m(s1)\n",
      "\u001b[1;31mTypeError\u001b[0m: 'str' object doesn't support item deletion"
     ]
    }
   ],
   "source": [
    "#5.Deleting String\n",
    "\n",
    "s1 = \"EduTECH\"\n",
    "\n",
    "#del(s1)\n",
    "\n",
    "del(s1[0]) #'str' object doesn't support item deletion\n",
    "\n",
    "\n",
    "print(s1)#name 's1' is not defined"
   ]
  },
  {
   "cell_type": "code",
   "execution_count": 34,
   "id": "de47b5cc",
   "metadata": {},
   "outputs": [
    {
     "name": "stdout",
     "output_type": "stream",
     "text": [
      "EduTECH Warje\n",
      "******************************\n",
      "False\n",
      "True\n",
      "False\n",
      "True\n",
      "True\n"
     ]
    }
   ],
   "source": [
    "#6.Operators on String\n",
    "\n",
    "#Arithmatic : + & *\n",
    "\n",
    "print(\"EduTECH \" + \"Warje\")\n",
    "print(\"***\"  * 10)\n",
    "\n",
    "#Relational : >,<,==,<=,>=\n",
    "\n",
    "s1 = \"Pune\"\n",
    "s2 = \"Mumbai\"\n",
    "\n",
    "print(s1==s2)\n",
    "print(s1>s2)\n",
    "\n",
    "#Logical : and & or\n",
    "\n",
    "\"\"\"\n",
    "\n",
    "empty String =  False\n",
    "String with value = True\n",
    "\n",
    "\"\"\"\n",
    "\n",
    "\"\" and \"Vishal\" #both condition should be True for and operator : ---> True\n",
    "\n",
    "\"\" or \"Vishal\" #both condition should be False for or operator  :---> False\n",
    "\n",
    "\n",
    "#Membeship Operator: in & not in\n",
    "\n",
    "info = \"Welcome to EduTECH World of EduCATION\"\n",
    "\n",
    "print(\"w\" in info)\n",
    "\n",
    "print(\"EduTECH\" in info)\n",
    "\n",
    "print(\"Vishal\" not in info)\n",
    "\n"
   ]
  },
  {
   "cell_type": "code",
   "execution_count": 38,
   "id": "9be2f0fa",
   "metadata": {},
   "outputs": [
    {
     "name": "stdout",
     "output_type": "stream",
     "text": [
      "I\n",
      "e\n"
     ]
    }
   ],
   "source": [
    "#2.Accessing \n",
    "\n",
    "msg = \"Enter Your ID\"\n",
    "\n",
    "print(msg[11:12])\n",
    "\n",
    "print(msg[3])"
   ]
  },
  {
   "cell_type": "code",
   "execution_count": null,
   "id": "9009f45d",
   "metadata": {},
   "outputs": [],
   "source": [
    "#7.String Function \n",
    "\n",
    "#Common Function :  min/max/len/sorted\n",
    "\n",
    "#Captilize/title/upper/lower/swapcase/count/find/index\n",
    "\n",
    "#endswith & startswith\n",
    "\n",
    "#Format\n",
    "\n",
    "#Split"
   ]
  },
  {
   "cell_type": "code",
   "execution_count": 4,
   "id": "8d385a41",
   "metadata": {},
   "outputs": [
    {
     "name": "stdout",
     "output_type": "stream",
     "text": [
      "u\n",
      " \n",
      "S1 length  :  17\n",
      "[' ', ' ', 'C', 'E', 'E', 'H', 'T', 'T', 'W', 'd', 'e', 'e', 'l', 'm', 'o', 'o', 'u']\n"
     ]
    }
   ],
   "source": [
    "#Common Function :  min/max/len/sorted\n",
    "\n",
    "s1 = \"Welome To EduTECH\"\n",
    "\n",
    "print(max(s1))\n",
    "print(min(s1))\n",
    "\n",
    "print(\"S1 length  : \" , len(s1))\n",
    "\n",
    "print(sorted(s1))"
   ]
  },
  {
   "cell_type": "code",
   "execution_count": 16,
   "id": "c27c7e12",
   "metadata": {},
   "outputs": [
    {
     "name": "stdout",
     "output_type": "stream",
     "text": [
      "We are string with data sets in python\n",
      "We Are String With Data Sets In Python\n",
      "we are string with data sets in python\n",
      "wE ArE stRTiNG wIth dA\n",
      "0\n",
      "1\n"
     ]
    }
   ],
   "source": [
    "#capitalize/title/upper/lower/swapcase/count/find/index\n",
    "\n",
    "msg = \"we are string with data sets in python\"\n",
    "\n",
    "print(msg.capitalize())\n",
    "print(msg.title())\n",
    "\n",
    "print(msg.upper().lower())\n",
    "\n",
    "msg1 = \"We aRe STrtIng WiTH Da\"\n",
    "\n",
    "print(msg1.swapcase())\n",
    "\n",
    "print(msg.count('x')) #Count function will return Zero if vale not found in String\n",
    "\n",
    "print(msg.count(\"data\"))"
   ]
  },
  {
   "cell_type": "code",
   "execution_count": 21,
   "id": "a02208ca",
   "metadata": {},
   "outputs": [
    {
     "name": "stdout",
     "output_type": "stream",
     "text": [
      "Using Find Function : -1\n"
     ]
    }
   ],
   "source": [
    "#find/index\n",
    "\n",
    "info = \"Welcome to EduTECH World of EduCATION\"\n",
    "\n",
    "print(\"Using index Function :\" , info.index('x'))#substring not found\n",
    "print(\"Using Find Function :\" , info.find('x')) #-1"
   ]
  },
  {
   "cell_type": "code",
   "execution_count": 30,
   "id": "ac418c5c",
   "metadata": {},
   "outputs": [
    {
     "name": "stdout",
     "output_type": "stream",
     "text": [
      "did info starting with Welcome ?  True\n",
      "did info ending with with EduCATION?  False\n"
     ]
    }
   ],
   "source": [
    "#endswith & startswith\n",
    "\n",
    "info = \"Welcome to EduTECH World of EduCATION\"\n",
    "\n",
    "print(\"did info starting with Welcome ? \" , info.startswith('Welcome to'))\n",
    "print(\"did info ending with with EduCATION? \" , info.endswith('x'))"
   ]
  },
  {
   "cell_type": "code",
   "execution_count": 35,
   "id": "92f49d7f",
   "metadata": {},
   "outputs": [
    {
     "name": "stdout",
     "output_type": "stream",
     "text": [
      "Hello Ajay we are starting with Data Science welcome to EduTECH\n",
      "Hello Data Science we are starting with Ajay welcome to EduTECH\n",
      "Hello Ajay we are starting with SAP welcome to EduTECH\n"
     ]
    }
   ],
   "source": [
    "#Format\n",
    "\n",
    "#option -1\n",
    "print(\"Hello {} we are starting with {} welcome to EduTECH\".format(\"Ajay\",\"Data Science\"))\n",
    "\n",
    "\n",
    "#option -2\n",
    "print(\"Hello {1} we are starting with {0} welcome to EduTECH\".format(\"Ajay\",\"Data Science\"))\n",
    "\n",
    "#option -3\n",
    "print(\"Hello {name} we are starting with {c3} welcome to EduTECH\".format(name=\"Ajay\",c1=\"Data Science\",c2=\"Data Analysis\",c3=\"SAP\"))"
   ]
  },
  {
   "cell_type": "code",
   "execution_count": 46,
   "id": "166cbeea",
   "metadata": {},
   "outputs": [
    {
     "name": "stdout",
     "output_type": "stream",
     "text": [
      "Welcome to EduTECH World of EduCATION\n",
      "Before using split Function Data Type is : <class 'str'>\n",
      "\n",
      "['Welcome', 'to', 'EduTECH', 'World', 'of', 'EduCATION']\n",
      "After using split Function Data Type is : <class 'list'>\n",
      "This is Using indexing :  EduCATION\n"
     ]
    }
   ],
   "source": [
    "#Split :----> it will return list \n",
    "\n",
    "info1 = \"Welcome to EduTECH World of EduCATION\"\n",
    "\n",
    "\n",
    "print(info1)\n",
    "print(\"Before using split Function Data Type is :\" , type(info1))\n",
    "\n",
    "print()\n",
    "\n",
    "info2=info1.split()\n",
    "\n",
    "print(info2)\n",
    "print(\"After using split Function Data Type is :\" , type(info2))\n",
    "\n",
    "\n",
    "print(\"This is Using indexing : \" ,info2[-1])\n",
    "\n",
    "\n",
    "\n"
   ]
  },
  {
   "cell_type": "code",
   "execution_count": 1,
   "id": "3261117b",
   "metadata": {},
   "outputs": [
    {
     "name": "stdout",
     "output_type": "stream",
     "text": [
      "['Welcome to ', ' World of EduCATION']\n",
      "vIshAL\n"
     ]
    }
   ],
   "source": [
    "info1 = \"Welcome to EduTECH World of EduCATION\"\n",
    "\n",
    "print(info1.split('EduTECH'))\n",
    "\n",
    "print(\"ViSHal\".swapcase())"
   ]
  }
 ],
 "metadata": {
  "kernelspec": {
   "display_name": "Python 3 (ipykernel)",
   "language": "python",
   "name": "python3"
  },
  "language_info": {
   "codemirror_mode": {
    "name": "ipython",
    "version": 3
   },
   "file_extension": ".py",
   "mimetype": "text/x-python",
   "name": "python",
   "nbconvert_exporter": "python",
   "pygments_lexer": "ipython3",
   "version": "3.11.3"
  }
 },
 "nbformat": 4,
 "nbformat_minor": 5
}
