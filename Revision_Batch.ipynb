{
 "cells": [
  {
   "cell_type": "code",
   "execution_count": 2,
   "id": "0f95b86f",
   "metadata": {},
   "outputs": [
    {
     "name": "stdout",
     "output_type": "stream",
     "text": [
      "Hello Everyone Starting with New Data Analysis Batch!!\n"
     ]
    }
   ],
   "source": [
    "print(\"Hello Everyone Starting with New Data Analysis Batch!!\")"
   ]
  },
  {
   "cell_type": "code",
   "execution_count": 3,
   "id": "557814cb",
   "metadata": {},
   "outputs": [
    {
     "name": "stdout",
     "output_type": "stream",
     "text": [
      "47\n"
     ]
    }
   ],
   "source": [
    "print(23+24)"
   ]
  },
  {
   "cell_type": "code",
   "execution_count": 8,
   "id": "18f85bea",
   "metadata": {},
   "outputs": [
    {
     "name": "stdout",
     "output_type": "stream",
     "text": [
      "27\n",
      "23\n",
      "25\n",
      "Vishal\n",
      "Dhayagude\n"
     ]
    }
   ],
   "source": [
    "#Variable & Comments\n",
    "\n",
    "age = 27\n",
    "\"\"\"\n",
    "1.Variable name must start with English Letter or Underscore\n",
    "2.Variable name Cannot start with Number\n",
    "3.Variable Name Cannot have Sepecial Chart : $,@\n",
    "4.Variable Name is Case Senstive\n",
    "\n",
    "\n",
    "\"\"\"\n",
    "\n",
    "#1.Variable name must start with English Letter or Underscore\n",
    "\n",
    "age = 27\n",
    "_age = 23\n",
    "\n",
    "print(age)\n",
    "print(_age)\n",
    "\n",
    "#2.Variable name Cannot start with Number\n",
    "\n",
    "#1num = 25 #invalid decimal literal\n",
    "\n",
    "num1 = 25\n",
    "print(num1)\n",
    "\n",
    "#3.Variable Name Cannot have Sepecial Chart : $,@,!,%\n",
    "\n",
    "#$age = 25 # invalid syntax\n",
    "\n",
    "#4.Variable Name is Case Senstive\n",
    "\n",
    "NAME = \"Vishal\"\n",
    "name = \"Dhayagude\"\n",
    "\n",
    "print(NAME)\n",
    "print(name)"
   ]
  },
  {
   "cell_type": "code",
   "execution_count": 14,
   "id": "d3441bd0",
   "metadata": {},
   "outputs": [
    {
     "name": "stdout",
     "output_type": "stream",
     "text": [
      "Data Type of Age : <class 'float'>\n",
      "Data Type of Per : <class 'int'>\n",
      "Data Type of INFO : <class 'str'>\n"
     ]
    }
   ],
   "source": [
    "#Data Types : int / float / str / set / dict / tuple / list\n",
    "\n",
    "#Int :--->\n",
    "\n",
    "#int age = 27\n",
    "\n",
    "age = 27.23\n",
    "marks = 23\n",
    "emp_id = 1\n",
    "mobile = 9370746614\n",
    "\n",
    "#float :--\n",
    "\n",
    "per = 73\n",
    "money_dep = 23000.45\n",
    "avg = 15.25 \n",
    "\n",
    "#String\n",
    "\n",
    "student_name = \"Vishal Dhayagude\"\n",
    "info = \"Welcome to EduTECH.. World of EduCATION..\"\n",
    "\n",
    "#type() :--> Data type Return\n",
    "\n",
    "print(\"Data Type of Age :\" ,type(age))\n",
    "print(\"Data Type of Per :\" ,type(per))\n",
    "print(\"Data Type of INFO :\" ,type(info))\n"
   ]
  },
  {
   "cell_type": "code",
   "execution_count": null,
   "id": "ecbbcadb",
   "metadata": {},
   "outputs": [],
   "source": [
    "#Operators :\n",
    "\n",
    "\"\"\"\n",
    "1.Arithmatic : + ,-,/,//,**,*%\n",
    "2.Relational : <,>,<=,>=,==\n",
    "3.Conditional : and & or\n",
    "4.Membership \n",
    "5.identity\n",
    "\n",
    "\n",
    "\n",
    "\"\"\""
   ]
  },
  {
   "cell_type": "code",
   "execution_count": 20,
   "id": "d713863e",
   "metadata": {},
   "outputs": [
    {
     "name": "stdout",
     "output_type": "stream",
     "text": [
      "Add of A & B is : 48\n",
      "Sub of A & B is : 2\n",
      "Mult of A & B is : 575\n",
      "Div of A & B is : 1.0869565217391304\n",
      "Reminder of A Div by B :  2\n",
      "Floor Div :  1\n",
      "2's power is 3 :  64\n"
     ]
    }
   ],
   "source": [
    "#1.Arithmatic : + ,-,/,//,**,*%\n",
    "\n",
    "a = 25\n",
    "b = 23\n",
    "\n",
    "print(\"Add of A & B is :\" , a+b)\n",
    "print(\"Sub of A & B is :\" , a-b)\n",
    "print(\"Mult of A & B is :\" , a*b)\n",
    "print(\"Div of A & B is :\" , a/b)#float\n",
    "\n",
    "print(\"Reminder of A Div by B : \" , a%b)\n",
    "print(\"Floor Div : \" , a//b)#int\n",
    "\n",
    "print(\"2's power is 3 : \" , 2**6) # 2x2x2x2x2x2 = 8"
   ]
  },
  {
   "cell_type": "code",
   "execution_count": 26,
   "id": "fc4238c1",
   "metadata": {},
   "outputs": [
    {
     "name": "stdout",
     "output_type": "stream",
     "text": [
      "X is Gretter Than Y ? : True\n",
      "X is Less Than Y ? : False\n",
      "X is equal to Z : True\n"
     ]
    }
   ],
   "source": [
    "#2.Relational : <,>,<=,>=,== : True/false\n",
    "\n",
    "x = 23\n",
    "y = 20\n",
    "z = 23\n",
    "\n",
    "print(\"X is Gretter Than Y ? :\" ,x>y)\n",
    "print(\"X is Less Than Y ? :\" ,x<y)\n",
    "print(\"X is equal to Z :\" ,x==z)"
   ]
  },
  {
   "cell_type": "code",
   "execution_count": 28,
   "id": "594bb4d1",
   "metadata": {},
   "outputs": [
    {
     "name": "stdout",
     "output_type": "stream",
     "text": [
      "Enter Two Number :\n",
      "Enter 1st Number10\n",
      "Enter 2nd Number13\n",
      "Add of Two Number is : 23\n"
     ]
    }
   ],
   "source": [
    "#input() :---> String Return :--> + :--> Join krt 2 String la\n",
    "\n",
    "print(\"Enter Two Number :\")\n",
    "\n",
    "num1 = int( input(\"Enter 1st Number\"))\n",
    "num2 =  int(input(\"Enter 2nd Number\") )\n",
    "\n",
    "print(\"Add of Two Number is :\" , (num1+num2)) #23"
   ]
  }
 ],
 "metadata": {
  "kernelspec": {
   "display_name": "Python 3 (ipykernel)",
   "language": "python",
   "name": "python3"
  },
  "language_info": {
   "codemirror_mode": {
    "name": "ipython",
    "version": 3
   },
   "file_extension": ".py",
   "mimetype": "text/x-python",
   "name": "python",
   "nbconvert_exporter": "python",
   "pygments_lexer": "ipython3",
   "version": "3.11.3"
  }
 },
 "nbformat": 4,
 "nbformat_minor": 5
}
