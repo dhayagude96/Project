{
 "cells": [
  {
   "cell_type": "markdown",
   "id": "bdcb3202",
   "metadata": {},
   "source": [
    "# Condtional Flow Statement"
   ]
  },
  {
   "cell_type": "code",
   "execution_count": 5,
   "id": "1be32a32",
   "metadata": {},
   "outputs": [
    {
     "ename": "IndentationError",
     "evalue": "expected an indented block after 'if' statement on line 5 (1661393002.py, line 6)",
     "output_type": "error",
     "traceback": [
      "\u001b[1;36m  Cell \u001b[1;32mIn[5], line 6\u001b[1;36m\u001b[0m\n\u001b[1;33m    print(\"You can Vote Your Age is :\" , age)\u001b[0m\n\u001b[1;37m    ^\u001b[0m\n\u001b[1;31mIndentationError\u001b[0m\u001b[1;31m:\u001b[0m expected an indented block after 'if' statement on line 5\n"
     ]
    }
   ],
   "source": [
    "print(\"Enter Your Age : \")\n",
    "\n",
    "age  = int(input())\n",
    "\n",
    "if age > 18 :\n",
    "print(\"You can Vote Your Age is :\" , age) #IndentationError\n",
    "else :\n",
    "    print(\"You Cannot Vote Your age is : \" , age)"
   ]
  },
  {
   "cell_type": "code",
   "execution_count": 5,
   "id": "c3a5d696",
   "metadata": {},
   "outputs": [
    {
     "name": "stdout",
     "output_type": "stream",
     "text": [
      "Enter Your Age : \n",
      "6\n",
      "You cannot vote Your age is :  6\n"
     ]
    }
   ],
   "source": [
    "print(\"Enter Your Age : \")\n",
    "\n",
    "age  = int(input())\n",
    "\n",
    "if age>18 :\n",
    "    print(\"You can vote Your Age is : \" , age)\n",
    "elif age == 18:\n",
    "    print(\"Your have to wait for 1 year\")\n",
    "else  :\n",
    "    print(\"You cannot vote Your age is : \" , age )\n"
   ]
  },
  {
   "cell_type": "code",
   "execution_count": 11,
   "id": "61f394fb",
   "metadata": {},
   "outputs": [
    {
     "name": "stdout",
     "output_type": "stream",
     "text": [
      "Enter 1st Number :25\n",
      "Enter 2nd Number :23\n",
      "What you want to Perform :subd\n",
      "Plz check with your Input \n"
     ]
    }
   ],
   "source": [
    "#Create Calulator ask user for opeartion : add/sub/div/mult\n",
    "\n",
    "a = int(input(\"Enter 1st Number :\"))\n",
    "\n",
    "b= int(input(\"Enter 2nd Number :\"))\n",
    "\n",
    "user_input = input(\"What you want to Perform :\")\n",
    "\n",
    "if user_input == \"add\" :\n",
    "    print(\"Add of Two Number is : \" , a+b)\n",
    "elif user_input == \"sub\" :\n",
    "    print(\"Sub of Two Number is : \" , a-b)\n",
    "elif user_input == \"div\" :\n",
    "    print(\"Div of Two Number is : \" , a/b)\n",
    "elif user_input == \"mult\" :\n",
    "    print(\"Mult of Two Number is : \" , a*b)\n",
    "else :\n",
    "    print(\"Plz check with your Input \")"
   ]
  },
  {
   "cell_type": "code",
   "execution_count": 12,
   "id": "4dc382cc",
   "metadata": {},
   "outputs": [
    {
     "name": "stdout",
     "output_type": "stream",
     "text": [
      "Enter 1st Number :25\n",
      "Enter 2nd Number :23\n",
      "What you want to Perform :sybd\n",
      "Plz check with your Input \n",
      "Enter 1st Number :25\n",
      "Enter 2nd Number :23\n",
      "What you want to Perform :add\n",
      "Add of Two Number is :  48\n"
     ]
    }
   ],
   "source": [
    "#Create Calulator ask user for opeartion : add/sub/div/mult\n",
    "\n",
    "#Nested if-else\n",
    "\n",
    "a = int(input(\"Enter 1st Number :\"))\n",
    "\n",
    "b= int(input(\"Enter 2nd Number :\"))\n",
    "\n",
    "user_input = input(\"What you want to Perform :\")\n",
    "\n",
    "if user_input == \"add\" :\n",
    "    print(\"Add of Two Number is : \" , a+b)\n",
    "elif user_input == \"sub\" :\n",
    "    print(\"Sub of Two Number is : \" , a-b)\n",
    "elif user_input == \"div\" :\n",
    "    print(\"Div of Two Number is : \" , a/b)\n",
    "elif user_input == \"mult\" :\n",
    "    print(\"Mult of Two Number is : \" , a*b)\n",
    "else :\n",
    "    print(\"Plz check with your Input \")\n",
    "    a = int(input(\"Enter 1st Number :\"))\n",
    "\n",
    "    b= int(input(\"Enter 2nd Number :\"))\n",
    "\n",
    "    user_input = input(\"What you want to Perform :\")\n",
    "\n",
    "    if user_input == \"add\" :\n",
    "        print(\"Add of Two Number is : \" , a+b)\n",
    "    elif user_input == \"sub\" :\n",
    "        print(\"Sub of Two Number is : \" , a-b)\n",
    "    elif user_input == \"div\" :\n",
    "        print(\"Div of Two Number is : \" , a/b)\n",
    "    elif user_input == \"mult\" :\n",
    "        print(\"Mult of Two Number is : \" , a*b)"
   ]
  },
  {
   "cell_type": "code",
   "execution_count": 21,
   "id": "c7a74145",
   "metadata": {},
   "outputs": [
    {
     "name": "stdout",
     "output_type": "stream",
     "text": [
      "Enter Your ID :gafguogoaug\n",
      "Enter Your Pass :123456\n",
      "Check your Email ID\n",
      "Enter Your ID :edutech@gmail.com\n",
      "Welcome to EduTECH\n"
     ]
    }
   ],
   "source": [
    "#Create Login Page for EduTECH : take input as UserID & Pass from user\n",
    "\n",
    "EmailId = \"edutech@gmail.com\"\n",
    "pwd = \"123456\"\n",
    "\n",
    "userID = input(\"Enter Your ID :\")\n",
    "\n",
    "UserPwd = input(\"Enter Your Pass :\")\n",
    "\n",
    "if EmailId == userID and pwd == UserPwd :\n",
    "    print(\"Welcome to EduTECH\")\n",
    "elif EmailId == userID and pwd != UserPwd :\n",
    "    print(\"Check your Password\")\n",
    "    UserPwd = input(\"Enter Your Pass :\")\n",
    "    if UserPwd == pwd :\n",
    "        print(\"Welcome to EduTECH\")\n",
    "    else :\n",
    "        print(\"Password is still Wrong\")\n",
    "        \n",
    "    \n",
    "elif EmailId != userID and pwd == UserPwd :\n",
    "    print(\"Check your Email ID\")\n",
    "    userID = input(\"Enter Your ID :\")\n",
    "    if  EmailId == userID :\n",
    "        print(\"Welcome to EduTECH\")\n",
    "    else :\n",
    "        print(\"Email ID is Still Wrong\")\n",
    "else :\n",
    "    print(\"Check your Crednatials \")"
   ]
  },
  {
   "cell_type": "code",
   "execution_count": null,
   "id": "0061c84f",
   "metadata": {},
   "outputs": [],
   "source": [
    "#1.Write a program to print Emp performance :\n",
    "\"\"\"\n",
    "1.poor\n",
    "2.good\n",
    "3.excellent\n",
    "4.emp of the yr\n",
    "\n",
    "\"\"\"\n",
    "\n",
    "#2.Write a program for app rating & also print user Review with star\n",
    "\n",
    "\"\"\"\n",
    "1.*\n",
    "2.**\n",
    "3.***\n",
    "4.****\n",
    "\n",
    "\n",
    "\"\"\""
   ]
  },
  {
   "cell_type": "code",
   "execution_count": 1,
   "id": "db216ef6",
   "metadata": {},
   "outputs": [
    {
     "name": "stdout",
     "output_type": "stream",
     "text": [
      "Enter Emp Name :Anajli Sharma\n",
      "Enter Emp Rating :3\n",
      "Emp Name is :  Anajli Sharma\n",
      "Emp Performance is : Excellent \n"
     ]
    }
   ],
   "source": [
    "#1.Write a program to print Emp performance :\n",
    "\"\"\"\n",
    "1.poor\n",
    "2.good\n",
    "3.excellent\n",
    "4.emp of the yr\n",
    "\n",
    "\"\"\"\n",
    "\n",
    "emp_name = input(\"Enter Emp Name :\")\n",
    "\n",
    "rating = int(input(\"Enter Emp Rating :\"))\n",
    "\n",
    "\n",
    "if rating == 1 :\n",
    "    print(\"Emp Name is : \" , emp_name)\n",
    "    print(\"Emp Performance is : Poor \"  )\n",
    "elif rating == 2 :\n",
    "    print(\"Emp Name is : \" , emp_name)\n",
    "    print(\"Emp Performance is : Good \"  )\n",
    "elif rating == 3 :\n",
    "    print(\"Emp Name is : \" , emp_name)\n",
    "    print(\"Emp Performance is : Excellent \"  )\n",
    "elif rating == 4 :\n",
    "    print(\"Emp Name is : \" , emp_name)\n",
    "    print(\"Emp Performance is : Emp of the Year\"  )\n",
    "else :\n",
    "    print(\"Check your Input\")"
   ]
  },
  {
   "cell_type": "code",
   "execution_count": 2,
   "id": "31d07826",
   "metadata": {},
   "outputs": [
    {
     "name": "stdout",
     "output_type": "stream",
     "text": [
      "Enter Emp Name :Vishal Dhayagude\n",
      "Enter Number of Leaves : 7\n",
      "Enter Compelted task out of 10 :2\n",
      "Emp name is :  Vishal Dhayagude\n",
      "Emp Performace is : Poor\n"
     ]
    }
   ],
   "source": [
    "emp_name = input(\"Enter Emp Name :\")\n",
    "\n",
    "leave = int(input(\"Enter Number of Leaves : \"))\n",
    "task = int (input(\"Enter Compelted task out of 10 :\"))\n",
    "\n",
    "\"\"\"\n",
    "\n",
    "leave > 3 and task < 5 :---> poor\n",
    "\n",
    "leave > 5 and task < 7 :---> good\n",
    "\n",
    "leave > 8 and task < 8 :---> excellent\n",
    "\n",
    "\n",
    "\n",
    "\n",
    "\"\"\"\n",
    "\n",
    "if leave > 3 and task < 5 :\n",
    "    print(\"Emp name is : \" ,emp_name)\n",
    "    print(\"Emp Performace is : Poor\")\n",
    "elif leave > 5 and task < 7 :\n",
    "    print(\"Emp name is : \" ,emp_name)\n",
    "    print(\"Emp Performace is : Good\")\n",
    "elif leave > 8 and task < 8 :\n",
    "    print(\"Emp name is : \" ,emp_name)\n",
    "    print(\"Emp Performace is : Excellent\")\n",
    "else : \n",
    "    print(\"Enter valid Data\")\n",
    "    \n",
    "    "
   ]
  },
  {
   "cell_type": "code",
   "execution_count": null,
   "id": "851187db",
   "metadata": {},
   "outputs": [],
   "source": []
  }
 ],
 "metadata": {
  "kernelspec": {
   "display_name": "Python 3 (ipykernel)",
   "language": "python",
   "name": "python3"
  },
  "language_info": {
   "codemirror_mode": {
    "name": "ipython",
    "version": 3
   },
   "file_extension": ".py",
   "mimetype": "text/x-python",
   "name": "python",
   "nbconvert_exporter": "python",
   "pygments_lexer": "ipython3",
   "version": "3.11.3"
  }
 },
 "nbformat": 4,
 "nbformat_minor": 5
}
