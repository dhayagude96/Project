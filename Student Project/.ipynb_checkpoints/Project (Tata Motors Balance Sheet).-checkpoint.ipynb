{
 "cells": [
  {
   "cell_type": "code",
   "execution_count": 1,
   "id": "ce1c6c2e",
   "metadata": {},
   "outputs": [],
   "source": [
    "import pandas as pd"
   ]
  },
  {
   "cell_type": "code",
   "execution_count": null,
   "id": "21099d9f",
   "metadata": {},
   "outputs": [],
   "source": [
    "df = pd.read_html(\"https://www.moneycontrol.com/financials/tatamotors/consolidated-balance-sheetVI/TM03#TM03\")\n",
    "data = df[0]\n",
    "df1=data.transpose()\n",
    "df1.to_csv(\"C:/Users/Admin/Documents/paython/PANDAS/TataMotors.csv\")"
   ]
  },
  {
   "cell_type": "code",
   "execution_count": 3,
   "id": "1efa00ad",
   "metadata": {},
   "outputs": [
    {
     "data": {
      "text/html": [
       "<div>\n",
       "<style scoped>\n",
       "    .dataframe tbody tr th:only-of-type {\n",
       "        vertical-align: middle;\n",
       "    }\n",
       "\n",
       "    .dataframe tbody tr th {\n",
       "        vertical-align: top;\n",
       "    }\n",
       "\n",
       "    .dataframe thead th {\n",
       "        text-align: right;\n",
       "    }\n",
       "</style>\n",
       "<table border=\"1\" class=\"dataframe\">\n",
       "  <thead>\n",
       "    <tr style=\"text-align: right;\">\n",
       "      <th></th>\n",
       "      <th>Balance Sheet of Tata Motors (in Rs. Cr.)</th>\n",
       "      <th>Equity Share Capital</th>\n",
       "      <th>Total Share Capital</th>\n",
       "      <th>Reserves and Surplus</th>\n",
       "      <th>Total Reserves and Surplus</th>\n",
       "      <th>Total Shareholders Funds</th>\n",
       "      <th>Minority Interest</th>\n",
       "      <th>Long Term Borrowings</th>\n",
       "      <th>Deferred Tax Liabilities [Net]</th>\n",
       "      <th>Other Long Term Liabilities</th>\n",
       "      <th>...</th>\n",
       "      <th>Short Term Loans And Advances</th>\n",
       "      <th>OtherCurrentAssets</th>\n",
       "      <th>Total Current Assets</th>\n",
       "      <th>Total Assets</th>\n",
       "      <th>Contingent Liabilities</th>\n",
       "      <th>Bonus Equity Share Capital</th>\n",
       "      <th>Non-Current Investments Quoted Market Value</th>\n",
       "      <th>Non-Current Investments Unquoted Book Value</th>\n",
       "      <th>Current Investments Quoted Market Value</th>\n",
       "      <th>Current Investments Unquoted Book Value</th>\n",
       "    </tr>\n",
       "  </thead>\n",
       "  <tbody>\n",
       "    <tr>\n",
       "      <th>0</th>\n",
       "      <td>23-Mar</td>\n",
       "      <td>766.02</td>\n",
       "      <td>766.02</td>\n",
       "      <td>44553.31</td>\n",
       "      <td>44553.31</td>\n",
       "      <td>45319.33</td>\n",
       "      <td>7277.72</td>\n",
       "      <td>88695.81</td>\n",
       "      <td>1406.95</td>\n",
       "      <td>25155.25</td>\n",
       "      <td>...</td>\n",
       "      <td>2302.84</td>\n",
       "      <td>36878.40</td>\n",
       "      <td>151528.47</td>\n",
       "      <td>336081.38</td>\n",
       "      <td>39477.30</td>\n",
       "      <td>111.29</td>\n",
       "      <td>1733.69</td>\n",
       "      <td>1131.50</td>\n",
       "      <td>134.45</td>\n",
       "      <td>18703.86</td>\n",
       "    </tr>\n",
       "    <tr>\n",
       "      <th>1</th>\n",
       "      <td>22-Mar</td>\n",
       "      <td>765.88</td>\n",
       "      <td>765.88</td>\n",
       "      <td>43788.97</td>\n",
       "      <td>43788.97</td>\n",
       "      <td>44554.85</td>\n",
       "      <td>4271.06</td>\n",
       "      <td>97759.17</td>\n",
       "      <td>1558.44</td>\n",
       "      <td>18831.32</td>\n",
       "      <td>...</td>\n",
       "      <td>1671.93</td>\n",
       "      <td>34244.74</td>\n",
       "      <td>146977.54</td>\n",
       "      <td>330619.93</td>\n",
       "      <td>18470.45</td>\n",
       "      <td>111.29</td>\n",
       "      <td>1345.52</td>\n",
       "      <td>975.40</td>\n",
       "      <td>685.62</td>\n",
       "      <td>22023.60</td>\n",
       "    </tr>\n",
       "    <tr>\n",
       "      <th>2</th>\n",
       "      <td>21-Mar</td>\n",
       "      <td>765.81</td>\n",
       "      <td>765.81</td>\n",
       "      <td>54480.91</td>\n",
       "      <td>54480.91</td>\n",
       "      <td>55246.72</td>\n",
       "      <td>1573.49</td>\n",
       "      <td>93112.77</td>\n",
       "      <td>1555.89</td>\n",
       "      <td>20280.99</td>\n",
       "      <td>...</td>\n",
       "      <td>1749.40</td>\n",
       "      <td>30526.92</td>\n",
       "      <td>146887.64</td>\n",
       "      <td>343125.80</td>\n",
       "      <td>17773.75</td>\n",
       "      <td>111.29</td>\n",
       "      <td>499.39</td>\n",
       "      <td>868.91</td>\n",
       "      <td>0.00</td>\n",
       "      <td>19051.19</td>\n",
       "    </tr>\n",
       "    <tr>\n",
       "      <th>3</th>\n",
       "      <td>20-Mar</td>\n",
       "      <td>719.54</td>\n",
       "      <td>719.54</td>\n",
       "      <td>61491.49</td>\n",
       "      <td>61491.49</td>\n",
       "      <td>63078.53</td>\n",
       "      <td>813.56</td>\n",
       "      <td>83315.62</td>\n",
       "      <td>1941.87</td>\n",
       "      <td>17780.94</td>\n",
       "      <td>...</td>\n",
       "      <td>935.25</td>\n",
       "      <td>25433.92</td>\n",
       "      <td>119587.25</td>\n",
       "      <td>322121.26</td>\n",
       "      <td>15590.75</td>\n",
       "      <td>111.29</td>\n",
       "      <td>316.46</td>\n",
       "      <td>711.59</td>\n",
       "      <td>0.00</td>\n",
       "      <td>10861.54</td>\n",
       "    </tr>\n",
       "    <tr>\n",
       "      <th>4</th>\n",
       "      <td>19-Mar</td>\n",
       "      <td>679.22</td>\n",
       "      <td>679.22</td>\n",
       "      <td>59500.34</td>\n",
       "      <td>59500.34</td>\n",
       "      <td>60179.56</td>\n",
       "      <td>523.06</td>\n",
       "      <td>70817.50</td>\n",
       "      <td>1491.04</td>\n",
       "      <td>16871.09</td>\n",
       "      <td>...</td>\n",
       "      <td>1268.70</td>\n",
       "      <td>21973.91</td>\n",
       "      <td>123431.16</td>\n",
       "      <td>307194.53</td>\n",
       "      <td>17148.64</td>\n",
       "      <td>111.29</td>\n",
       "      <td>726.53</td>\n",
       "      <td>770.98</td>\n",
       "      <td>0.92</td>\n",
       "      <td>8937.41</td>\n",
       "    </tr>\n",
       "  </tbody>\n",
       "</table>\n",
       "<p>5 rows × 41 columns</p>\n",
       "</div>"
      ],
      "text/plain": [
       "  Balance Sheet of Tata Motors (in Rs. Cr.)  Equity Share Capital  \\\n",
       "0                                    23-Mar                766.02   \n",
       "1                                    22-Mar                765.88   \n",
       "2                                    21-Mar                765.81   \n",
       "3                                    20-Mar                719.54   \n",
       "4                                    19-Mar                679.22   \n",
       "\n",
       "   Total Share Capital  Reserves and Surplus  Total Reserves and Surplus  \\\n",
       "0               766.02              44553.31                    44553.31   \n",
       "1               765.88              43788.97                    43788.97   \n",
       "2               765.81              54480.91                    54480.91   \n",
       "3               719.54              61491.49                    61491.49   \n",
       "4               679.22              59500.34                    59500.34   \n",
       "\n",
       "   Total Shareholders Funds  Minority Interest  Long Term Borrowings  \\\n",
       "0                  45319.33            7277.72              88695.81   \n",
       "1                  44554.85            4271.06              97759.17   \n",
       "2                  55246.72            1573.49              93112.77   \n",
       "3                  63078.53             813.56              83315.62   \n",
       "4                  60179.56             523.06              70817.50   \n",
       "\n",
       "   Deferred Tax Liabilities [Net]  Other Long Term Liabilities  ...  \\\n",
       "0                         1406.95                     25155.25  ...   \n",
       "1                         1558.44                     18831.32  ...   \n",
       "2                         1555.89                     20280.99  ...   \n",
       "3                         1941.87                     17780.94  ...   \n",
       "4                         1491.04                     16871.09  ...   \n",
       "\n",
       "   Short Term Loans And Advances  OtherCurrentAssets  Total Current Assets  \\\n",
       "0                        2302.84            36878.40             151528.47   \n",
       "1                        1671.93            34244.74             146977.54   \n",
       "2                        1749.40            30526.92             146887.64   \n",
       "3                         935.25            25433.92             119587.25   \n",
       "4                        1268.70            21973.91             123431.16   \n",
       "\n",
       "   Total Assets  Contingent Liabilities  Bonus Equity Share Capital  \\\n",
       "0     336081.38                39477.30                      111.29   \n",
       "1     330619.93                18470.45                      111.29   \n",
       "2     343125.80                17773.75                      111.29   \n",
       "3     322121.26                15590.75                      111.29   \n",
       "4     307194.53                17148.64                      111.29   \n",
       "\n",
       "   Non-Current Investments Quoted Market Value  \\\n",
       "0                                      1733.69   \n",
       "1                                      1345.52   \n",
       "2                                       499.39   \n",
       "3                                       316.46   \n",
       "4                                       726.53   \n",
       "\n",
       "   Non-Current Investments Unquoted Book Value  \\\n",
       "0                                      1131.50   \n",
       "1                                       975.40   \n",
       "2                                       868.91   \n",
       "3                                       711.59   \n",
       "4                                       770.98   \n",
       "\n",
       "   Current Investments Quoted Market Value  \\\n",
       "0                                   134.45   \n",
       "1                                   685.62   \n",
       "2                                     0.00   \n",
       "3                                     0.00   \n",
       "4                                     0.92   \n",
       "\n",
       "   Current Investments Unquoted Book Value  \n",
       "0                                 18703.86  \n",
       "1                                 22023.60  \n",
       "2                                 19051.19  \n",
       "3                                 10861.54  \n",
       "4                                  8937.41  \n",
       "\n",
       "[5 rows x 41 columns]"
      ]
     },
     "execution_count": 3,
     "metadata": {},
     "output_type": "execute_result"
    }
   ],
   "source": [
    "df = pd.read_csv(\"C:/Users/Admin/Documents/paython/PANDAS/TataMotors.csv\")\n",
    "df"
   ]
  },
  {
   "cell_type": "code",
   "execution_count": 7,
   "id": "4e6867a7",
   "metadata": {},
   "outputs": [
    {
     "name": "stdout",
     "output_type": "stream",
     "text": [
      "Total Capital Share From Year 2019-2023 Of TataMotors : 739.2940000000001\n"
     ]
    }
   ],
   "source": [
    "print(\"Total Capital Share From Year 2019-2023 Of TataMotors :\" ,df['Total Share Capital'].mean())"
   ]
  },
  {
   "cell_type": "code",
   "execution_count": 47,
   "id": "103e6a6b",
   "metadata": {},
   "outputs": [
    {
     "data": {
      "text/plain": [
       "<Axes: >"
      ]
     },
     "execution_count": 47,
     "metadata": {},
     "output_type": "execute_result"
    },
    {
     "data": {
      "image/png": "[encoded data removed]",
      "text/plain": [
       "<Figure size 640x480 with 1 Axes>"
      ]
     },
     "metadata": {},
     "output_type": "display_data"
    }
   ],
   "source": [
    "df['Total Share Capital'].plot(kind=\"barh\")"
   ]
  },
  {
   "cell_type": "code",
   "execution_count": 9,
   "id": "cbe55681",
   "metadata": {},
   "outputs": [
    {
     "name": "stdout",
     "output_type": "stream",
     "text": [
      "Total Current Liabilities 2023 :  155027.33\n"
     ]
    }
   ],
   "source": [
    "print(\"Total Current Liabilities 2023 : \" ,df['Total Current Liabilities'].iloc[0])\n"
   ]
  },
  {
   "cell_type": "code",
   "execution_count": 10,
   "id": "fb7b6542",
   "metadata": {},
   "outputs": [
    {
     "data": {
      "text/html": [
       "<div>\n",
       "<style scoped>\n",
       "    .dataframe tbody tr th:only-of-type {\n",
       "        vertical-align: middle;\n",
       "    }\n",
       "\n",
       "    .dataframe tbody tr th {\n",
       "        vertical-align: top;\n",
       "    }\n",
       "\n",
       "    .dataframe thead th {\n",
       "        text-align: right;\n",
       "    }\n",
       "</style>\n",
       "<table border=\"1\" class=\"dataframe\">\n",
       "  <thead>\n",
       "    <tr style=\"text-align: right;\">\n",
       "      <th></th>\n",
       "      <th>Balance Sheet of Tata Motors (in Rs. Cr.)</th>\n",
       "      <th>Total Current Liabilities</th>\n",
       "      <th>Total Non-Current Liabilities</th>\n",
       "    </tr>\n",
       "  </thead>\n",
       "  <tbody>\n",
       "    <tr>\n",
       "      <th>0</th>\n",
       "      <td>23-Mar</td>\n",
       "      <td>155027.33</td>\n",
       "      <td>128454.54</td>\n",
       "    </tr>\n",
       "    <tr>\n",
       "      <th>1</th>\n",
       "      <td>22-Mar</td>\n",
       "      <td>150682.81</td>\n",
       "      <td>131104.82</td>\n",
       "    </tr>\n",
       "    <tr>\n",
       "      <th>2</th>\n",
       "      <td>21-Mar</td>\n",
       "      <td>157749.18</td>\n",
       "      <td>128556.41</td>\n",
       "    </tr>\n",
       "    <tr>\n",
       "      <th>3</th>\n",
       "      <td>20-Mar</td>\n",
       "      <td>140454.05</td>\n",
       "      <td>117775.12</td>\n",
       "    </tr>\n",
       "    <tr>\n",
       "      <th>4</th>\n",
       "      <td>19-Mar</td>\n",
       "      <td>145457.43</td>\n",
       "      <td>101034.48</td>\n",
       "    </tr>\n",
       "  </tbody>\n",
       "</table>\n",
       "</div>"
      ],
      "text/plain": [
       "  Balance Sheet of Tata Motors (in Rs. Cr.)  Total Current Liabilities  \\\n",
       "0                                    23-Mar                  155027.33   \n",
       "1                                    22-Mar                  150682.81   \n",
       "2                                    21-Mar                  157749.18   \n",
       "3                                    20-Mar                  140454.05   \n",
       "4                                    19-Mar                  145457.43   \n",
       "\n",
       "   Total Non-Current Liabilities  \n",
       "0                      128454.54  \n",
       "1                      131104.82  \n",
       "2                      128556.41  \n",
       "3                      117775.12  \n",
       "4                      101034.48  "
      ]
     },
     "execution_count": 10,
     "metadata": {},
     "output_type": "execute_result"
    }
   ],
   "source": [
    "P1 = df[['Balance Sheet of Tata Motors (in Rs. Cr.)','Total Current Liabilities','Total Non-Current Liabilities',]]\n",
    "P1"
   ]
  },
  {
   "cell_type": "code",
   "execution_count": 17,
   "id": "8fbbd12e",
   "metadata": {},
   "outputs": [
    {
     "data": {
      "text/plain": [
       "0    45319.33\n",
       "1    44554.85\n",
       "2    55246.72\n",
       "3    63078.53\n",
       "4    60179.56\n",
       "Name: Total Shareholders Funds, dtype: float64"
      ]
     },
     "execution_count": 17,
     "metadata": {},
     "output_type": "execute_result"
    }
   ],
   "source": [
    "df['Total Shareholders Funds']\n"
   ]
  },
  {
   "cell_type": "code",
   "execution_count": 21,
   "id": "24e2fec4",
   "metadata": {},
   "outputs": [
    {
     "data": {
      "text/plain": [
       "<Axes: ylabel='Total Shareholders Funds'>"
      ]
     },
     "execution_count": 21,
     "metadata": {},
     "output_type": "execute_result"
    },
    {
     "data": {
      "image/png": "[encoded data removed]",
      "text/plain": [
       "<Figure size 640x480 with 1 Axes>"
      ]
     },
     "metadata": {},
     "output_type": "display_data"
    }
   ],
   "source": [
    "df['Total Shareholders Funds'].plot(kind='pie')\n"
   ]
  },
  {
   "cell_type": "code",
   "execution_count": 24,
   "id": "71d53572",
   "metadata": {},
   "outputs": [
    {
     "name": "stdout",
     "output_type": "stream",
     "text": [
      "Current Investments of 2023 :  18838.31\n"
     ]
    }
   ],
   "source": [
    "print(\"Current Investments of 2023 : \" , df['Current Investments'].iloc[0])\n"
   ]
  },
  {
   "cell_type": "code",
   "execution_count": 27,
   "id": "59ae32b8",
   "metadata": {},
   "outputs": [
    {
     "data": {
      "text/html": [
       "<div>\n",
       "<style scoped>\n",
       "    .dataframe tbody tr th:only-of-type {\n",
       "        vertical-align: middle;\n",
       "    }\n",
       "\n",
       "    .dataframe tbody tr th {\n",
       "        vertical-align: top;\n",
       "    }\n",
       "\n",
       "    .dataframe thead th {\n",
       "        text-align: right;\n",
       "    }\n",
       "</style>\n",
       "<table border=\"1\" class=\"dataframe\">\n",
       "  <thead>\n",
       "    <tr style=\"text-align: right;\">\n",
       "      <th></th>\n",
       "      <th>Balance Sheet of Tata Motors (in Rs. Cr.)</th>\n",
       "      <th>Total Assets</th>\n",
       "    </tr>\n",
       "  </thead>\n",
       "  <tbody>\n",
       "    <tr>\n",
       "      <th>0</th>\n",
       "      <td>23-Mar</td>\n",
       "      <td>336081.38</td>\n",
       "    </tr>\n",
       "    <tr>\n",
       "      <th>1</th>\n",
       "      <td>22-Mar</td>\n",
       "      <td>330619.93</td>\n",
       "    </tr>\n",
       "    <tr>\n",
       "      <th>2</th>\n",
       "      <td>21-Mar</td>\n",
       "      <td>343125.80</td>\n",
       "    </tr>\n",
       "    <tr>\n",
       "      <th>3</th>\n",
       "      <td>20-Mar</td>\n",
       "      <td>322121.26</td>\n",
       "    </tr>\n",
       "    <tr>\n",
       "      <th>4</th>\n",
       "      <td>19-Mar</td>\n",
       "      <td>307194.53</td>\n",
       "    </tr>\n",
       "  </tbody>\n",
       "</table>\n",
       "</div>"
      ],
      "text/plain": [
       "  Balance Sheet of Tata Motors (in Rs. Cr.)  Total Assets\n",
       "0                                    23-Mar     336081.38\n",
       "1                                    22-Mar     330619.93\n",
       "2                                    21-Mar     343125.80\n",
       "3                                    20-Mar     322121.26\n",
       "4                                    19-Mar     307194.53"
      ]
     },
     "execution_count": 27,
     "metadata": {},
     "output_type": "execute_result"
    }
   ],
   "source": [
    "df[['Balance Sheet of Tata Motors (in Rs. Cr.)','Total Assets']]\n"
   ]
  },
  {
   "cell_type": "code",
   "execution_count": 33,
   "id": "39d70380",
   "metadata": {},
   "outputs": [
    {
     "name": "stdout",
     "output_type": "stream",
     "text": [
      "Max value of total assets in 2023-2019:  343125.8\n"
     ]
    }
   ],
   "source": [
    "print(\"Max value of total assets in 2023-2019: \" , df['Total Assets'].max())\n"
   ]
  },
  {
   "cell_type": "code",
   "execution_count": null,
   "id": "d3399652",
   "metadata": {},
   "outputs": [],
   "source": [
    "df.value_count()"
   ]
  },
  {
   "cell_type": "code",
   "execution_count": 37,
   "id": "d291b2ce",
   "metadata": {},
   "outputs": [
    {
     "data": {
      "text/plain": [
       "<Axes: xlabel='Balance Sheet of Tata Motors (in Rs. Cr.)'>"
      ]
     },
     "execution_count": 37,
     "metadata": {},
     "output_type": "execute_result"
    },
    {
     "data": {
      "image/png": "[encoded data removed]",
      "text/plain": [
       "<Figure size 640x480 with 1 Axes>"
      ]
     },
     "metadata": {},
     "output_type": "display_data"
    }
   ],
   "source": [
    "df[['Balance Sheet of Tata Motors (in Rs. Cr.)','Total Share Capital']].plot(kind=\"bar\",x='Balance Sheet of Tata Motors (in Rs. Cr.)',\n",
    "                                                                            y='Total Share Capital')"
   ]
  },
  {
   "cell_type": "code",
   "execution_count": 34,
   "id": "22f91711",
   "metadata": {},
   "outputs": [
    {
     "data": {
      "text/html": [
       "<div>\n",
       "<style scoped>\n",
       "    .dataframe tbody tr th:only-of-type {\n",
       "        vertical-align: middle;\n",
       "    }\n",
       "\n",
       "    .dataframe tbody tr th {\n",
       "        vertical-align: top;\n",
       "    }\n",
       "\n",
       "    .dataframe thead th {\n",
       "        text-align: right;\n",
       "    }\n",
       "</style>\n",
       "<table border=\"1\" class=\"dataframe\">\n",
       "  <thead>\n",
       "    <tr style=\"text-align: right;\">\n",
       "      <th></th>\n",
       "      <th>Balance Sheet of Tata Motors (in Rs. Cr.)</th>\n",
       "      <th>Long Term Borrowings</th>\n",
       "      <th>Short Term Borrowings</th>\n",
       "    </tr>\n",
       "  </thead>\n",
       "  <tbody>\n",
       "    <tr>\n",
       "      <th>0</th>\n",
       "      <td>23-Mar</td>\n",
       "      <td>88695.81</td>\n",
       "      <td>36964.66</td>\n",
       "    </tr>\n",
       "    <tr>\n",
       "      <th>1</th>\n",
       "      <td>22-Mar</td>\n",
       "      <td>97759.17</td>\n",
       "      <td>41917.87</td>\n",
       "    </tr>\n",
       "    <tr>\n",
       "      <th>2</th>\n",
       "      <td>21-Mar</td>\n",
       "      <td>93112.77</td>\n",
       "      <td>21662.79</td>\n",
       "    </tr>\n",
       "    <tr>\n",
       "      <th>3</th>\n",
       "      <td>20-Mar</td>\n",
       "      <td>83315.62</td>\n",
       "      <td>16362.53</td>\n",
       "    </tr>\n",
       "    <tr>\n",
       "      <th>4</th>\n",
       "      <td>19-Mar</td>\n",
       "      <td>70817.50</td>\n",
       "      <td>20150.26</td>\n",
       "    </tr>\n",
       "  </tbody>\n",
       "</table>\n",
       "</div>"
      ],
      "text/plain": [
       "  Balance Sheet of Tata Motors (in Rs. Cr.)  Long Term Borrowings  \\\n",
       "0                                    23-Mar              88695.81   \n",
       "1                                    22-Mar              97759.17   \n",
       "2                                    21-Mar              93112.77   \n",
       "3                                    20-Mar              83315.62   \n",
       "4                                    19-Mar              70817.50   \n",
       "\n",
       "   Short Term Borrowings  \n",
       "0               36964.66  \n",
       "1               41917.87  \n",
       "2               21662.79  \n",
       "3               16362.53  \n",
       "4               20150.26  "
      ]
     },
     "execution_count": 34,
     "metadata": {},
     "output_type": "execute_result"
    }
   ],
   "source": [
    "df[['Balance Sheet of Tata Motors (in Rs. Cr.)','Long Term Borrowings','Short Term Borrowings']]"
   ]
  },
  {
   "cell_type": "code",
   "execution_count": 59,
   "id": "d223db83",
   "metadata": {},
   "outputs": [
    {
     "name": "stdout",
     "output_type": "stream",
     "text": [
      "Long Term Borrowings Pay in 2021 : 93112.77\n",
      "Short Term Borrowings Pay in 2023 : 36964.66\n"
     ]
    }
   ],
   "source": [
    "print(\"Long Term Borrowings Pay in 2021 :\" , df['Long Term Borrowings'].iloc[2])\n",
    "print(\"Short Term Borrowings Pay in 2023 :\" , df['Short Term Borrowings'].iloc[0])\n"
   ]
  },
  {
   "cell_type": "code",
   "execution_count": 50,
   "id": "e90f7028",
   "metadata": {},
   "outputs": [
    {
     "data": {
      "text/plain": [
       "<Axes: xlabel='Balance Sheet of Tata Motors (in Rs. Cr.)'>"
      ]
     },
     "execution_count": 50,
     "metadata": {},
     "output_type": "execute_result"
    },
    {
     "data": {
      "image/png": "[encoded data removed]",
      "text/plain": [
       "<Figure size 640x480 with 1 Axes>"
      ]
     },
     "metadata": {},
     "output_type": "display_data"
    }
   ],
   "source": [
    "df.plot(y=[\"Long Term Borrowings\",\"Short Term Borrowings\"],x=\"Balance Sheet of Tata Motors (in Rs. Cr.)\",kind=\"bar\")\n"
   ]
  },
  {
   "cell_type": "code",
   "execution_count": 63,
   "id": "1449941a",
   "metadata": {},
   "outputs": [
    {
     "data": {
      "text/plain": [
       "53675.797999999995"
      ]
     },
     "execution_count": 63,
     "metadata": {},
     "output_type": "execute_result"
    }
   ],
   "source": [
    "df['Total Shareholders Funds'].mean()"
   ]
  },
  {
   "cell_type": "code",
   "execution_count": 87,
   "id": "b2c63738",
   "metadata": {},
   "outputs": [
    {
     "name": "stdout",
     "output_type": "stream",
     "text": [
      "Investments of Tata Motors in last 5 years :  \n",
      "    Current Investments  Non-Current Investments\n",
      "0             18838.31                  7540.85\n",
      "1             22709.22                  6670.31\n",
      "2             19051.19                  5569.09\n",
      "3             10861.54                  5446.94\n",
      "4              9529.83                  6240.89\n"
     ]
    }
   ],
   "source": [
    "#Current Investments\n",
    "\n",
    "print(\"Investments of Tata Motors in last 5 years : \",'\\n' , df[['Current Investments','Non-Current Investments']])"
   ]
  },
  {
   "cell_type": "code",
   "execution_count": 103,
   "id": "1e555f8b",
   "metadata": {},
   "outputs": [
    {
     "data": {
      "text/plain": [
       "<Axes: ylabel='Balance Sheet of Tata Motors (in Rs. Cr.)'>"
      ]
     },
     "execution_count": 103,
     "metadata": {},
     "output_type": "execute_result"
    },
    {
     "data": {
      "image/png": "[encoded data removed]",
      "text/plain": [
       "<Figure size 640x480 with 1 Axes>"
      ]
     },
     "metadata": {},
     "output_type": "display_data"
    }
   ],
   "source": [
    "df.plot(y=[\"Current Investments\",\"Non-Current Investments\"],x=\"Balance Sheet of Tata Motors (in Rs. Cr.)\",kind=\"barh\")"
   ]
  },
  {
   "cell_type": "code",
   "execution_count": 120,
   "id": "ef46a290",
   "metadata": {},
   "outputs": [
    {
     "name": "stdout",
     "output_type": "stream",
     "text": [
      "Sort highest to lowest current investment of tata motors:  \n",
      " 1    22709.22\n",
      "2    19051.19\n",
      "0    18838.31\n",
      "3    10861.54\n",
      "4     9529.83\n",
      "Name: Current Investments, dtype: float64\n"
     ]
    }
   ],
   "source": [
    "print(\"Sort highest to lowest current investment of tata motors: \", '\\n' , df['Current Investments'].nlargest())"
   ]
  },
  {
   "cell_type": "code",
   "execution_count": 121,
   "id": "9430af60",
   "metadata": {},
   "outputs": [
    {
     "name": "stdout",
     "output_type": "stream",
     "text": [
      "Sort lowest to highest non current investment of tata motors:  \n",
      " 3    5446.94\n",
      "2    5569.09\n",
      "4    6240.89\n",
      "1    6670.31\n",
      "0    7540.85\n",
      "Name: Non-Current Investments, dtype: float64\n"
     ]
    }
   ],
   "source": [
    "print(\"Sort lowest to highest non current investment of tata motors: \", '\\n' , df['Non-Current Investments'].nsmallest())"
   ]
  },
  {
   "cell_type": "code",
   "execution_count": 5,
   "id": "9f80f2bf",
   "metadata": {},
   "outputs": [
    {
     "data": {
      "text/html": [
       "<div>\n",
       "<style scoped>\n",
       "    .dataframe tbody tr th:only-of-type {\n",
       "        vertical-align: middle;\n",
       "    }\n",
       "\n",
       "    .dataframe tbody tr th {\n",
       "        vertical-align: top;\n",
       "    }\n",
       "\n",
       "    .dataframe thead th {\n",
       "        text-align: right;\n",
       "    }\n",
       "</style>\n",
       "<table border=\"1\" class=\"dataframe\">\n",
       "  <thead>\n",
       "    <tr style=\"text-align: right;\">\n",
       "      <th></th>\n",
       "      <th>Balance Sheet of Tata Motors (in Rs. Cr.)</th>\n",
       "      <th>Total Shareholders Funds</th>\n",
       "    </tr>\n",
       "  </thead>\n",
       "  <tbody>\n",
       "    <tr>\n",
       "      <th>0</th>\n",
       "      <td>23-Mar</td>\n",
       "      <td>45319.33</td>\n",
       "    </tr>\n",
       "    <tr>\n",
       "      <th>1</th>\n",
       "      <td>22-Mar</td>\n",
       "      <td>44554.85</td>\n",
       "    </tr>\n",
       "    <tr>\n",
       "      <th>2</th>\n",
       "      <td>21-Mar</td>\n",
       "      <td>55246.72</td>\n",
       "    </tr>\n",
       "    <tr>\n",
       "      <th>3</th>\n",
       "      <td>20-Mar</td>\n",
       "      <td>63078.53</td>\n",
       "    </tr>\n",
       "    <tr>\n",
       "      <th>4</th>\n",
       "      <td>19-Mar</td>\n",
       "      <td>60179.56</td>\n",
       "    </tr>\n",
       "  </tbody>\n",
       "</table>\n",
       "</div>"
      ],
      "text/plain": [
       "  Balance Sheet of Tata Motors (in Rs. Cr.)  Total Shareholders Funds\n",
       "0                                    23-Mar                  45319.33\n",
       "1                                    22-Mar                  44554.85\n",
       "2                                    21-Mar                  55246.72\n",
       "3                                    20-Mar                  63078.53\n",
       "4                                    19-Mar                  60179.56"
      ]
     },
     "execution_count": 5,
     "metadata": {},
     "output_type": "execute_result"
    }
   ],
   "source": [
    "df[['Balance Sheet of Tata Motors (in Rs. Cr.)','Total Shareholders Funds']]"
   ]
  },
  {
   "cell_type": "code",
   "execution_count": 24,
   "id": "7ff84ebb",
   "metadata": {},
   "outputs": [
    {
     "data": {
      "text/plain": [
       "1    44554.85\n",
       "0    45319.33\n",
       "2    55246.72\n",
       "4    60179.56\n",
       "3    63078.53\n",
       "Name: Total Shareholders Funds, dtype: float64"
      ]
     },
     "execution_count": 24,
     "metadata": {},
     "output_type": "execute_result"
    }
   ],
   "source": [
    "df['Total Shareholders Funds'].sort_values()"
   ]
  },
  {
   "cell_type": "code",
   "execution_count": 26,
   "id": "dc6f079d",
   "metadata": {},
   "outputs": [
    {
     "name": "stdout",
     "output_type": "stream",
     "text": [
      "minimum shareholder funds of tata motors last 5 years: 44554.85\n"
     ]
    }
   ],
   "source": [
    "print(\"minimum shareholder funds of tata motors last 5 years:\" , df['Total Shareholders Funds'].min())"
   ]
  },
  {
   "cell_type": "code",
   "execution_count": 11,
   "id": "51d8d42f",
   "metadata": {},
   "outputs": [
    {
     "name": "stdout",
     "output_type": "stream",
     "text": [
      "Number of rows in student_details : 5\n",
      "Number of rows in student_details : 41\n",
      "\n"
     ]
    }
   ],
   "source": [
    "rows,columns = df.shape\n",
    "print(\"Number of rows in student_details :\" , rows)\n",
    "print(\"Number of rows in student_details :\" , columns)\n",
    "print()"
   ]
  },
  {
   "cell_type": "code",
   "execution_count": 27,
   "id": "6285d399",
   "metadata": {},
   "outputs": [
    {
     "data": {
      "text/plain": [
       "Index(['Balance Sheet of Tata Motors (in Rs. Cr.)', 'Equity Share Capital',\n",
       "       'Total Share Capital', 'Reserves and Surplus',\n",
       "       'Total Reserves and Surplus', 'Total Shareholders Funds',\n",
       "       'Minority Interest', 'Long Term Borrowings',\n",
       "       'Deferred Tax Liabilities [Net]', 'Other Long Term Liabilities',\n",
       "       'Long Term Provisions', 'Total Non-Current Liabilities',\n",
       "       'Short Term Borrowings', 'Trade Payables', 'Other Current Liabilities',\n",
       "       'Short Term Provisions', 'Total Current Liabilities',\n",
       "       'Total Capital And Liabilities', 'Tangible Assets', 'Intangible Assets',\n",
       "       'Capital Work-In-Progress', 'Fixed Assets', 'Non-Current Investments',\n",
       "       'Deferred Tax Assets [Net]', 'Long Term Loans And Advances',\n",
       "       'Other Non-Current Assets', 'Total Non-Current Assets',\n",
       "       'Current Investments', 'Inventories', 'Trade Receivables',\n",
       "       'Cash And Cash Equivalents', 'Short Term Loans And Advances',\n",
       "       'OtherCurrentAssets', 'Total Current Assets', 'Total Assets',\n",
       "       'Contingent Liabilities', 'Bonus Equity Share Capital',\n",
       "       'Non-Current Investments Quoted Market Value',\n",
       "       'Non-Current Investments Unquoted Book Value',\n",
       "       'Current Investments Quoted Market Value',\n",
       "       'Current Investments Unquoted Book Value'],\n",
       "      dtype='object')"
      ]
     },
     "execution_count": 27,
     "metadata": {},
     "output_type": "execute_result"
    }
   ],
   "source": [
    "df.columns"
   ]
  },
  {
   "cell_type": "code",
   "execution_count": 34,
   "id": "04527312",
   "metadata": {},
   "outputs": [
    {
     "data": {
      "text/html": [
       "<div>\n",
       "<style scoped>\n",
       "    .dataframe tbody tr th:only-of-type {\n",
       "        vertical-align: middle;\n",
       "    }\n",
       "\n",
       "    .dataframe tbody tr th {\n",
       "        vertical-align: top;\n",
       "    }\n",
       "\n",
       "    .dataframe thead th {\n",
       "        text-align: right;\n",
       "    }\n",
       "</style>\n",
       "<table border=\"1\" class=\"dataframe\">\n",
       "  <thead>\n",
       "    <tr style=\"text-align: right;\">\n",
       "      <th></th>\n",
       "      <th>Non-Current Investments Quoted Market Value</th>\n",
       "      <th>Non-Current Investments Unquoted Book Value</th>\n",
       "      <th>Current Investments Quoted Market Value</th>\n",
       "      <th>Current Investments Unquoted Book Value</th>\n",
       "    </tr>\n",
       "  </thead>\n",
       "  <tbody>\n",
       "    <tr>\n",
       "      <th>0</th>\n",
       "      <td>1733.69</td>\n",
       "      <td>1131.50</td>\n",
       "      <td>134.45</td>\n",
       "      <td>18703.86</td>\n",
       "    </tr>\n",
       "    <tr>\n",
       "      <th>1</th>\n",
       "      <td>1345.52</td>\n",
       "      <td>975.40</td>\n",
       "      <td>685.62</td>\n",
       "      <td>22023.60</td>\n",
       "    </tr>\n",
       "    <tr>\n",
       "      <th>2</th>\n",
       "      <td>499.39</td>\n",
       "      <td>868.91</td>\n",
       "      <td>0.00</td>\n",
       "      <td>19051.19</td>\n",
       "    </tr>\n",
       "    <tr>\n",
       "      <th>3</th>\n",
       "      <td>316.46</td>\n",
       "      <td>711.59</td>\n",
       "      <td>0.00</td>\n",
       "      <td>10861.54</td>\n",
       "    </tr>\n",
       "    <tr>\n",
       "      <th>4</th>\n",
       "      <td>726.53</td>\n",
       "      <td>770.98</td>\n",
       "      <td>0.92</td>\n",
       "      <td>8937.41</td>\n",
       "    </tr>\n",
       "  </tbody>\n",
       "</table>\n",
       "</div>"
      ],
      "text/plain": [
       "   Non-Current Investments Quoted Market Value  \\\n",
       "0                                      1733.69   \n",
       "1                                      1345.52   \n",
       "2                                       499.39   \n",
       "3                                       316.46   \n",
       "4                                       726.53   \n",
       "\n",
       "   Non-Current Investments Unquoted Book Value  \\\n",
       "0                                      1131.50   \n",
       "1                                       975.40   \n",
       "2                                       868.91   \n",
       "3                                       711.59   \n",
       "4                                       770.98   \n",
       "\n",
       "   Current Investments Quoted Market Value  \\\n",
       "0                                   134.45   \n",
       "1                                   685.62   \n",
       "2                                     0.00   \n",
       "3                                     0.00   \n",
       "4                                     0.92   \n",
       "\n",
       "   Current Investments Unquoted Book Value  \n",
       "0                                 18703.86  \n",
       "1                                 22023.60  \n",
       "2                                 19051.19  \n",
       "3                                 10861.54  \n",
       "4                                  8937.41  "
      ]
     },
     "execution_count": 34,
     "metadata": {},
     "output_type": "execute_result"
    }
   ],
   "source": [
    "df[['Non-Current Investments Quoted Market Value','Non-Current Investments Unquoted Book Value','Current Investments Quoted Market Value','Current Investments Unquoted Book Value']]"
   ]
  },
  {
   "cell_type": "code",
   "execution_count": null,
   "id": "1296212b",
   "metadata": {},
   "outputs": [],
   "source": []
  }
 ],
 "metadata": {
  "kernelspec": {
   "display_name": "Python 3 (ipykernel)",
   "language": "python",
   "name": "python3"
  },
  "language_info": {
   "codemirror_mode": {
    "name": "ipython",
    "version": 3
   },
   "file_extension": ".py",
   "mimetype": "text/x-python",
   "name": "python",
   "nbconvert_exporter": "python",
   "pygments_lexer": "ipython3",
   "version": "3.11.4"
  }
 },
 "nbformat": 4,
 "nbformat_minor": 5
}
