{
 "cells": [
  {
   "cell_type": "code",
   "execution_count": 8,
   "id": "3d3928ca",
   "metadata": {},
   "outputs": [
    {
     "name": "stdout",
     "output_type": "stream",
     "text": [
      "Simple List :  [1, 2, 3, 4, 5]\n",
      "Using Range Function :  [1, 2, 3, 4, 5, 6, 7, 8, 9]\n",
      "[0, 1, 2, 3, 4, 5, 6, 7, 8, 9, 10, 11, 12, 13, 14]\n",
      "[1, 4, 7, 10, 13]\n"
     ]
    }
   ],
   "source": [
    "#Range function\n",
    "\n",
    "L1 = [1,2,3,4,5]\n",
    "\n",
    "print(\"Simple List : \" ,L1)\n",
    "\n",
    "L2 = list(range(1,10))\n",
    "print(\"Using Range Function : \" ,L2)\n",
    "\n",
    "L3 = list(range(15))\n",
    "\n",
    "print(L3)\n",
    "\n",
    "L4 = list(range(1,15,3))\n",
    "print(L4)"
   ]
  },
  {
   "cell_type": "markdown",
   "id": "837a41c9",
   "metadata": {},
   "source": [
    "# For Loop"
   ]
  },
  {
   "cell_type": "code",
   "execution_count": 9,
   "id": "3858020d",
   "metadata": {},
   "outputs": [
    {
     "name": "stdout",
     "output_type": "stream",
     "text": [
      "Hello All\n",
      "Hello All\n",
      "Hello All\n",
      "Hello All\n",
      "Hello All\n"
     ]
    }
   ],
   "source": [
    "for i in range(1,6):\n",
    "    print(\"Hello All\")"
   ]
  },
  {
   "cell_type": "code",
   "execution_count": 10,
   "id": "3968780e",
   "metadata": {},
   "outputs": [
    {
     "name": "stdout",
     "output_type": "stream",
     "text": [
      "1\n",
      "2\n",
      "3\n",
      "4\n",
      "5\n",
      "6\n",
      "7\n",
      "8\n",
      "9\n",
      "10\n"
     ]
    }
   ],
   "source": [
    "for i in range (1,11):\n",
    "    print(i)"
   ]
  },
  {
   "cell_type": "code",
   "execution_count": 11,
   "id": "52f6f511",
   "metadata": {},
   "outputs": [
    {
     "name": "stdout",
     "output_type": "stream",
     "text": [
      "4\n",
      "8\n",
      "12\n",
      "16\n",
      "20\n",
      "24\n",
      "28\n",
      "32\n",
      "36\n",
      "40\n"
     ]
    }
   ],
   "source": [
    "for i in range (1,11):\n",
    "    print(4*i)"
   ]
  },
  {
   "cell_type": "code",
   "execution_count": 12,
   "id": "510f06d2",
   "metadata": {},
   "outputs": [
    {
     "name": "stdout",
     "output_type": "stream",
     "text": [
      "Enter Number :7\n",
      "7\n",
      "14\n",
      "21\n",
      "28\n",
      "35\n",
      "42\n",
      "49\n",
      "56\n",
      "63\n",
      "70\n"
     ]
    }
   ],
   "source": [
    "num = int(input(\"Enter Number :\"))\n",
    "\n",
    "for i in range (1,11):\n",
    "    print(num*i)"
   ]
  },
  {
   "cell_type": "code",
   "execution_count": 13,
   "id": "f944bb5d",
   "metadata": {},
   "outputs": [
    {
     "name": "stdout",
     "output_type": "stream",
     "text": [
      "Sum of range from 1 to 10 is :  55\n"
     ]
    }
   ],
   "source": [
    "total = 0\n",
    "\n",
    "for i in range(1,11):\n",
    "    total += i\n",
    "    \n",
    "print('Sum of range from 1 to 10 is : ' , total)"
   ]
  },
  {
   "cell_type": "code",
   "execution_count": 14,
   "id": "ff8826f0",
   "metadata": {},
   "outputs": [
    {
     "name": "stdout",
     "output_type": "stream",
     "text": [
      "Welcome  Vishal\n",
      "Welcome  Ajay\n",
      "Welcome  Anuja\n",
      "Welcome  Shital\n"
     ]
    }
   ],
   "source": [
    "sname = [\"Vishal\",\"Ajay\",\"Anuja\",\"Shital\"]\n",
    "\n",
    "for i in sname:\n",
    "    print(\"Welcome \" , i)"
   ]
  },
  {
   "cell_type": "markdown",
   "id": "9cf96240",
   "metadata": {},
   "source": [
    "# Nested For Loop"
   ]
  },
  {
   "cell_type": "code",
   "execution_count": 23,
   "id": "0520352c",
   "metadata": {},
   "outputs": [
    {
     "name": "stdout",
     "output_type": "stream",
     "text": [
      "* * * \n",
      "* * * \n",
      "* * * \n"
     ]
    }
   ],
   "source": [
    "for i in range(1,4):\n",
    "    for j in range (1,4):\n",
    "        print(\"*\" , end =\" \")\n",
    "    print()\n"
   ]
  },
  {
   "cell_type": "code",
   "execution_count": 24,
   "id": "877a6950",
   "metadata": {},
   "outputs": [
    {
     "name": "stdout",
     "output_type": "stream",
     "text": [
      "1 1 1 \n",
      "2 2 2 \n",
      "3 3 3 \n"
     ]
    }
   ],
   "source": [
    "for i in range(1,4):\n",
    "    for j in range(1,4):\n",
    "        print(i , end=\" \")\n",
    "    print()"
   ]
  },
  {
   "cell_type": "code",
   "execution_count": 25,
   "id": "fdcf0b3e",
   "metadata": {},
   "outputs": [
    {
     "name": "stdout",
     "output_type": "stream",
     "text": [
      "1 2 3 \n",
      "1 2 3 \n",
      "1 2 3 \n"
     ]
    }
   ],
   "source": [
    "for i in range(1,4):\n",
    "    for j in range(1,4):\n",
    "        print(j , end=\" \")\n",
    "    print()"
   ]
  },
  {
   "cell_type": "code",
   "execution_count": null,
   "id": "ebc6796d",
   "metadata": {},
   "outputs": [],
   "source": [
    "\"\"\"\n",
    "Patterns :\n",
    "\n",
    "1. \n",
    "\n",
    "*\n",
    "* *\n",
    "* * *\n",
    "* * * *\n",
    "\n",
    "2.\n",
    "1\n",
    "1 2\n",
    "1 2 3\n",
    "1 2 3 4\n",
    "\n",
    "3.\n",
    "1\n",
    "2 2\n",
    "3 3 3\n",
    "4 4 4 4\n",
    "\"\"\""
   ]
  }
 ],
 "metadata": {
  "kernelspec": {
   "display_name": "Python 3 (ipykernel)",
   "language": "python",
   "name": "python3"
  },
  "language_info": {
   "codemirror_mode": {
    "name": "ipython",
    "version": 3
   },
   "file_extension": ".py",
   "mimetype": "text/x-python",
   "name": "python",
   "nbconvert_exporter": "python",
   "pygments_lexer": "ipython3",
   "version": "3.11.3"
  }
 },
 "nbformat": 4,
 "nbformat_minor": 5
}
