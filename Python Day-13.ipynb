{
 "cells": [
  {
   "cell_type": "code",
   "execution_count": 3,
   "id": "5280b901",
   "metadata": {},
   "outputs": [],
   "source": [
    "#Scope of Variable in python\n",
    "\n",
    "age = 27 #global Variable\n",
    "\n",
    "def Sum(*num):\n",
    "    total = 0   #Local variable\n",
    "    for i in num :\n",
    "        total += i\n",
    "    print(\"Sum of Varaible :\" ,  total )"
   ]
  },
  {
   "cell_type": "code",
   "execution_count": 5,
   "id": "e98da328",
   "metadata": {
    "scrolled": true
   },
   "outputs": [
    {
     "name": "stdout",
     "output_type": "stream",
     "text": [
      "Sum of Varaible : 70\n",
      "Global variable :  27\n"
     ]
    },
    {
     "ename": "NameError",
     "evalue": "name 'total' is not defined",
     "output_type": "error",
     "traceback": [
      "\u001b[1;31m---------------------------------------------------------------------------\u001b[0m",
      "\u001b[1;31mNameError\u001b[0m                                 Traceback (most recent call last)",
      "Cell \u001b[1;32mIn[5], line 4\u001b[0m\n\u001b[0;32m      1\u001b[0m Sum(\u001b[38;5;241m25\u001b[39m,\u001b[38;5;241m23\u001b[39m,\u001b[38;5;241m22\u001b[39m)\n\u001b[0;32m      3\u001b[0m \u001b[38;5;28mprint\u001b[39m(\u001b[38;5;124m\"\u001b[39m\u001b[38;5;124mGlobal variable : \u001b[39m\u001b[38;5;124m\"\u001b[39m ,age)\n\u001b[1;32m----> 4\u001b[0m \u001b[38;5;28mprint\u001b[39m(\u001b[38;5;124m\"\u001b[39m\u001b[38;5;124mLocal Variable : \u001b[39m\u001b[38;5;124m\"\u001b[39m , total)\n",
      "\u001b[1;31mNameError\u001b[0m: name 'total' is not defined"
     ]
    }
   ],
   "source": [
    "Sum(25,23,22)\n",
    "\n",
    "print(\"Global variable : \" ,age)\n",
    "print(\"Local Variable : \" , total) #name 'total' is not defined"
   ]
  },
  {
   "cell_type": "code",
   "execution_count": 6,
   "id": "15b72b6a",
   "metadata": {},
   "outputs": [],
   "source": [
    "g_variable = \"Vishal\"\n",
    "\n",
    "def name():\n",
    "    print('Student name is : ' , g_variable)"
   ]
  },
  {
   "cell_type": "code",
   "execution_count": 7,
   "id": "3f6679e8",
   "metadata": {},
   "outputs": [
    {
     "name": "stdout",
     "output_type": "stream",
     "text": [
      "Student name is :  Vishal\n"
     ]
    }
   ],
   "source": [
    "name()"
   ]
  },
  {
   "cell_type": "code",
   "execution_count": 8,
   "id": "b9fed17d",
   "metadata": {},
   "outputs": [],
   "source": [
    "glo_id = 101\n",
    "\n",
    "def fun1():\n",
    "    print(\"Value of 1st Function :\" , glo_id)\n",
    "    \n",
    "def fun2():\n",
    "    glo_id = 105\n",
    "    print(\"Value of 2ds Function :\" , glo_id)\n",
    "    \n",
    "def fun3():\n",
    "    print(\"Value of 3rd Function :\" , glo_id)"
   ]
  },
  {
   "cell_type": "code",
   "execution_count": 9,
   "id": "8efbcd57",
   "metadata": {},
   "outputs": [
    {
     "name": "stdout",
     "output_type": "stream",
     "text": [
      "Value of 1st Function : 101\n",
      "Value of 2ds Function : 105\n",
      "Value of 3rd Function : 101\n"
     ]
    }
   ],
   "source": [
    "fun1()\n",
    "fun2()\n",
    "fun3()"
   ]
  },
  {
   "cell_type": "code",
   "execution_count": 10,
   "id": "fb8796a2",
   "metadata": {},
   "outputs": [],
   "source": [
    "glo_id = 101\n",
    "\n",
    "def fun1():\n",
    "    print(\"Value of 1st Function :\" , glo_id)\n",
    "    \n",
    "def fun2():\n",
    "    global glo_id\n",
    "    glo_id = 105\n",
    "    print(\"Value of 2ds Function :\" , glo_id)\n",
    "    \n",
    "def fun3():\n",
    "    print(\"Value of 3rd Function :\" , glo_id)"
   ]
  },
  {
   "cell_type": "code",
   "execution_count": 11,
   "id": "cf12a721",
   "metadata": {},
   "outputs": [
    {
     "name": "stdout",
     "output_type": "stream",
     "text": [
      "Value of 1st Function : 101\n",
      "Value of 2ds Function : 105\n",
      "Value of 3rd Function : 105\n"
     ]
    }
   ],
   "source": [
    "fun1()\n",
    "fun2()\n",
    "fun3()"
   ]
  },
  {
   "cell_type": "code",
   "execution_count": 19,
   "id": "aba3f0ac",
   "metadata": {},
   "outputs": [],
   "source": [
    "#Recursive Function:\n",
    "\n",
    "#user input : 10 :--> 10/8/6/4/2\n",
    "\n",
    "def evenNum(num):\n",
    "    print(num)\n",
    "    if num%2 != 0 :\n",
    "        print(\"Please enter valid even Number \")\n",
    "    elif num == 2:\n",
    "        return num\n",
    "    else :\n",
    "        return evenNum(num-2) \n",
    "\n"
   ]
  },
  {
   "cell_type": "code",
   "execution_count": 20,
   "id": "832a6ce6",
   "metadata": {},
   "outputs": [
    {
     "name": "stdout",
     "output_type": "stream",
     "text": [
      "11\n",
      "Please enter valid even Number \n"
     ]
    }
   ],
   "source": [
    "evenNum(11)"
   ]
  },
  {
   "cell_type": "code",
   "execution_count": 21,
   "id": "91c54d65",
   "metadata": {},
   "outputs": [],
   "source": [
    "#Lambda Function :----> function will not have name\n",
    "\n",
    "\n",
    "#simple function \n",
    "\n",
    "def double(x):\n",
    "    return x*2"
   ]
  },
  {
   "cell_type": "code",
   "execution_count": 22,
   "id": "0ab9af2d",
   "metadata": {},
   "outputs": [
    {
     "data": {
      "text/plain": [
       "50"
      ]
     },
     "execution_count": 22,
     "metadata": {},
     "output_type": "execute_result"
    }
   ],
   "source": [
    "double(25)"
   ]
  },
  {
   "cell_type": "code",
   "execution_count": 32,
   "id": "c33570fd",
   "metadata": {},
   "outputs": [],
   "source": [
    "double = lambda x : x*2\n",
    "\n",
    "#cube = lambda x : x*x*x # 2 :---> 2x2x2 = 8\n",
    "\n",
    "avg = lambda x,y,z : (x+y+z)/3"
   ]
  },
  {
   "cell_type": "code",
   "execution_count": 30,
   "id": "63fd926f",
   "metadata": {},
   "outputs": [
    {
     "data": {
      "text/plain": [
       "11.666666666666666"
      ]
     },
     "execution_count": 30,
     "metadata": {},
     "output_type": "execute_result"
    }
   ],
   "source": [
    "double(25)\n",
    "cube(3)\n",
    "avg(10,12,13)"
   ]
  },
  {
   "cell_type": "code",
   "execution_count": 31,
   "id": "99235d88",
   "metadata": {},
   "outputs": [],
   "source": [
    "def Go(x , value):\n",
    "    return 6+ x(value) # 6 + 8 =14"
   ]
  },
  {
   "cell_type": "code",
   "execution_count": 35,
   "id": "0cea0ea9",
   "metadata": {},
   "outputs": [
    {
     "data": {
      "text/plain": [
       "33"
      ]
     },
     "execution_count": 35,
     "metadata": {},
     "output_type": "execute_result"
    }
   ],
   "source": [
    "Go(lambda x : x*x*x,3)"
   ]
  },
  {
   "cell_type": "code",
   "execution_count": 37,
   "id": "203c43bf",
   "metadata": {},
   "outputs": [
    {
     "name": "stdout",
     "output_type": "stream",
     "text": [
      "Add of A : 140732084164136\n",
      "Add of B : 140732084164136\n",
      "\n",
      "Add of B : 3013945991792\n"
     ]
    }
   ],
   "source": [
    "a = 25\n",
    "b = 25\n",
    "\n",
    "print(\"Add of A :\" , id(a))\n",
    "print(\"Add of B :\" , id(b))\n",
    "\n",
    "print()\n",
    "\n",
    "b = \"Vishal\"\n",
    "print(\"Add of B :\" , id(b))\n",
    "\n",
    "\n",
    "\n"
   ]
  }
 ],
 "metadata": {
  "kernelspec": {
   "display_name": "Python 3 (ipykernel)",
   "language": "python",
   "name": "python3"
  },
  "language_info": {
   "codemirror_mode": {
    "name": "ipython",
    "version": 3
   },
   "file_extension": ".py",
   "mimetype": "text/x-python",
   "name": "python",
   "nbconvert_exporter": "python",
   "pygments_lexer": "ipython3",
   "version": "3.11.3"
  }
 },
 "nbformat": 4,
 "nbformat_minor": 5
}
