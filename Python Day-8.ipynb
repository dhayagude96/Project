{
 "cells": [
  {
   "cell_type": "code",
   "execution_count": null,
   "id": "09610a50",
   "metadata": {},
   "outputs": [],
   "source": [
    "\"\"\"\n",
    "Dictionary:-->\n",
    "\n",
    "#Create\n",
    "# Access\n",
    "# Edit\n",
    "# Add\n",
    "# Delete\n",
    "# Operations\n",
    "# Functions\n",
    "\n",
    "-------------------------------------\n",
    "\n",
    "1.Dic has no indexing\n",
    "2.It is Mutable Data type\n",
    "3.Key-->Immutable & values---> Mutable\n",
    "4.key should be unique\n",
    "\n",
    "Mutable Data Type : --> list/set/Dict\n",
    "\n",
    "Immutable :--> string/tuple/int/float/complex\n",
    "\n",
    "Q)Diff btw list/set/dict/tuple\n",
    "\n",
    "\n",
    "\n",
    "\"\"\""
   ]
  },
  {
   "cell_type": "code",
   "execution_count": 3,
   "id": "f672bc58",
   "metadata": {},
   "outputs": [
    {
     "name": "stdout",
     "output_type": "stream",
     "text": [
      "<class 'dict'>\n",
      "{'name': 'vishal', 'Gender': 'M', 'ID': 101}\n",
      "{'name': 'Ajay', 'Dept': 'Com Sc', 'Age': 22, 'Marks': {'M1': 68, 'M2': 74, 'M3': 65}}\n"
     ]
    }
   ],
   "source": [
    "#Create\n",
    "\n",
    "D1 = {} #empty Dict\n",
    "\n",
    "print(type(D1))\n",
    "\n",
    "D2 = {'name':'vishal','Gender':'M','ID':101}\n",
    "\n",
    "print(D2)\n",
    "\n",
    "D3 = {'name':'Ajay','Dept':'Com Sc','Age':22,'Marks':{'M1':68,'M2':74,'M3':65}}\n",
    "\n",
    "print(D3)"
   ]
  },
  {
   "cell_type": "code",
   "execution_count": 10,
   "id": "bf114a64",
   "metadata": {},
   "outputs": [
    {
     "name": "stdout",
     "output_type": "stream",
     "text": [
      "Student Name is :  vishal\n",
      "Student Marks in M2 :  74\n"
     ]
    }
   ],
   "source": [
    "## Access :--> Dic has no indexing\n",
    "\n",
    "D2 = {'name':'vishal','Gender':'M','ID':101}\n",
    "\n",
    "\n",
    "D3 = {'name':'Ajay','Dept':'Com Sc','Age':22,'Marks':{'M1':68,'M2':74,'M3':65}}\n",
    "\n",
    "#print(D2[0])\n",
    "\n",
    "print(\"Student Name is : \" ,D2['name'])\n",
    "\n",
    "print(\"Student Marks in M2 : \" , D3['Marks']['M2'])"
   ]
  },
  {
   "cell_type": "code",
   "execution_count": 19,
   "id": "069a5332",
   "metadata": {},
   "outputs": [
    {
     "name": "stdout",
     "output_type": "stream",
     "text": [
      "{'name': 'Govind', 'Dept': 'Com Sc', 'Age': 22, 'Marks': {'M1': 68, 'M2': 74, 'M3': 65}}\n",
      "{'name': 'Govind', 'Dept': 'Com Sc', 'Age': 22, 'Marks': {'M1': 68, 'M2': 74, 'M3': 69}}\n",
      "{'name': 'vishal', 'Gender': 'M', 'ID': 101, 'City': 'Pune'}\n",
      "{'name': 'Ajay', 'Dept': 'Com Sc', 'Age': 22, 'Marks': {'M1': 68, 'M2': 74, 'M3': 65, 'Chem': 78}}\n"
     ]
    }
   ],
   "source": [
    "#2.It is Mutable Data type : Edit & Add\n",
    "\n",
    "#Edit\n",
    "D3 = {'name':'Ajay','Dept':'Com Sc','Age':22,'Marks':{'M1':68,'M2':74,'M3':65}}\n",
    "\n",
    "D3['name'] = 'Govind'\n",
    "\n",
    "print(D3)\n",
    "\n",
    "D3['Marks']['M3'] = 69\n",
    "\n",
    "print(D3)\n",
    "\n",
    "#Add\n",
    "D2 = {'name':'vishal','Gender':'M','ID':101}\n",
    "\n",
    "D2['City'] = 'Pune' \n",
    "\n",
    "print(D2)\n",
    "\n",
    "\n",
    "D3 = {'name':'Ajay','Dept':'Com Sc','Age':22,'Marks':{'M1':68,'M2':74,'M3':65}}\n",
    "\n",
    "D3['Marks']['Chem'] = 78\n",
    "\n",
    "print(D3)\n",
    "\n",
    "\n"
   ]
  },
  {
   "cell_type": "code",
   "execution_count": 20,
   "id": "46f54d10",
   "metadata": {},
   "outputs": [
    {
     "name": "stdout",
     "output_type": "stream",
     "text": [
      "{'name': 'Ajay', 'Dept': 'Com Sc', 'Age': 22}\n"
     ]
    }
   ],
   "source": [
    "# Delete\n",
    "\n",
    "del(D3['Marks'])\n",
    "\n",
    "print(D3)\n",
    "\n"
   ]
  },
  {
   "cell_type": "code",
   "execution_count": 21,
   "id": "62ac90cc",
   "metadata": {
    "scrolled": true
   },
   "outputs": [
    {
     "ename": "TypeError",
     "evalue": "unsupported operand type(s) for +: 'dict' and 'dict'",
     "output_type": "error",
     "traceback": [
      "\u001b[1;31m---------------------------------------------------------------------------\u001b[0m",
      "\u001b[1;31mTypeError\u001b[0m                                 Traceback (most recent call last)",
      "Cell \u001b[1;32mIn[21], line 6\u001b[0m\n\u001b[0;32m      3\u001b[0m d1 \u001b[38;5;241m=\u001b[39m {\u001b[38;5;124m'\u001b[39m\u001b[38;5;124mName\u001b[39m\u001b[38;5;124m'\u001b[39m:\u001b[38;5;124m'\u001b[39m\u001b[38;5;124mVishal\u001b[39m\u001b[38;5;124m'\u001b[39m}\n\u001b[0;32m      4\u001b[0m d2 \u001b[38;5;241m=\u001b[39m {\u001b[38;5;124m'\u001b[39m\u001b[38;5;124mage\u001b[39m\u001b[38;5;124m'\u001b[39m: \u001b[38;5;241m28\u001b[39m}\n\u001b[1;32m----> 6\u001b[0m \u001b[38;5;28mprint\u001b[39m(d1\u001b[38;5;241m+\u001b[39md2)\n",
      "\u001b[1;31mTypeError\u001b[0m: unsupported operand type(s) for +: 'dict' and 'dict'"
     ]
    }
   ],
   "source": [
    "#Operations\n",
    "\n",
    "d1 = {'Name':'Vishal'}\n",
    "d2 = {'age': 28}\n",
    "\n",
    "print(d1+d2) #unsupported operand type(s) for +: 'dict' and 'dict'b"
   ]
  },
  {
   "cell_type": "code",
   "execution_count": 25,
   "id": "3b6b9854",
   "metadata": {},
   "outputs": [
    {
     "name": "stdout",
     "output_type": "stream",
     "text": [
      "Len of D3 : 4\n",
      "Max : name\n",
      "Min : Age\n",
      "Sorted: ['Age', 'Dept', 'Marks', 'name']\n"
     ]
    }
   ],
   "source": [
    " #Functions : --> max / min / sorted / len\n",
    "    \n",
    "D3 = {'name':'Ajay','Dept':'Com Sc','Age':22,'Marks':{'M1':68,'M2':74,'M3':65}}\n",
    "\n",
    "print(\"Len of D3 :\" ,  len(D3))\n",
    "print(\"Max :\" , max(D3) )\n",
    "print(\"Min :\" , min(D3) )\n",
    "print(\"Sorted:\" , sorted(D3) )\n",
    "    "
   ]
  },
  {
   "cell_type": "code",
   "execution_count": 27,
   "id": "c21f7382",
   "metadata": {},
   "outputs": [
    {
     "data": {
      "text/plain": [
       "dict_keys(['name', 'Dept', 'Age', 'Marks'])"
      ]
     },
     "execution_count": 27,
     "metadata": {},
     "output_type": "execute_result"
    }
   ],
   "source": [
    "D3.values()\n",
    "D3.keys()"
   ]
  }
 ],
 "metadata": {
  "kernelspec": {
   "display_name": "Python 3 (ipykernel)",
   "language": "python",
   "name": "python3"
  },
  "language_info": {
   "codemirror_mode": {
    "name": "ipython",
    "version": 3
   },
   "file_extension": ".py",
   "mimetype": "text/x-python",
   "name": "python",
   "nbconvert_exporter": "python",
   "pygments_lexer": "ipython3",
   "version": "3.11.3"
  }
 },
 "nbformat": 4,
 "nbformat_minor": 5
}
