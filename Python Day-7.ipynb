{
 "cells": [
  {
   "cell_type": "code",
   "execution_count": null,
   "id": "4fbf4303",
   "metadata": {},
   "outputs": [],
   "source": [
    "\"\"\"\n",
    "# Tuples\n",
    "# Create\n",
    "# Access\n",
    "# Edit\n",
    "# Add\n",
    "# Delete\n",
    "# Operations\n",
    "# Functions\n",
    "\"\"\""
   ]
  },
  {
   "cell_type": "code",
   "execution_count": 4,
   "id": "93d667f7",
   "metadata": {},
   "outputs": [
    {
     "name": "stdout",
     "output_type": "stream",
     "text": [
      "<class 'list'>\n",
      "<class 'tuple'>\n",
      "Homogeouns Tuple:  (25, 23, 21, 29, 30)\n",
      "Hetrogeouns Tuple:  ('Vishal', 27, 65000.45, 'pune')\n",
      "Mult D Tuple :  (1, 2, 3, (4, 5))\n"
     ]
    }
   ],
   "source": [
    "# Create\n",
    "\n",
    "L1 = [1,2,3]\n",
    "\n",
    "T1 = (1,2,3)\n",
    "\n",
    "print(type(L1))\n",
    "print(type(T1))\n",
    "\n",
    "\n",
    "T2 = () #empty Tuple\n",
    "\n",
    "T3 = (25,23,21,29,30)\n",
    "T4 = (\"Vishal\" , 27 ,65000.45 , \"pune\")\n",
    "\n",
    "print(\"Homogeouns Tuple: \" , T3)\n",
    "print(\"Hetrogeouns Tuple: \" , T4)\n",
    "\n",
    "\n",
    "#Muld D Tuple:\n",
    "\n",
    "T5 = (1,2,3,(4,5))\n",
    "\n",
    "print(\"Mult D Tuple : \" , T5)\n",
    "\n",
    "\n"
   ]
  },
  {
   "cell_type": "code",
   "execution_count": 9,
   "id": "4781f86a",
   "metadata": {},
   "outputs": [
    {
     "name": "stdout",
     "output_type": "stream",
     "text": [
      "At index 2 Value is :  21\n",
      "Salary of Emp is :  65000.45\n",
      "5\n"
     ]
    }
   ],
   "source": [
    "# Access\n",
    "\n",
    "T3 = (25,23,21,29,30)\n",
    "T4 = (\"Vishal\" , 27 ,65000.45 , \"pune\")\n",
    "\n",
    "\n",
    "print(\"At index 2 Value is : \" , T3[2])\n",
    "\n",
    "print(\"Salary of Emp is : \" , T4[-2])\n",
    "\n",
    "\n",
    "T5 = (1, 2, 3, (4, 5))\n",
    "\n",
    "#     0  1  2     3\n",
    "#               0  1\n",
    "\n",
    "print(T5[3][1])"
   ]
  },
  {
   "cell_type": "code",
   "execution_count": 11,
   "id": "32e21ace",
   "metadata": {},
   "outputs": [
    {
     "name": "stdout",
     "output_type": "stream",
     "text": [
      "This is for List [25, 23, 29, 21]\n"
     ]
    },
    {
     "ename": "TypeError",
     "evalue": "'tuple' object does not support item assignment",
     "output_type": "error",
     "traceback": [
      "\u001b[1;31m---------------------------------------------------------------------------\u001b[0m",
      "\u001b[1;31mTypeError\u001b[0m                                 Traceback (most recent call last)",
      "Cell \u001b[1;32mIn[11], line 13\u001b[0m\n\u001b[0;32m      7\u001b[0m \u001b[38;5;28mprint\u001b[39m(\u001b[38;5;124m\"\u001b[39m\u001b[38;5;124mThis is for List\u001b[39m\u001b[38;5;124m\"\u001b[39m , L1)\n\u001b[0;32m     11\u001b[0m L2 \u001b[38;5;241m=\u001b[39m (\u001b[38;5;241m25\u001b[39m,\u001b[38;5;241m23\u001b[39m,\u001b[38;5;241m20\u001b[39m,\u001b[38;5;241m21\u001b[39m)\n\u001b[1;32m---> 13\u001b[0m L2[\u001b[38;5;241m2\u001b[39m] \u001b[38;5;241m=\u001b[39m \u001b[38;5;241m29\u001b[39m\n\u001b[0;32m     15\u001b[0m \u001b[38;5;28mprint\u001b[39m(\u001b[38;5;124m\"\u001b[39m\u001b[38;5;124mThis is for Tuple\u001b[39m\u001b[38;5;124m\"\u001b[39m , L2)\n",
      "\u001b[1;31mTypeError\u001b[0m: 'tuple' object does not support item assignment"
     ]
    }
   ],
   "source": [
    "# Edit\n",
    "\n",
    "L1 = [25,23,20,21]\n",
    "\n",
    "L1[2] = 29\n",
    "\n",
    "print(\"This is for List\" , L1)\n",
    "\n",
    "#Tuple & String are Immunatble Data Type\n",
    "\n",
    "L2 = (25,23,20,21)\n",
    "\n",
    "L2[2] = 29\n",
    "\n",
    "print(\"This is for Tuple\" , L2) #'tuple' object does not support item assignment\n",
    "\n"
   ]
  },
  {
   "cell_type": "code",
   "execution_count": 13,
   "id": "0bdbf918",
   "metadata": {},
   "outputs": [
    {
     "ename": "AttributeError",
     "evalue": "'tuple' object has no attribute 'add'",
     "output_type": "error",
     "traceback": [
      "\u001b[1;31m---------------------------------------------------------------------------\u001b[0m",
      "\u001b[1;31mAttributeError\u001b[0m                            Traceback (most recent call last)",
      "Cell \u001b[1;32mIn[13], line 3\u001b[0m\n\u001b[0;32m      1\u001b[0m T1 \u001b[38;5;241m=\u001b[39m (\u001b[38;5;241m1\u001b[39m,\u001b[38;5;241m2\u001b[39m,\u001b[38;5;241m3\u001b[39m,\u001b[38;5;241m4\u001b[39m)\n\u001b[1;32m----> 3\u001b[0m T1\u001b[38;5;241m.\u001b[39madd(\u001b[38;5;241m25\u001b[39m)\n",
      "\u001b[1;31mAttributeError\u001b[0m: 'tuple' object has no attribute 'add'"
     ]
    }
   ],
   "source": [
    "T1 = (1,2,3,4)\n",
    "\n",
    "T1.add(25)"
   ]
  },
  {
   "cell_type": "code",
   "execution_count": 14,
   "id": "6073eff1",
   "metadata": {},
   "outputs": [
    {
     "ename": "AttributeError",
     "evalue": "'tuple' object has no attribute 'pop'",
     "output_type": "error",
     "traceback": [
      "\u001b[1;31m---------------------------------------------------------------------------\u001b[0m",
      "\u001b[1;31mAttributeError\u001b[0m                            Traceback (most recent call last)",
      "Cell \u001b[1;32mIn[14], line 5\u001b[0m\n\u001b[0;32m      1\u001b[0m \u001b[38;5;66;03m# Delete \u001b[39;00m\n\u001b[0;32m      3\u001b[0m T1 \u001b[38;5;241m=\u001b[39m (\u001b[38;5;241m1\u001b[39m,\u001b[38;5;241m2\u001b[39m,\u001b[38;5;241m3\u001b[39m,\u001b[38;5;241m4\u001b[39m)\n\u001b[1;32m----> 5\u001b[0m T1\u001b[38;5;241m.\u001b[39mpop()\n",
      "\u001b[1;31mAttributeError\u001b[0m: 'tuple' object has no attribute 'pop'"
     ]
    }
   ],
   "source": [
    "# Delete \n",
    "\n",
    "T1 = (1,2,3,4)\n",
    "\n",
    "T1.pop()\n"
   ]
  },
  {
   "cell_type": "code",
   "execution_count": 16,
   "id": "9770efe7",
   "metadata": {},
   "outputs": [
    {
     "name": "stdout",
     "output_type": "stream",
     "text": [
      "(1, 2, 3, 1, 2, 3)\n",
      "(1, 2, 3, 1, 2, 3, 1, 2, 3, 1, 2, 3)\n",
      "True\n"
     ]
    }
   ],
   "source": [
    "# Operations\n",
    "\n",
    "T1 = (1,2,3)\n",
    "T2 = (1,2,3)\n",
    "\n",
    "\n",
    "print(T1+T2)\n",
    "print(T1*4)\n",
    "\n",
    "print(2 in T1)"
   ]
  },
  {
   "cell_type": "code",
   "execution_count": 20,
   "id": "fa1612aa",
   "metadata": {},
   "outputs": [
    {
     "name": "stdout",
     "output_type": "stream",
     "text": [
      "Max :  52\n",
      "Min :  1\n",
      "Len :  13\n",
      "(1, 2, 25, 31, 28, 1, 2, 29, 28, 31, 52, 31, 25)\n",
      "[1, 1, 2, 2, 25, 25, 28, 28, 29, 31, 31, 31, 52]\n",
      "[52, 31, 31, 31, 29, 28, 28, 25, 25, 2, 2, 1, 1]\n"
     ]
    }
   ],
   "source": [
    "# Functions:--> max/min/len/sorted\n",
    "\n",
    "T1 = (1,2,25,31,28,1,2,29,28,31,52,31,25)\n",
    "\n",
    "\n",
    "print(\"Max : \" , max(T1))\n",
    "print(\"Min : \" , min(T1))\n",
    "print(\"Len : \" , len(T1))\n",
    "print(T1)\n",
    "\n",
    "print(sorted(T1))\n",
    "print(sorted(T1,reverse = True))"
   ]
  },
  {
   "cell_type": "code",
   "execution_count": null,
   "id": "0e43d2be",
   "metadata": {},
   "outputs": [],
   "source": [
    "\"\"\"\n",
    "Sets:-->\n",
    "\n",
    "#Create\n",
    "# Access\n",
    "# Edit\n",
    "# Add\n",
    "# Delete\n",
    "# Operations\n",
    "# Functions\n",
    "\n",
    "--------------------------------\n",
    "\n",
    "1.sets do not allow duplicates\n",
    "2.sets have no indexing/slicing\n",
    "3.sets do not allow mutable data type\n",
    "4.sets itself is mutable data type\n",
    "\n",
    "\n",
    "\"\"\""
   ]
  },
  {
   "cell_type": "code",
   "execution_count": 27,
   "id": "d08c3844",
   "metadata": {},
   "outputs": [
    {
     "name": "stdout",
     "output_type": "stream",
     "text": [
      "<class 'dict'>\n",
      "<class 'set'>\n",
      "{15, 18, 19, 21, 25, 26, 28, 30}\n",
      "{'Vishal', 6500.25, 29, 'Pune'}\n",
      "{1, 2, 3, 4}\n"
     ]
    }
   ],
   "source": [
    "#Create\n",
    "\n",
    "s1 = {} #<class 'dict'>\n",
    "\n",
    "print(type(s1))\n",
    "\n",
    "#empty Set\n",
    "\n",
    "s2 = set()\n",
    "\n",
    "print(type(s2))\n",
    "\n",
    "s3 = {25,21,28,26,30,19,15,18}\n",
    "\n",
    "print(s3)\n",
    "\n",
    "s4 = {\"Vishal\" , 29, 6500.25 , \"Pune\"}\n",
    "\n",
    "print(s4)\n",
    "\n",
    "\n",
    "#1.sets do not allow duplicates\n",
    "\n",
    "s5 = {1,1,2,2,3,3,4,4}\n",
    "\n",
    "print(s5)"
   ]
  },
  {
   "cell_type": "code",
   "execution_count": 29,
   "id": "f7a2a8c3",
   "metadata": {},
   "outputs": [
    {
     "ename": "TypeError",
     "evalue": "'set' object does not support item assignment",
     "output_type": "error",
     "traceback": [
      "\u001b[1;31m---------------------------------------------------------------------------\u001b[0m",
      "\u001b[1;31mTypeError\u001b[0m                                 Traceback (most recent call last)",
      "Cell \u001b[1;32mIn[29], line 8\u001b[0m\n\u001b[0;32m      3\u001b[0m s3 \u001b[38;5;241m=\u001b[39m {\u001b[38;5;241m25\u001b[39m,\u001b[38;5;241m21\u001b[39m,\u001b[38;5;241m28\u001b[39m,\u001b[38;5;241m26\u001b[39m,\u001b[38;5;241m30\u001b[39m,\u001b[38;5;241m19\u001b[39m,\u001b[38;5;241m15\u001b[39m,\u001b[38;5;241m18\u001b[39m}\n\u001b[0;32m      5\u001b[0m \u001b[38;5;66;03m#s3[0] = 29 'set' object does not support item assignment\u001b[39;00m\n\u001b[1;32m----> 8\u001b[0m s3[\u001b[38;5;241m2\u001b[39m] \u001b[38;5;241m=\u001b[39m \u001b[38;5;241m21\u001b[39m\n",
      "\u001b[1;31mTypeError\u001b[0m: 'set' object does not support item assignment"
     ]
    }
   ],
   "source": [
    "#2.sets have no indexing/slicing\n",
    "\n",
    "s3 = {25,21,28,26,30,19,15,18}\n",
    "\n",
    "#s3[0] = 29 'set' object does not support item assignment\n",
    "\n",
    "\n",
    "s3[2] = 21 #'set' object does not support item assignment"
   ]
  },
  {
   "cell_type": "code",
   "execution_count": 32,
   "id": "5e956a06",
   "metadata": {},
   "outputs": [
    {
     "name": "stdout",
     "output_type": "stream",
     "text": [
      "{'Vishal', (1, 2, 3)}\n"
     ]
    },
    {
     "ename": "TypeError",
     "evalue": "unhashable type: 'list'",
     "output_type": "error",
     "traceback": [
      "\u001b[1;31m---------------------------------------------------------------------------\u001b[0m",
      "\u001b[1;31mTypeError\u001b[0m                                 Traceback (most recent call last)",
      "Cell \u001b[1;32mIn[32], line 8\u001b[0m\n\u001b[0;32m      3\u001b[0m s1 \u001b[38;5;241m=\u001b[39m{\u001b[38;5;124m\"\u001b[39m\u001b[38;5;124mVishal\u001b[39m\u001b[38;5;124m\"\u001b[39m , (\u001b[38;5;241m1\u001b[39m,\u001b[38;5;241m2\u001b[39m,\u001b[38;5;241m3\u001b[39m)} \u001b[38;5;66;03m#\"Vishal\" :--> Immutable , (1,2,3):--> Immutable\u001b[39;00m\n\u001b[0;32m      5\u001b[0m \u001b[38;5;28mprint\u001b[39m(s1)\n\u001b[1;32m----> 8\u001b[0m s2 \u001b[38;5;241m=\u001b[39m{\u001b[38;5;124m\"\u001b[39m\u001b[38;5;124mVishal\u001b[39m\u001b[38;5;124m\"\u001b[39m , [\u001b[38;5;241m1\u001b[39m,\u001b[38;5;241m2\u001b[39m,\u001b[38;5;241m3\u001b[39m]}\n",
      "\u001b[1;31mTypeError\u001b[0m: unhashable type: 'list'"
     ]
    }
   ],
   "source": [
    "#3.sets do not allow mutable data type\n",
    "\n",
    "s1 ={\"Vishal\" , (1,2,3)} #\"Vishal\" :--> Immutable , (1,2,3):--> Immutable\n",
    "\n",
    "print(s1)\n",
    "\n",
    "\n",
    "s2 ={\"Vishal\" , [1,2,3]} # unhashable type: 'list'"
   ]
  },
  {
   "cell_type": "code",
   "execution_count": 36,
   "id": "77c1bc33",
   "metadata": {
    "scrolled": true
   },
   "outputs": [
    {
     "name": "stdout",
     "output_type": "stream",
     "text": [
      "{20, 21, 23, 25, 10, 29}\n",
      "{2, 3, 4, 5, 6, 7, 8, 9}\n",
      "{2, 3, 4, 5, 6, 8, 9}\n"
     ]
    },
    {
     "ename": "NameError",
     "evalue": "name 's2' is not defined",
     "output_type": "error",
     "traceback": [
      "\u001b[1;31m---------------------------------------------------------------------------\u001b[0m",
      "\u001b[1;31mNameError\u001b[0m                                 Traceback (most recent call last)",
      "Cell \u001b[1;32mIn[36], line 23\u001b[0m\n\u001b[0;32m     19\u001b[0m \u001b[38;5;28mprint\u001b[39m(s2)\n\u001b[0;32m     21\u001b[0m \u001b[38;5;28;01mdel\u001b[39;00m(s2)\n\u001b[1;32m---> 23\u001b[0m \u001b[38;5;28mprint\u001b[39m(s2)\n",
      "\u001b[1;31mNameError\u001b[0m: name 's2' is not defined"
     ]
    }
   ],
   "source": [
    "#4.sets itself is mutable data type\n",
    "\n",
    "s1 = {23,25,21,29,20}\n",
    "\n",
    "s1.add(10)\n",
    "\n",
    "print(s1)\n",
    "\n",
    "# Delete :--> pop / remove / del\n",
    "\n",
    "s2 = {1,2,3,4,5,6,7,8,9}\n",
    "\n",
    "s2.pop()\n",
    "\n",
    "print(s2)\n",
    "\n",
    "s2.remove(7)\n",
    "\n",
    "print(s2)\n",
    "\n",
    "del(s2)\n",
    "\n",
    "print(s2)#name 's2' is not defined"
   ]
  },
  {
   "cell_type": "code",
   "execution_count": 38,
   "id": "4e887567",
   "metadata": {
    "scrolled": false
   },
   "outputs": [
    {
     "ename": "TypeError",
     "evalue": "unsupported operand type(s) for *: 'set' and 'int'",
     "output_type": "error",
     "traceback": [
      "\u001b[1;31m---------------------------------------------------------------------------\u001b[0m",
      "\u001b[1;31mTypeError\u001b[0m                                 Traceback (most recent call last)",
      "Cell \u001b[1;32mIn[38], line 6\u001b[0m\n\u001b[0;32m      3\u001b[0m s1 \u001b[38;5;241m=\u001b[39m {\u001b[38;5;241m1\u001b[39m,\u001b[38;5;241m2\u001b[39m,\u001b[38;5;241m3\u001b[39m}\n\u001b[0;32m      4\u001b[0m s2 \u001b[38;5;241m=\u001b[39m {\u001b[38;5;241m1\u001b[39m,\u001b[38;5;241m2\u001b[39m,\u001b[38;5;241m3\u001b[39m}\n\u001b[1;32m----> 6\u001b[0m \u001b[38;5;28mprint\u001b[39m(s1\u001b[38;5;241m*\u001b[39m\u001b[38;5;241m3\u001b[39m)\n",
      "\u001b[1;31mTypeError\u001b[0m: unsupported operand type(s) for *: 'set' and 'int'"
     ]
    }
   ],
   "source": [
    "#Operations :---> are not supported in Sets\n",
    "\n",
    "s1 = {1,2,3}\n",
    "s2 = {1,2,3}\n",
    "\n",
    "print(s1*3) #unsupported operand type(s) for +: 'set' and 'set'"
   ]
  },
  {
   "cell_type": "code",
   "execution_count": 2,
   "id": "cf3f6d04",
   "metadata": {},
   "outputs": [
    {
     "name": "stdout",
     "output_type": "stream",
     "text": [
      "Max  :  63\n",
      "Min  :  1\n",
      "Len  :  8\n",
      "Sum of Set value is :  6\n"
     ]
    }
   ],
   "source": [
    "#Functions : -->  min , max , len , sum\n",
    "\n",
    "s1 = {12,13,24,1,28,20,63,23,23,20,12,13}\n",
    "\n",
    "\n",
    "print(\"Max  : \" , max(s1))\n",
    "print(\"Min  : \" , min(s1))\n",
    "print(\"Len  : \" , len(s1))\n",
    "\n",
    "s2 = {1,1,2,2,3,3} #1+1+2+2+3+3 =12\n",
    "\n",
    "print(\"Sum of Set value is : \" , sum(s2))#1+2+3 = 6\n",
    "\n",
    "\n",
    "\n",
    "\n"
   ]
  },
  {
   "cell_type": "code",
   "execution_count": 7,
   "id": "4b1c9029",
   "metadata": {},
   "outputs": [
    {
     "name": "stdout",
     "output_type": "stream",
     "text": [
      "{1, 2, 3, 4, 5, 6, 7, 8}\n",
      "\n",
      "{4, 5}\n",
      "\n",
      "{1, 2, 3}\n",
      "{8, 6, 7}\n",
      "\n",
      "{1, 2, 3, 6, 7, 8}\n"
     ]
    }
   ],
   "source": [
    "#union / intersection / difference / symmetric_difference\n",
    "\n",
    "s1 ={1,2,3,4,5}\n",
    "s2= {4,5,6,7,8}\n",
    "\n",
    "print(s1.union(s2))\n",
    "\n",
    "print()\n",
    "\n",
    "print(s1.intersection(s2))\n",
    "\n",
    "print()\n",
    "\n",
    "print(s1.difference(s2))\n",
    "print(s2.difference(s1))\n",
    "\n",
    "print()\n",
    "\n",
    "print(s1.symmetric_difference(s2))"
   ]
  }
 ],
 "metadata": {
  "kernelspec": {
   "display_name": "Python 3 (ipykernel)",
   "language": "python",
   "name": "python3"
  },
  "language_info": {
   "codemirror_mode": {
    "name": "ipython",
    "version": 3
   },
   "file_extension": ".py",
   "mimetype": "text/x-python",
   "name": "python",
   "nbconvert_exporter": "python",
   "pygments_lexer": "ipython3",
   "version": "3.11.3"
  }
 },
 "nbformat": 4,
 "nbformat_minor": 5
}
