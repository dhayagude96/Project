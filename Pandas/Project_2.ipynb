{
 "cells": [
  {
   "cell_type": "code",
   "execution_count": 1,
   "id": "a6017043",
   "metadata": {},
   "outputs": [],
   "source": [
    "import pandas as pd\n",
    "import numpy as np\n",
    "import seaborn as sns\n",
    "df = pd.read_excel(\"C:/Users/Vishal/Desktop/Workshop/CarSales.xlsx\")"
   ]
  },
  {
   "cell_type": "code",
   "execution_count": 2,
   "id": "bd53aa3d",
   "metadata": {},
   "outputs": [
    {
     "name": "stdout",
     "output_type": "stream",
     "text": [
      "Number of Row & Columns in Data Frame :  (457, 21)\n"
     ]
    }
   ],
   "source": [
    "print(\"Number of Row & Columns in Data Frame : \" , df.shape)"
   ]
  },
  {
   "cell_type": "code",
   "execution_count": 3,
   "id": "329c491e",
   "metadata": {},
   "outputs": [
    {
     "name": "stdout",
     "output_type": "stream",
     "text": [
      "Number of Rows in Data Frame :  457\n"
     ]
    }
   ],
   "source": [
    "print(\"Number of Rows in Data Frame : \" , df.shape[0])"
   ]
  },
  {
   "cell_type": "code",
   "execution_count": 4,
   "id": "5f5297d4",
   "metadata": {},
   "outputs": [
    {
     "name": "stdout",
     "output_type": "stream",
     "text": [
      "Number of Column in Data Frame :  21\n"
     ]
    }
   ],
   "source": [
    "print(\"Number of Column in Data Frame : \" , df.shape[1])"
   ]
  },
  {
   "cell_type": "code",
   "execution_count": 5,
   "id": "cf51b795",
   "metadata": {
    "scrolled": true
   },
   "outputs": [
    {
     "data": {
      "text/html": [
       "<div>\n",
       "<style scoped>\n",
       "    .dataframe tbody tr th:only-of-type {\n",
       "        vertical-align: middle;\n",
       "    }\n",
       "\n",
       "    .dataframe tbody tr th {\n",
       "        vertical-align: top;\n",
       "    }\n",
       "\n",
       "    .dataframe thead th {\n",
       "        text-align: right;\n",
       "    }\n",
       "</style>\n",
       "<table border=\"1\" class=\"dataframe\">\n",
       "  <thead>\n",
       "    <tr style=\"text-align: right;\">\n",
       "      <th></th>\n",
       "      <th>InvoiceDate</th>\n",
       "      <th>Make</th>\n",
       "      <th>CountryName</th>\n",
       "      <th>IsDealer</th>\n",
       "      <th>SalePrice</th>\n",
       "      <th>CostPrice</th>\n",
       "      <th>TotalDiscount</th>\n",
       "      <th>DeliveryCharge</th>\n",
       "      <th>SpareParts</th>\n",
       "      <th>LaborCost</th>\n",
       "      <th>...</th>\n",
       "      <th>Model</th>\n",
       "      <th>Color</th>\n",
       "      <th>ReportingYear</th>\n",
       "      <th>ReportingMonth</th>\n",
       "      <th>Registration_Date</th>\n",
       "      <th>VehicleType</th>\n",
       "      <th>InvoiceNumber</th>\n",
       "      <th>CountryISOCode</th>\n",
       "      <th>OuterPostode</th>\n",
       "      <th>Region</th>\n",
       "    </tr>\n",
       "  </thead>\n",
       "  <tbody>\n",
       "    <tr>\n",
       "      <th>0</th>\n",
       "      <td>2012-10-04</td>\n",
       "      <td>Rolls Royce</td>\n",
       "      <td>United Kingdom</td>\n",
       "      <td>NaN</td>\n",
       "      <td>95000</td>\n",
       "      <td>50000</td>\n",
       "      <td>500.0</td>\n",
       "      <td>750</td>\n",
       "      <td>500</td>\n",
       "      <td>750</td>\n",
       "      <td>...</td>\n",
       "      <td>Camargue</td>\n",
       "      <td>Red</td>\n",
       "      <td>2012</td>\n",
       "      <td>10</td>\n",
       "      <td>1985-01-08</td>\n",
       "      <td>Saloon</td>\n",
       "      <td>8B3D7F83-F42C-4523-A737-CDCBF7705B77</td>\n",
       "      <td>GBR</td>\n",
       "      <td>ST</td>\n",
       "      <td>East Midlands</td>\n",
       "    </tr>\n",
       "    <tr>\n",
       "      <th>1</th>\n",
       "      <td>2012-01-01</td>\n",
       "      <td>Aston Martin</td>\n",
       "      <td>United Kingdom</td>\n",
       "      <td>NaN</td>\n",
       "      <td>120000</td>\n",
       "      <td>75000</td>\n",
       "      <td>0.0</td>\n",
       "      <td>1500</td>\n",
       "      <td>600</td>\n",
       "      <td>550</td>\n",
       "      <td>...</td>\n",
       "      <td>DBS</td>\n",
       "      <td>Blue</td>\n",
       "      <td>2012</td>\n",
       "      <td>1</td>\n",
       "      <td>2007-05-09</td>\n",
       "      <td>Coupe</td>\n",
       "      <td>139BEEEF-FF32-4BE9-9EF1-819AC888B85C</td>\n",
       "      <td>GBR</td>\n",
       "      <td>EC</td>\n",
       "      <td>Greater London Authority</td>\n",
       "    </tr>\n",
       "  </tbody>\n",
       "</table>\n",
       "<p>2 rows × 21 columns</p>\n",
       "</div>"
      ],
      "text/plain": [
       "  InvoiceDate          Make     CountryName  IsDealer  SalePrice  CostPrice  \\\n",
       "0  2012-10-04   Rolls Royce  United Kingdom       NaN      95000      50000   \n",
       "1  2012-01-01  Aston Martin  United Kingdom       NaN     120000      75000   \n",
       "\n",
       "   TotalDiscount  DeliveryCharge  SpareParts  LaborCost  ...     Model Color  \\\n",
       "0          500.0             750         500        750  ...  Camargue   Red   \n",
       "1            0.0            1500         600        550  ...       DBS  Blue   \n",
       "\n",
       "  ReportingYear  ReportingMonth  Registration_Date VehicleType  \\\n",
       "0          2012              10         1985-01-08      Saloon   \n",
       "1          2012               1         2007-05-09       Coupe   \n",
       "\n",
       "                          InvoiceNumber CountryISOCode OuterPostode  \\\n",
       "0  8B3D7F83-F42C-4523-A737-CDCBF7705B77            GBR           ST   \n",
       "1  139BEEEF-FF32-4BE9-9EF1-819AC888B85C            GBR           EC   \n",
       "\n",
       "                     Region  \n",
       "0             East Midlands  \n",
       "1  Greater London Authority  \n",
       "\n",
       "[2 rows x 21 columns]"
      ]
     },
     "execution_count": 5,
     "metadata": {},
     "output_type": "execute_result"
    }
   ],
   "source": [
    "df.head(2)"
   ]
  },
  {
   "cell_type": "code",
   "execution_count": 31,
   "id": "cb5a364f",
   "metadata": {},
   "outputs": [
    {
     "data": {
      "text/plain": [
       "0      United Kingdom\n",
       "1      United Kingdom\n",
       "2      United Kingdom\n",
       "3      United Kingdom\n",
       "4      United Kingdom\n",
       "            ...      \n",
       "452               USA\n",
       "453               USA\n",
       "454               USA\n",
       "455               USA\n",
       "456               USA\n",
       "Name: CountryName, Length: 457, dtype: object"
      ]
     },
     "execution_count": 31,
     "metadata": {},
     "output_type": "execute_result"
    }
   ],
   "source": [
    "df['CountryName']"
   ]
  },
  {
   "cell_type": "code",
   "execution_count": 9,
   "id": "4c7fdfae",
   "metadata": {},
   "outputs": [
    {
     "name": "stdout",
     "output_type": "stream",
     "text": [
      "['United Kingdom' 'France' 'USA' 'Switzerland' 'Spain' 'Germany']\n"
     ]
    }
   ],
   "source": [
    "print(df['CountryName'].unique())"
   ]
  },
  {
   "cell_type": "code",
   "execution_count": 20,
   "id": "4be71798",
   "metadata": {},
   "outputs": [
    {
     "name": "stdout",
     "output_type": "stream",
     "text": [
      "Number of Car Sale in USA :  166\n"
     ]
    }
   ],
   "source": [
    "#Print Number of Car Sale in USA\n",
    "\n",
    "data = df['CountryName'] == \"USA\"\n",
    "\n",
    "print(\"Number of Car Sale in USA : \" , df[data].shape[0])"
   ]
  },
  {
   "cell_type": "code",
   "execution_count": 29,
   "id": "9729c695",
   "metadata": {},
   "outputs": [],
   "source": [
    "#print(df['Make'].unique())"
   ]
  },
  {
   "cell_type": "code",
   "execution_count": 30,
   "id": "f2c768f2",
   "metadata": {},
   "outputs": [
    {
     "data": {
      "text/html": [
       "<div>\n",
       "<style scoped>\n",
       "    .dataframe tbody tr th:only-of-type {\n",
       "        vertical-align: middle;\n",
       "    }\n",
       "\n",
       "    .dataframe tbody tr th {\n",
       "        vertical-align: top;\n",
       "    }\n",
       "\n",
       "    .dataframe thead th {\n",
       "        text-align: right;\n",
       "    }\n",
       "</style>\n",
       "<table border=\"1\" class=\"dataframe\">\n",
       "  <thead>\n",
       "    <tr style=\"text-align: right;\">\n",
       "      <th></th>\n",
       "      <th>InvoiceDate</th>\n",
       "      <th>Make</th>\n",
       "      <th>CountryName</th>\n",
       "      <th>IsDealer</th>\n",
       "      <th>SalePrice</th>\n",
       "      <th>CostPrice</th>\n",
       "      <th>TotalDiscount</th>\n",
       "      <th>DeliveryCharge</th>\n",
       "      <th>SpareParts</th>\n",
       "      <th>LaborCost</th>\n",
       "      <th>...</th>\n",
       "      <th>Model</th>\n",
       "      <th>Color</th>\n",
       "      <th>ReportingYear</th>\n",
       "      <th>ReportingMonth</th>\n",
       "      <th>Registration_Date</th>\n",
       "      <th>VehicleType</th>\n",
       "      <th>InvoiceNumber</th>\n",
       "      <th>CountryISOCode</th>\n",
       "      <th>OuterPostode</th>\n",
       "      <th>Region</th>\n",
       "    </tr>\n",
       "  </thead>\n",
       "  <tbody>\n",
       "  </tbody>\n",
       "</table>\n",
       "<p>0 rows × 21 columns</p>\n",
       "</div>"
      ],
      "text/plain": [
       "Empty DataFrame\n",
       "Columns: [InvoiceDate, Make, CountryName, IsDealer, SalePrice, CostPrice, TotalDiscount, DeliveryCharge, SpareParts, LaborCost, ClientName, Model, Color, ReportingYear, ReportingMonth, Registration_Date, VehicleType, InvoiceNumber, CountryISOCode, OuterPostode, Region]\n",
       "Index: []\n",
       "\n",
       "[0 rows x 21 columns]"
      ]
     },
     "execution_count": 30,
     "metadata": {},
     "output_type": "execute_result"
    }
   ],
   "source": [
    "data2 = df['Make'] == \"Bentley\"\n",
    "\n",
    "df[data2]"
   ]
  },
  {
   "cell_type": "code",
   "execution_count": null,
   "id": "92f7afe8",
   "metadata": {},
   "outputs": [],
   "source": []
  }
 ],
 "metadata": {
  "kernelspec": {
   "display_name": "Python 3 (ipykernel)",
   "language": "python",
   "name": "python3"
  },
  "language_info": {
   "codemirror_mode": {
    "name": "ipython",
    "version": 3
   },
   "file_extension": ".py",
   "mimetype": "text/x-python",
   "name": "python",
   "nbconvert_exporter": "python",
   "pygments_lexer": "ipython3",
   "version": "3.11.5"
  }
 },
 "nbformat": 4,
 "nbformat_minor": 5
}
