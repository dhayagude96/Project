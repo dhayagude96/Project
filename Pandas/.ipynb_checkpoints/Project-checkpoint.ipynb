{
 "cells": [
  {
   "cell_type": "code",
   "execution_count": 27,
   "id": "50759920",
   "metadata": {},
   "outputs": [],
   "source": [
    "import pandas as pd\n",
    "\n",
    "import matplotlib.pyplot as plt\n",
    "\n",
    "df = pd.read_html(\"https://www.moneycontrol.com/financials/tatamotors/balance-sheetVI/TM03\")\n",
    "\n",
    "data= df[0]\n",
    "\n",
    "data1 = data.transpose()\n",
    "\n",
    "data1.to_csv(\"C:/Users/Vishal/Desktop/Data/TataMotors.csv\")"
   ]
  },
  {
   "cell_type": "code",
   "execution_count": 13,
   "id": "9e4b7503",
   "metadata": {},
   "outputs": [
    {
     "name": "stdout",
     "output_type": "stream",
     "text": [
      "Max earning done by Tata Motors :  4006.6\n"
     ]
    }
   ],
   "source": [
    "df = pd.read_csv(\"C:/Users/Vishal/Desktop/Data/TataMotors.csv\")\n",
    "\n",
    "print(\"Max earning done by Tata Motors : \" ,df['Other Earnings'].max())"
   ]
  },
  {
   "cell_type": "code",
   "execution_count": 15,
   "id": "0a015b48",
   "metadata": {},
   "outputs": [
    {
     "name": "stdout",
     "output_type": "stream",
     "text": [
      "Avg value of Tata Motors Assets :  62845.96\n"
     ]
    }
   ],
   "source": [
    "print(\"Avg value of Tata Motors Assets : \" , df['Total Assets'].mean())"
   ]
  },
  {
   "cell_type": "code",
   "execution_count": 32,
   "id": "83c33e6f",
   "metadata": {},
   "outputs": [
    {
     "ename": "TypeError",
     "evalue": "list indices must be integers or slices, not str",
     "output_type": "error",
     "traceback": [
      "\u001b[1;31m---------------------------------------------------------------------------\u001b[0m",
      "\u001b[1;31mTypeError\u001b[0m                                 Traceback (most recent call last)",
      "Cell \u001b[1;32mIn[32], line 1\u001b[0m\n\u001b[1;32m----> 1\u001b[0m df[\u001b[38;5;124m'\u001b[39m\u001b[38;5;124mOther Earnings\u001b[39m\u001b[38;5;124m'\u001b[39m]\u001b[38;5;241m.\u001b[39mplot(kind\u001b[38;5;241m=\u001b[39m\u001b[38;5;124m\"\u001b[39m\u001b[38;5;124mbar\u001b[39m\u001b[38;5;124m\"\u001b[39m)\n",
      "\u001b[1;31mTypeError\u001b[0m: list indices must be integers or slices, not str"
     ]
    }
   ],
   "source": [
    "\n",
    "\n",
    "\n",
    "\n"
   ]
  }
 ],
 "metadata": {
  "kernelspec": {
   "display_name": "Python 3 (ipykernel)",
   "language": "python",
   "name": "python3"
  },
  "language_info": {
   "codemirror_mode": {
    "name": "ipython",
    "version": 3
   },
   "file_extension": ".py",
   "mimetype": "text/x-python",
   "name": "python",
   "nbconvert_exporter": "python",
   "pygments_lexer": "ipython3",
   "version": "3.11.3"
  }
 },
 "nbformat": 4,
 "nbformat_minor": 5
}
