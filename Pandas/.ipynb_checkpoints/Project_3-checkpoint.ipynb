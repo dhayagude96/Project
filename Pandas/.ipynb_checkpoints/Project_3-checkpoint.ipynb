{
 "cells": [
  {
   "cell_type": "code",
   "execution_count": 22,
   "id": "c48051b8",
   "metadata": {},
   "outputs": [],
   "source": [
    "import pandas as pd\n",
    "import numpy as np\n",
    "import seaborn as sns\n",
    "import matplotlib.pyplot as plt\n",
    "\n",
    "df = pd.read_excel(\"C:/Users/Vishal/Desktop/Workshop/CarSales.xlsx\")"
   ]
  },
  {
   "cell_type": "code",
   "execution_count": 4,
   "id": "5edea31d",
   "metadata": {},
   "outputs": [
    {
     "data": {
      "text/html": [
       "<div>\n",
       "<style scoped>\n",
       "    .dataframe tbody tr th:only-of-type {\n",
       "        vertical-align: middle;\n",
       "    }\n",
       "\n",
       "    .dataframe tbody tr th {\n",
       "        vertical-align: top;\n",
       "    }\n",
       "\n",
       "    .dataframe thead th {\n",
       "        text-align: right;\n",
       "    }\n",
       "</style>\n",
       "<table border=\"1\" class=\"dataframe\">\n",
       "  <thead>\n",
       "    <tr style=\"text-align: right;\">\n",
       "      <th></th>\n",
       "      <th>InvoiceDate</th>\n",
       "      <th>Make</th>\n",
       "      <th>CountryName</th>\n",
       "      <th>IsDealer</th>\n",
       "      <th>SalePrice</th>\n",
       "      <th>CostPrice</th>\n",
       "      <th>TotalDiscount</th>\n",
       "      <th>DeliveryCharge</th>\n",
       "      <th>SpareParts</th>\n",
       "      <th>LaborCost</th>\n",
       "      <th>...</th>\n",
       "      <th>Model</th>\n",
       "      <th>Color</th>\n",
       "      <th>ReportingYear</th>\n",
       "      <th>ReportingMonth</th>\n",
       "      <th>Registration_Date</th>\n",
       "      <th>VehicleType</th>\n",
       "      <th>InvoiceNumber</th>\n",
       "      <th>CountryISOCode</th>\n",
       "      <th>OuterPostode</th>\n",
       "      <th>Region</th>\n",
       "    </tr>\n",
       "  </thead>\n",
       "  <tbody>\n",
       "    <tr>\n",
       "      <th>0</th>\n",
       "      <td>2012-10-04</td>\n",
       "      <td>Rolls Royce</td>\n",
       "      <td>United Kingdom</td>\n",
       "      <td>NaN</td>\n",
       "      <td>95000</td>\n",
       "      <td>50000</td>\n",
       "      <td>500.0</td>\n",
       "      <td>750</td>\n",
       "      <td>500</td>\n",
       "      <td>750</td>\n",
       "      <td>...</td>\n",
       "      <td>Camargue</td>\n",
       "      <td>Red</td>\n",
       "      <td>2012</td>\n",
       "      <td>10</td>\n",
       "      <td>1985-01-08</td>\n",
       "      <td>Saloon</td>\n",
       "      <td>8B3D7F83-F42C-4523-A737-CDCBF7705B77</td>\n",
       "      <td>GBR</td>\n",
       "      <td>ST</td>\n",
       "      <td>East Midlands</td>\n",
       "    </tr>\n",
       "    <tr>\n",
       "      <th>1</th>\n",
       "      <td>2012-01-01</td>\n",
       "      <td>Aston Martin</td>\n",
       "      <td>United Kingdom</td>\n",
       "      <td>NaN</td>\n",
       "      <td>120000</td>\n",
       "      <td>75000</td>\n",
       "      <td>0.0</td>\n",
       "      <td>1500</td>\n",
       "      <td>600</td>\n",
       "      <td>550</td>\n",
       "      <td>...</td>\n",
       "      <td>DBS</td>\n",
       "      <td>Blue</td>\n",
       "      <td>2012</td>\n",
       "      <td>1</td>\n",
       "      <td>2007-05-09</td>\n",
       "      <td>Coupe</td>\n",
       "      <td>139BEEEF-FF32-4BE9-9EF1-819AC888B85C</td>\n",
       "      <td>GBR</td>\n",
       "      <td>EC</td>\n",
       "      <td>Greater London Authority</td>\n",
       "    </tr>\n",
       "  </tbody>\n",
       "</table>\n",
       "<p>2 rows × 21 columns</p>\n",
       "</div>"
      ],
      "text/plain": [
       "  InvoiceDate          Make     CountryName  IsDealer  SalePrice  CostPrice  \\\n",
       "0  2012-10-04   Rolls Royce  United Kingdom       NaN      95000      50000   \n",
       "1  2012-01-01  Aston Martin  United Kingdom       NaN     120000      75000   \n",
       "\n",
       "   TotalDiscount  DeliveryCharge  SpareParts  LaborCost  ...     Model Color  \\\n",
       "0          500.0             750         500        750  ...  Camargue   Red   \n",
       "1            0.0            1500         600        550  ...       DBS  Blue   \n",
       "\n",
       "  ReportingYear  ReportingMonth  Registration_Date VehicleType  \\\n",
       "0          2012              10         1985-01-08      Saloon   \n",
       "1          2012               1         2007-05-09       Coupe   \n",
       "\n",
       "                          InvoiceNumber CountryISOCode OuterPostode  \\\n",
       "0  8B3D7F83-F42C-4523-A737-CDCBF7705B77            GBR           ST   \n",
       "1  139BEEEF-FF32-4BE9-9EF1-819AC888B85C            GBR           EC   \n",
       "\n",
       "                     Region  \n",
       "0             East Midlands  \n",
       "1  Greater London Authority  \n",
       "\n",
       "[2 rows x 21 columns]"
      ]
     },
     "execution_count": 4,
     "metadata": {},
     "output_type": "execute_result"
    }
   ],
   "source": [
    "df.head(2)"
   ]
  },
  {
   "cell_type": "code",
   "execution_count": 6,
   "id": "b0ad273c",
   "metadata": {},
   "outputs": [
    {
     "name": "stdout",
     "output_type": "stream",
     "text": [
      "['Rolls Royce' 'Aston Martin' 'Jaguar' 'Bentley' 'TVR' 'MGB' 'Triumph']\n"
     ]
    }
   ],
   "source": [
    "print(df[\"Make\"].unique())"
   ]
  },
  {
   "cell_type": "code",
   "execution_count": 9,
   "id": "986ed75c",
   "metadata": {},
   "outputs": [
    {
     "name": "stdout",
     "output_type": "stream",
     "text": [
      "Number of Rolls Royce Sales :  63\n"
     ]
    }
   ],
   "source": [
    "#Number of Rolls Royce Sales ?\n",
    "\n",
    "data = df[\"Make\"] == \"Rolls Royce\"\n",
    "\n",
    "print(\"Number of Rolls Royce Sales : \" , df[data].shape[0])"
   ]
  },
  {
   "cell_type": "code",
   "execution_count": 10,
   "id": "5d3fdb81",
   "metadata": {},
   "outputs": [
    {
     "name": "stdout",
     "output_type": "stream",
     "text": [
      "['United Kingdom' 'France' 'USA' 'Switzerland' 'Spain' 'Germany']\n"
     ]
    }
   ],
   "source": [
    "print(df[\"CountryName\"].unique())"
   ]
  },
  {
   "cell_type": "code",
   "execution_count": 11,
   "id": "fb6218eb",
   "metadata": {},
   "outputs": [
    {
     "name": "stdout",
     "output_type": "stream",
     "text": [
      "Number of Car Sales in USA :  166\n"
     ]
    }
   ],
   "source": [
    "data2 = df[\"CountryName\"] == \"USA\"\n",
    "\n",
    "print(\"Number of Car Sales in USA : \" , df[data2].shape[0])"
   ]
  },
  {
   "cell_type": "code",
   "execution_count": 12,
   "id": "9015c66d",
   "metadata": {},
   "outputs": [],
   "source": [
    "#Parameter Function\n",
    "\n",
    "def get_count(colN,value):\n",
    "    data = df[colN] == value\n",
    "    return df[data].shape[0]"
   ]
  },
  {
   "cell_type": "code",
   "execution_count": 13,
   "id": "5e711e7a",
   "metadata": {},
   "outputs": [
    {
     "data": {
      "text/plain": [
       "4"
      ]
     },
     "execution_count": 13,
     "metadata": {},
     "output_type": "execute_result"
    }
   ],
   "source": [
    "get_count(\"CountryName\",\"Germany\")"
   ]
  },
  {
   "cell_type": "code",
   "execution_count": 14,
   "id": "00d9ffb5",
   "metadata": {},
   "outputs": [],
   "source": [
    "def get_count():\n",
    "    colN = input(\"Enter Col Name :\")\n",
    "    value = input('Enter Value :')\n",
    "    data = df[colN] == value\n",
    "    print(f\"Column Name {colN} Number of Values {df[data].shape[0]}\")"
   ]
  },
  {
   "cell_type": "code",
   "execution_count": 17,
   "id": "652261c7",
   "metadata": {},
   "outputs": [
    {
     "name": "stdout",
     "output_type": "stream",
     "text": [
      "Enter Col Name :Color\n",
      "Enter Value :Red\n",
      "Column Name Color Number of Values 83\n"
     ]
    }
   ],
   "source": [
    "get_count()"
   ]
  },
  {
   "cell_type": "code",
   "execution_count": 18,
   "id": "08141ae6",
   "metadata": {
    "scrolled": true
   },
   "outputs": [
    {
     "name": "stderr",
     "output_type": "stream",
     "text": [
      "C:\\Users\\Vishal\\anaconda3\\Lib\\site-packages\\seaborn\\axisgrid.py:118: UserWarning: The figure layout has changed to tight\n",
      "  self._figure.tight_layout(*args, **kwargs)\n"
     ]
    },
    {
     "data": {
      "text/plain": [
       "<seaborn.axisgrid.FacetGrid at 0x1fc91262110>"
      ]
     },
     "execution_count": 18,
     "metadata": {},
     "output_type": "execute_result"
    },
    {
     "data": {
      "image/png": "[encoded data removed]",
      "text/plain": [
       "<Figure size 500x500 with 1 Axes>"
      ]
     },
     "metadata": {},
     "output_type": "display_data"
    }
   ],
   "source": [
    "sns.catplot(x=\"Make\",y= \"SalePrice\", kind=\"box\" , data = df) "
   ]
  }
 ],
 "metadata": {
  "kernelspec": {
   "display_name": "Python 3 (ipykernel)",
   "language": "python",
   "name": "python3"
  },
  "language_info": {
   "codemirror_mode": {
    "name": "ipython",
    "version": 3
   },
   "file_extension": ".py",
   "mimetype": "text/x-python",
   "name": "python",
   "nbconvert_exporter": "python",
   "pygments_lexer": "ipython3",
   "version": "3.11.5"
  }
 },
 "nbformat": 4,
 "nbformat_minor": 5
}
