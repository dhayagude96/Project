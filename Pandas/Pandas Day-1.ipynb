{
 "cells": [
  {
   "cell_type": "markdown",
   "id": "6f219575",
   "metadata": {},
   "source": [
    "# What is Pandas?\n",
    "\n",
    "Pandas which is a popular open-source library for data manipulation and analysis. Pandas provides data structures and functions that make it easy to work with structured data, such as tabular data (like spreadsheets) or time series data."
   ]
  },
  {
   "cell_type": "markdown",
   "id": "b40bccc7",
   "metadata": {},
   "source": [
    "# Data structures in Pandas are\n",
    "\n",
    "Series:\n",
    "\n",
    "A one-dimensional labeled array that can hold data of any type.\n",
    "\n",
    "DataFrame: \n",
    "\n",
    "A two-dimensional table with rows and columns, similar to a spreadsheet or a SQL table.\n",
    "\n",
    "\n",
    "\n",
    "Pandas allows you to read and write data from various file formats, including CSV, Excel, SQL databases, and more. It also provides powerful tools for data cleaning, filtering, grouping, aggregation, and visualization."
   ]
  },
  {
   "cell_type": "markdown",
   "id": "403b89af",
   "metadata": {},
   "source": [
    "# why pandas ?\n",
    "\n",
    "\n",
    "\n",
    "1.Data Cleaning\n",
    "\n",
    "2.Data Exploration\n",
    "\n",
    "3.Data Manipulation\n",
    "\n",
    "4.Time Series Analysis\n",
    "\n",
    "5.Integration with Other Libraries\n",
    "\n",
    "6.Data Import and Export\n",
    "\n",
    "7.Flexibility and Customization\n",
    "\n",
    "8.Large Community and Ecosystem\n",
    "\n",
    "9.Open Source and Free"
   ]
  },
  {
   "cell_type": "code",
   "execution_count": 1,
   "id": "5411f6b0",
   "metadata": {},
   "outputs": [],
   "source": [
    "import pandas as pd"
   ]
  },
  {
   "cell_type": "code",
   "execution_count": 5,
   "id": "017966ec",
   "metadata": {},
   "outputs": [
    {
     "data": {
      "text/plain": [
       "Ajay      1\n",
       "Anuja     2\n",
       "Govind    3\n",
       "dtype: int64"
      ]
     },
     "execution_count": 5,
     "metadata": {},
     "output_type": "execute_result"
    }
   ],
   "source": [
    "\"\"\"\n",
    "Series:\n",
    "\n",
    "A one-dimensional labeled array that can hold data of any type.\n",
    "\n",
    "\"\"\"\n",
    "\n",
    "s=pd.Series([1,2,3] , index = [\"Ajay\",\"Anuja\",\"bGovind\"])\n",
    "\n",
    "s"
   ]
  },
  {
   "cell_type": "code",
   "execution_count": 7,
   "id": "1dd33265",
   "metadata": {
    "scrolled": true
   },
   "outputs": [
    {
     "data": {
      "text/html": [
       "<div>\n",
       "<style scoped>\n",
       "    .dataframe tbody tr th:only-of-type {\n",
       "        vertical-align: middle;\n",
       "    }\n",
       "\n",
       "    .dataframe tbody tr th {\n",
       "        vertical-align: top;\n",
       "    }\n",
       "\n",
       "    .dataframe thead th {\n",
       "        text-align: right;\n",
       "    }\n",
       "</style>\n",
       "<table border=\"1\" class=\"dataframe\">\n",
       "  <thead>\n",
       "    <tr style=\"text-align: right;\">\n",
       "      <th></th>\n",
       "      <th>Srno</th>\n",
       "      <th>Name</th>\n",
       "      <th>City</th>\n",
       "    </tr>\n",
       "  </thead>\n",
       "  <tbody>\n",
       "    <tr>\n",
       "      <th>0</th>\n",
       "      <td>1</td>\n",
       "      <td>Ajay</td>\n",
       "      <td>Latur</td>\n",
       "    </tr>\n",
       "    <tr>\n",
       "      <th>1</th>\n",
       "      <td>2</td>\n",
       "      <td>Govind</td>\n",
       "      <td>Pune</td>\n",
       "    </tr>\n",
       "    <tr>\n",
       "      <th>2</th>\n",
       "      <td>3</td>\n",
       "      <td>Shital</td>\n",
       "      <td>Mumbai</td>\n",
       "    </tr>\n",
       "  </tbody>\n",
       "</table>\n",
       "</div>"
      ],
      "text/plain": [
       "   Srno    Name    City\n",
       "0     1    Ajay   Latur\n",
       "1     2  Govind    Pune\n",
       "2     3  Shital  Mumbai"
      ]
     },
     "execution_count": 7,
     "metadata": {},
     "output_type": "execute_result"
    }
   ],
   "source": [
    "\"\"\"\n",
    "DataFrame: \n",
    "\n",
    "A two-dimensional table with rows and columns, similar to a spreadsheet or a SQL table.\n",
    "\n",
    "\"\"\"\n",
    "\n",
    "b\n",
    "\n",
    "student_data = {\n",
    "    \"Srno\":[1,2,3],\n",
    "    \"Name\":[\"Ajay\",\"Govind\",\"Shital\"],\n",
    "    \"City\":[\"Latur\",\"Pune\",\"Mumbai\"]\n",
    "}\n",
    "\n",
    "df1 = pd.DataFrame(student_data)\n",
    "\n",
    "df1"
   ]
  },
  {
   "cell_type": "code",
   "execution_count": 9,
   "id": "ac44e33a",
   "metadata": {
    "scrolled": true
   },
   "outputs": [
    {
     "data": {
      "text/html": [
       "<div>\n",
       "<style scoped>\n",
       "    .dataframe tbody tr th:only-of-type {\n",
       "        vertical-align: middle;\n",
       "    }\n",
       "\n",
       "    .dataframe tbody tr th {\n",
       "        vertical-align: top;\n",
       "    }\n",
       "\n",
       "    .dataframe thead th {\n",
       "        text-align: right;\n",
       "    }\n",
       "</style>\n",
       "<table border=\"1\" class=\"dataframe\">\n",
       "  <thead>\n",
       "    <tr style=\"text-align: right;\">\n",
       "      <th></th>\n",
       "      <th>Srno</th>\n",
       "      <th>Name</th>\n",
       "      <th>City</th>\n",
       "    </tr>\n",
       "  </thead>\n",
       "  <tbody>\n",
       "    <tr>\n",
       "      <th>0</th>\n",
       "      <td>1</td>\n",
       "      <td>Vishal</td>\n",
       "      <td>Pune</td>\n",
       "    </tr>\n",
       "    <tr>\n",
       "      <th>1</th>\n",
       "      <td>2</td>\n",
       "      <td>Ajay</td>\n",
       "      <td>Latur</td>\n",
       "    </tr>\n",
       "    <tr>\n",
       "      <th>2</th>\n",
       "      <td>3</td>\n",
       "      <td>Shital</td>\n",
       "      <td>Baramati</td>\n",
       "    </tr>\n",
       "  </tbody>\n",
       "</table>\n",
       "</div>"
      ],
      "text/plain": [
       "   Srno    Name      City\n",
       "0     1  Vishal      Pune\n",
       "1     2    Ajay     Latur\n",
       "2     3  Shital  Baramati"
      ]
     },
     "execution_count": 9,
     "metadata": {},
     "output_type": "execute_result"
    }
   ],
   "source": [
    "#2.Data Frame Using Tuple\n",
    "\n",
    "student_Data = [\n",
    "    (1,\"Vishal\",\"Pune\"),\n",
    "    (2,\"Ajay\",\"Latur\"),\n",
    "    (3,\"Shital\",\"Baramati\")\n",
    "    \n",
    "]\n",
    "\n",
    "df2 = pd.DataFrame(data=student_Data,\n",
    "                  columns = [\"Srno\",\"Name\",\"City\"])\n",
    "\n",
    "df2"
   ]
  },
  {
   "cell_type": "code",
   "execution_count": 11,
   "id": "341878b7",
   "metadata": {
    "scrolled": true
   },
   "outputs": [
    {
     "data": {
      "text/html": [
       "<div>\n",
       "<style scoped>\n",
       "    .dataframe tbody tr th:only-of-type {\n",
       "        vertical-align: middle;\n",
       "    }\n",
       "\n",
       "    .dataframe tbody tr th {\n",
       "        vertical-align: top;\n",
       "    }\n",
       "\n",
       "    .dataframe thead th {\n",
       "        text-align: right;\n",
       "    }\n",
       "</style>\n",
       "<table border=\"1\" class=\"dataframe\">\n",
       "  <thead>\n",
       "    <tr style=\"text-align: right;\">\n",
       "      <th></th>\n",
       "      <th>Srno</th>\n",
       "      <th>Name</th>\n",
       "      <th>City</th>\n",
       "    </tr>\n",
       "  </thead>\n",
       "  <tbody>\n",
       "    <tr>\n",
       "      <th>0</th>\n",
       "      <td>1</td>\n",
       "      <td>Vishal</td>\n",
       "      <td>Pune</td>\n",
       "    </tr>\n",
       "    <tr>\n",
       "      <th>1</th>\n",
       "      <td>2</td>\n",
       "      <td>Shital</td>\n",
       "      <td>Latur</td>\n",
       "    </tr>\n",
       "    <tr>\n",
       "      <th>2</th>\n",
       "      <td>3</td>\n",
       "      <td>Ajay</td>\n",
       "      <td>Baramati</td>\n",
       "    </tr>\n",
       "  </tbody>\n",
       "</table>\n",
       "</div>"
      ],
      "text/plain": [
       "   Srno    Name      City\n",
       "0     1  Vishal      Pune\n",
       "1     2  Shital     Latur\n",
       "2     3    Ajay  Baramati"
      ]
     },
     "execution_count": 11,
     "metadata": {},
     "output_type": "execute_result"
    }
   ],
   "source": [
    "#3.Data Frame Using List of Dict\n",
    "\n",
    "student_Data = [\n",
    "    {\"Srno\":1,\"Name\":\"Vishal\",\"City\":\"Pune\"},\n",
    "     {\"Srno\":2,\"Name\":\"Shital\",\"City\":\"Latur\"},\n",
    "     {\"Srno\":3,\"Name\":\"Ajay\",\"City\":\"Baramati\"}\n",
    "]\n",
    "\n",
    "df3 = pd.DataFrame(data=student_Data,\n",
    "                  columns=[\"Srno\",\"Name\",\"City\"])\n",
    "\n",
    "df3"
   ]
  },
  {
   "cell_type": "code",
   "execution_count": 17,
   "id": "eebfe952",
   "metadata": {},
   "outputs": [],
   "source": [
    "#importing Data Set into Pandas :--> csv/excel/html\n",
    "\n",
    "#Using excel file\n",
    "df4 = pd.read_excel(\"C:/Users/Vishal/Desktop/Data/CarSalesData.xlsx\")\n",
    "\n"
   ]
  },
  {
   "cell_type": "code",
   "execution_count": 15,
   "id": "0f945b38",
   "metadata": {},
   "outputs": [],
   "source": [
    "#Using csv file\n",
    "\n",
    "df5 = pd.read_csv(\"C:/Users/Vishal/Desktop/Data/CarSalesData.csv\")\n",
    "\n",
    "\n"
   ]
  },
  {
   "cell_type": "code",
   "execution_count": 23,
   "id": "12d48e65",
   "metadata": {},
   "outputs": [],
   "source": [
    "#Multiple excel sheets\n",
    "\n",
    "xlx = pd.ExcelFile(\"C:/Users/Vishal/Desktop/Data/CarSalesData.xlsx\")\n",
    "\n",
    "df6 = pd.read_excel(xlx, \"Countries\")\n",
    "\n",
    "df7 = pd.read_excel(xlx,\"Stock\")\n"
   ]
  },
  {
   "cell_type": "code",
   "execution_count": 33,
   "id": "02b3069b",
   "metadata": {},
   "outputs": [],
   "source": [
    "#Using Html File\n",
    "\n",
    "url = \"https://www.moneycontrol.com/mutual-funds/best-funds/equity.html\"\n",
    "\n",
    "df8 = pd.read_html(url)\n",
    "\n",
    "mutalfund = df8[0]\n",
    "\n",
    "mutalfund.to_csv(\"C:/Users/Vishal/Desktop/Data/MutalFunds.csv\")\n",
    "\n",
    "mutalfund.to_excel(\"C:/Users/Vishal/Desktop/Data/MutalFunds.xlsx\")"
   ]
  }
 ],
 "metadata": {
  "kernelspec": {
   "display_name": "Python 3 (ipykernel)",
   "language": "python",
   "name": "python3"
  },
  "language_info": {
   "codemirror_mode": {
    "name": "ipython",
    "version": 3
   },
   "file_extension": ".py",
   "mimetype": "text/x-python",
   "name": "python",
   "nbconvert_exporter": "python",
   "pygments_lexer": "ipython3",
   "version": "3.11.5"
  }
 },
 "nbformat": 4,
 "nbformat_minor": 5
}
