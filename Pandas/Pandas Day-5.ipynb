{
 "cells": [
  {
   "cell_type": "code",
   "execution_count": 12,
   "id": "6540f8ce",
   "metadata": {
    "scrolled": false
   },
   "outputs": [
    {
     "data": {
      "text/html": [
       "<div>\n",
       "<style scoped>\n",
       "    .dataframe tbody tr th:only-of-type {\n",
       "        vertical-align: middle;\n",
       "    }\n",
       "\n",
       "    .dataframe tbody tr th {\n",
       "        vertical-align: top;\n",
       "    }\n",
       "\n",
       "    .dataframe thead th {\n",
       "        text-align: right;\n",
       "    }\n",
       "</style>\n",
       "<table border=\"1\" class=\"dataframe\">\n",
       "  <thead>\n",
       "    <tr style=\"text-align: right;\">\n",
       "      <th></th>\n",
       "      <th>InvoiceDate</th>\n",
       "      <th>Make</th>\n",
       "      <th>CountryName</th>\n",
       "      <th>IsDealer</th>\n",
       "      <th>SalePrice</th>\n",
       "      <th>CostPrice</th>\n",
       "      <th>TotalDiscount</th>\n",
       "      <th>DeliveryCharge</th>\n",
       "      <th>SpareParts</th>\n",
       "      <th>LaborCost</th>\n",
       "      <th>...</th>\n",
       "      <th>Model</th>\n",
       "      <th>Color</th>\n",
       "      <th>ReportingYear</th>\n",
       "      <th>ReportingMonth</th>\n",
       "      <th>Registration_Date</th>\n",
       "      <th>VehicleType</th>\n",
       "      <th>InvoiceNumber</th>\n",
       "      <th>CountryISOCode</th>\n",
       "      <th>OuterPostode</th>\n",
       "      <th>Region</th>\n",
       "    </tr>\n",
       "  </thead>\n",
       "  <tbody>\n",
       "    <tr>\n",
       "      <th>0</th>\n",
       "      <td>2012-10-04</td>\n",
       "      <td>Rolls Royce</td>\n",
       "      <td>United Kingdom</td>\n",
       "      <td>NaN</td>\n",
       "      <td>95000</td>\n",
       "      <td>50000</td>\n",
       "      <td>500.0</td>\n",
       "      <td>750</td>\n",
       "      <td>500</td>\n",
       "      <td>750</td>\n",
       "      <td>...</td>\n",
       "      <td>Camargue</td>\n",
       "      <td>Red</td>\n",
       "      <td>2012</td>\n",
       "      <td>10</td>\n",
       "      <td>1985-01-08</td>\n",
       "      <td>Saloon</td>\n",
       "      <td>8B3D7F83-F42C-4523-A737-CDCBF7705B77</td>\n",
       "      <td>GBR</td>\n",
       "      <td>ST</td>\n",
       "      <td>East Midlands</td>\n",
       "    </tr>\n",
       "    <tr>\n",
       "      <th>1</th>\n",
       "      <td>2012-01-01</td>\n",
       "      <td>Aston Martin</td>\n",
       "      <td>United Kingdom</td>\n",
       "      <td>NaN</td>\n",
       "      <td>120000</td>\n",
       "      <td>75000</td>\n",
       "      <td>0.0</td>\n",
       "      <td>1500</td>\n",
       "      <td>600</td>\n",
       "      <td>550</td>\n",
       "      <td>...</td>\n",
       "      <td>DBS</td>\n",
       "      <td>Blue</td>\n",
       "      <td>2012</td>\n",
       "      <td>1</td>\n",
       "      <td>2007-05-09</td>\n",
       "      <td>Coupe</td>\n",
       "      <td>139BEEEF-FF32-4BE9-9EF1-819AC888B85C</td>\n",
       "      <td>GBR</td>\n",
       "      <td>EC</td>\n",
       "      <td>Greater London Authority</td>\n",
       "    </tr>\n",
       "  </tbody>\n",
       "</table>\n",
       "<p>2 rows × 21 columns</p>\n",
       "</div>"
      ],
      "text/plain": [
       "  InvoiceDate          Make     CountryName  IsDealer  SalePrice  CostPrice  \\\n",
       "0  2012-10-04   Rolls Royce  United Kingdom       NaN      95000      50000   \n",
       "1  2012-01-01  Aston Martin  United Kingdom       NaN     120000      75000   \n",
       "\n",
       "   TotalDiscount  DeliveryCharge  SpareParts  LaborCost  ...     Model Color  \\\n",
       "0          500.0             750         500        750  ...  Camargue   Red   \n",
       "1            0.0            1500         600        550  ...       DBS  Blue   \n",
       "\n",
       "  ReportingYear  ReportingMonth  Registration_Date VehicleType  \\\n",
       "0          2012              10         1985-01-08      Saloon   \n",
       "1          2012               1         2007-05-09       Coupe   \n",
       "\n",
       "                          InvoiceNumber CountryISOCode OuterPostode  \\\n",
       "0  8B3D7F83-F42C-4523-A737-CDCBF7705B77            GBR           ST   \n",
       "1  139BEEEF-FF32-4BE9-9EF1-819AC888B85C            GBR           EC   \n",
       "\n",
       "                     Region  \n",
       "0             East Midlands  \n",
       "1  Greater London Authority  \n",
       "\n",
       "[2 rows x 21 columns]"
      ]
     },
     "execution_count": 12,
     "metadata": {},
     "output_type": "execute_result"
    }
   ],
   "source": [
    "import pandas as pd\n",
    "import numpy as np\n",
    "import seaborn as sns\n",
    "df = pd.read_excel(\"C:/Users/Vishal/Desktop/Workshop/CarSales.xlsx\")\n",
    "\n",
    "df.head(2)"
   ]
  },
  {
   "cell_type": "code",
   "execution_count": 20,
   "id": "bbc4022b",
   "metadata": {},
   "outputs": [
    {
     "name": "stdout",
     "output_type": "stream",
     "text": [
      "Number of Values Rows in Sheet :  457\n",
      "Number of Values Column in Sheet :  21\n"
     ]
    }
   ],
   "source": [
    "print(\"Number of Values Rows in Sheet : \" , df.shape[0])\n",
    "print(\"Number of Values Column in Sheet : \" , df.shape[1])"
   ]
  },
  {
   "cell_type": "code",
   "execution_count": 28,
   "id": "f35ebc85",
   "metadata": {},
   "outputs": [
    {
     "data": {
      "text/plain": [
       "22500"
      ]
     },
     "execution_count": 28,
     "metadata": {},
     "output_type": "execute_result"
    }
   ],
   "source": [
    "df['SalePrice'].min()"
   ]
  },
  {
   "cell_type": "code",
   "execution_count": 29,
   "id": "7236993e",
   "metadata": {},
   "outputs": [
    {
     "name": "stdout",
     "output_type": "stream",
     "text": [
      "Total Sale Price of all Cars :  31697940\n"
     ]
    }
   ],
   "source": [
    "print(\"Total Sale Price of all Cars : \" , df['SalePrice'].sum() )"
   ]
  },
  {
   "cell_type": "code",
   "execution_count": 31,
   "id": "e357b6ae",
   "metadata": {},
   "outputs": [
    {
     "name": "stdout",
     "output_type": "stream",
     "text": [
      "Max Discount Given :  5050.0\n",
      "Min Discount Given :  0.0\n"
     ]
    }
   ],
   "source": [
    "print(\"Max Discount Given : \" , df['TotalDiscount'].max())\n",
    "print(\"Min Discount Given : \" , df['TotalDiscount'].min())"
   ]
  },
  {
   "cell_type": "code",
   "execution_count": 33,
   "id": "640c4d57",
   "metadata": {},
   "outputs": [
    {
     "name": "stdout",
     "output_type": "stream",
     "text": [
      "Profit : 11288045\n"
     ]
    }
   ],
   "source": [
    "sumOfSale = df['SalePrice'].sum()\n",
    "sumOfCost = df['CostPrice'].sum()\n",
    "\n",
    "print(\"Profit :\" , sumOfSale-sumOfCost)"
   ]
  },
  {
   "cell_type": "code",
   "execution_count": null,
   "id": "a2994f97",
   "metadata": {},
   "outputs": [],
   "source": [
    " df['SalePrice'] = \"\""
   ]
  },
  {
   "cell_type": "code",
   "execution_count": 9,
   "id": "d56fc122",
   "metadata": {},
   "outputs": [
    {
     "data": {
      "text/plain": [
       "63"
      ]
     },
     "execution_count": 9,
     "metadata": {},
     "output_type": "execute_result"
    }
   ],
   "source": [
    "#How many rolls Royce Sale\n",
    "\n",
    "data=df['Make'] == 'Rolls Royce'\n",
    "\n",
    "df[data].shape[0]"
   ]
  },
  {
   "cell_type": "code",
   "execution_count": 10,
   "id": "021ca9c6",
   "metadata": {},
   "outputs": [
    {
     "name": "stdout",
     "output_type": "stream",
     "text": [
      "Number of Car sales in USA :  166\n"
     ]
    }
   ],
   "source": [
    "data2 = df['CountryName'] == \"USA\"\n",
    "\n",
    "print(\"Number of Car sales in USA : \" , df[data2].shape[0])"
   ]
  },
  {
   "cell_type": "code",
   "execution_count": 13,
   "id": "aa8d10a3",
   "metadata": {
    "scrolled": true
   },
   "outputs": [
    {
     "name": "stdout",
     "output_type": "stream",
     "text": [
      "Enter Column Name :CountryName\n",
      "Enter Value Your Searching for : United Kingdom\n"
     ]
    }
   ],
   "source": [
    "\n",
    "\n",
    "def get_counts(colN,info):\n",
    "    data = df[colN] == info\n",
    "    print(f\"Column Name : {colN} Values in that Column : {info}\")\n",
    "    #return df[data].shape[0]"
   ]
  },
  {
   "cell_type": "code",
   "execution_count": 16,
   "id": "453024cd",
   "metadata": {},
   "outputs": [],
   "source": [
    "def get_counts():\n",
    "    colN=input(\"Enter Column Name :\")\n",
    "    info = input(\"Enter value Your Searching for :\")\n",
    "    data = df[colN] == info\n",
    "    print(f\"Column Name : {colN} Values in that Column : {df[data].shape[0]}\")\n",
    "    #return df[data].shape[0]"
   ]
  },
  {
   "cell_type": "code",
   "execution_count": 17,
   "id": "3e079810",
   "metadata": {},
   "outputs": [
    {
     "name": "stdout",
     "output_type": "stream",
     "text": [
      "Enter Column Name :CountryName\n",
      "Enter value Your Searching for :United Kingdom\n",
      "Column Name : CountryName Values in that Column : 215\n"
     ]
    }
   ],
   "source": [
    "vishal = get_counts()"
   ]
  },
  {
   "cell_type": "code",
   "execution_count": 12,
   "id": "3e050866",
   "metadata": {},
   "outputs": [
    {
     "name": "stdout",
     "output_type": "stream",
     "text": [
      "Number of Car Sales in CountryName : United Kingdom :  215\n"
     ]
    }
   ],
   "source": [
    "print(\"Number of Car Sales in CountryName : United Kingdom : \", get_counts(\"CountryName\",\"United Kingdom\"))"
   ]
  },
  {
   "cell_type": "code",
   "execution_count": 13,
   "id": "6e072cda",
   "metadata": {},
   "outputs": [],
   "source": [
    "def get_count(colN,info):\n",
    "    data = df[colN] == info\n",
    "    return df[data].shape[0]\n",
    "    "
   ]
  },
  {
   "cell_type": "code",
   "execution_count": 14,
   "id": "ee094898",
   "metadata": {},
   "outputs": [
    {
     "name": "stdout",
     "output_type": "stream",
     "text": [
      "Number Aston Martin in Data Set :  110\n"
     ]
    }
   ],
   "source": [
    "print(\"Number Aston Martin in Data Set : \" ,get_count(\"Make\",\"Aston Martin\"))"
   ]
  },
  {
   "cell_type": "code",
   "execution_count": 16,
   "id": "b5142463",
   "metadata": {
    "scrolled": true
   },
   "outputs": [
    {
     "name": "stdout",
     "output_type": "stream",
     "text": [
      "Number of Red Car Sales in Data Base :  59\n"
     ]
    }
   ],
   "source": [
    "print(\"Number of Red Car Sales in Data Base : \" , get_count(\"Color\",\"Blue\"))"
   ]
  },
  {
   "cell_type": "code",
   "execution_count": 18,
   "id": "155e176c",
   "metadata": {
    "scrolled": true
   },
   "outputs": [
    {
     "data": {
      "text/plain": [
       "Make\n",
       "Jaguar          129\n",
       "Aston Martin    110\n",
       "Bentley          71\n",
       "Rolls Royce      63\n",
       "MGB              36\n",
       "Triumph          34\n",
       "TVR              14\n",
       "dtype: int64"
      ]
     },
     "execution_count": 18,
     "metadata": {},
     "output_type": "execute_result"
    }
   ],
   "source": [
    "#value_counts\n",
    "\n",
    "df.value_counts('Make')"
   ]
  },
  {
   "cell_type": "code",
   "execution_count": 19,
   "id": "27c2c3ed",
   "metadata": {
    "scrolled": true
   },
   "outputs": [
    {
     "data": {
      "text/plain": [
       "Color\n",
       "Red                     83\n",
       "Canary Yellow           71\n",
       "Blue                    59\n",
       "Silver                  56\n",
       "Green                   41\n",
       "Black                   40\n",
       "British Racing Green    39\n",
       "Dark Purple             36\n",
       "Night Blue              32\n",
       "dtype: int64"
      ]
     },
     "execution_count": 19,
     "metadata": {},
     "output_type": "execute_result"
    }
   ],
   "source": [
    "df.value_counts('Color')"
   ]
  },
  {
   "cell_type": "code",
   "execution_count": 23,
   "id": "bafd379d",
   "metadata": {},
   "outputs": [
    {
     "data": {
      "text/plain": [
       "<Axes: >"
      ]
     },
     "execution_count": 23,
     "metadata": {},
     "output_type": "execute_result"
    },
    {
     "data": {
      "image/png": "[encoded data removed]",
      "text/plain": [
       "<Figure size 640x480 with 1 Axes>"
      ]
     },
     "metadata": {},
     "output_type": "display_data"
    }
   ],
   "source": [
    "df.value_counts('Make').plot(kind='pie')"
   ]
  },
  {
   "cell_type": "code",
   "execution_count": 27,
   "id": "066afa01",
   "metadata": {},
   "outputs": [
    {
     "data": {
      "text/plain": [
       "<Axes: xlabel='CountryName'>"
      ]
     },
     "execution_count": 27,
     "metadata": {},
     "output_type": "execute_result"
    },
    {
     "data": {
      "image/png": "[encoded data removed]",
      "text/plain": [
       "<Figure size 640x480 with 1 Axes>"
      ]
     },
     "metadata": {},
     "output_type": "display_data"
    }
   ],
   "source": [
    "df.value_counts('CountryName').head(5).plot(kind='bar')"
   ]
  },
  {
   "cell_type": "code",
   "execution_count": 3,
   "id": "45095ebe",
   "metadata": {},
   "outputs": [],
   "source": [
    "salesData = df['SalePrice']"
   ]
  },
  {
   "cell_type": "code",
   "execution_count": 11,
   "id": "7d88f5d2",
   "metadata": {},
   "outputs": [
    {
     "name": "stdout",
     "output_type": "stream",
     "text": [
      "MAX :  181250\n",
      "MIN :  22500\n",
      "1st Q: 39500.0\n",
      "2nd Q: 110000.0\n",
      "IQR :  70500.0\n",
      "LH :  -66250.0\n",
      "HF :  215750.0\n"
     ]
    }
   ],
   "source": [
    "print(\"MAX : \" , np.max(salesData))\n",
    "print(\"MIN : \" , np.min(salesData))\n",
    "\n",
    "Q1 , Q3 = np.percentile(salesData,[25,75])\n",
    "\n",
    "print(\"1st Q:\" , Q1)\n",
    "print(\"2nd Q:\" , Q3)\n",
    "\n",
    "IQR = Q3 - Q1\n",
    "\n",
    "print(\"IQR : \" , IQR)\n",
    "\n",
    "LF = Q1 - 1.5*IQR\n",
    "HF = Q3 + 1.5*IQR\n",
    "\n",
    "print(\"LH : \", LF)\n",
    "print(\"HF : \", HF)"
   ]
  },
  {
   "cell_type": "code",
   "execution_count": 13,
   "id": "3a57db44",
   "metadata": {
    "scrolled": true
   },
   "outputs": [
    {
     "data": {
      "text/plain": [
       "<Axes: >"
      ]
     },
     "execution_count": 13,
     "metadata": {},
     "output_type": "execute_result"
    },
    {
     "data": {
      "image/png": "[encoded data removed]",
      "text/plain": [
       "<Figure size 640x480 with 1 Axes>"
      ]
     },
     "metadata": {},
     "output_type": "display_data"
    }
   ],
   "source": [
    "sns.boxplot(salesData)"
   ]
  },
  {
   "cell_type": "code",
   "execution_count": 15,
   "id": "acc4727e",
   "metadata": {},
   "outputs": [
    {
     "name": "stderr",
     "output_type": "stream",
     "text": [
      "C:\\Users\\Vishal\\anaconda3\\Lib\\site-packages\\seaborn\\axisgrid.py:118: UserWarning: The figure layout has changed to tight\n",
      "  self._figure.tight_layout(*args, **kwargs)\n"
     ]
    },
    {
     "data": {
      "text/plain": [
       "<seaborn.axisgrid.FacetGrid at 0x21ecebb01d0>"
      ]
     },
     "execution_count": 15,
     "metadata": {},
     "output_type": "execute_result"
    },
    {
     "data": {
      "image/png": "[encoded data removed]",
      "text/plain": [
       "<Figure size 500x500 with 1 Axes>"
      ]
     },
     "metadata": {},
     "output_type": "display_data"
    }
   ],
   "source": [
    "sns.catplot(x='Make',y='SalePrice',kind=\"box\",data=df)"
   ]
  }
 ],
 "metadata": {
  "kernelspec": {
   "display_name": "Python 3 (ipykernel)",
   "language": "python",
   "name": "python3"
  },
  "language_info": {
   "codemirror_mode": {
    "name": "ipython",
    "version": 3
   },
   "file_extension": ".py",
   "mimetype": "text/x-python",
   "name": "python",
   "nbconvert_exporter": "python",
   "pygments_lexer": "ipython3",
   "version": "3.11.5"
  }
 },
 "nbformat": 4,
 "nbformat_minor": 5
}
