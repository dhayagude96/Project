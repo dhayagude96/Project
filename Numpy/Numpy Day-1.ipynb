{
 "cells": [
  {
   "cell_type": "markdown",
   "id": "30a36a46",
   "metadata": {},
   "source": [
    "# NumPy\n",
    "NumPy is a Python package. It stands for 'Numerical Python'. It is a library consisting of multidimensional array objects and a collection of routines for processing of array."
   ]
  },
  {
   "cell_type": "markdown",
   "id": "3317f167",
   "metadata": {},
   "source": [
    "# What is NumPy?\n",
    "It is a library consisting of multidimensional array objects and a collection of routines for processing those arrays.\n",
    "\n",
    "NumPy has put python lists out of the job as NumPy arrays are more efficient, convenient and makes it faster to read or write an item."
   ]
  },
  {
   "cell_type": "markdown",
   "id": "de2c3e61",
   "metadata": {},
   "source": [
    "# Python Lists vs NumPy Arrays – What’s the Difference?\n",
    "1.Python lists act as an array that can store elements of various types.A list is the Python equivalent of an array,but is resizeable and can contain elements of different types.\n",
    "\n",
    "2.NumPy arrays that contain only homogeneous elements, i.e. elements having the same data type.\n",
    "\n",
    "3.With NumPy arrays, you can perform element-wise operations, something which is not possible using Python lists!\n",
    "\n",
    "4.This is the reason why NumPy arrays are preferred over Python lists when performing mathematical operations on a large amount of data."
   ]
  },
  {
   "cell_type": "markdown",
   "id": "816ef0b0",
   "metadata": {},
   "source": [
    "# Why use NumPy?\n",
    "Using NumPy, mathematical and logical operations on arrays can be performed. NumPy also provides high performance.Some of the key features that contribute in the popularity of NumPyare:\n",
    "\n",
    "1.It is a powerful N-dimensional array object\n",
    "\n",
    "2.It is a sophisticated broadcasting functions\n",
    "\n",
    "3.It is a tool for integrating C/C++ and Fortran code\n",
    "\n",
    "4.It is useful linear algebra, Fourier transform, and random number capabilities"
   ]
  },
  {
   "cell_type": "markdown",
   "id": "9ca48a40",
   "metadata": {},
   "source": [
    "# Import Convention\n",
    "Since NumPy is a Python Library, it has to be imported first before you start using NumPy. To import NumPy, type in the following command:"
   ]
  },
  {
   "cell_type": "code",
   "execution_count": 3,
   "id": "298ab16a",
   "metadata": {},
   "outputs": [],
   "source": [
    "import numpy as np"
   ]
  },
  {
   "cell_type": "markdown",
   "id": "235a347d",
   "metadata": {},
   "source": [
    "# Creating Numpy Arrays\n",
    "\n",
    "1.np.array() 1D/2D\n",
    "\n",
    "2.np.zeros/ones/identity()\n",
    "\n",
    "3.np.arange()\n",
    "\n",
    "4.np.linspace()\n",
    "\n",
    "5.np.copy()\n",
    "\n",
    "6.np.random() :--. rand/randint\n",
    "\n",
    "7.np.full()"
   ]
  },
  {
   "cell_type": "code",
   "execution_count": 4,
   "id": "8cf274d7",
   "metadata": {},
   "outputs": [
    {
     "name": "stdout",
     "output_type": "stream",
     "text": [
      "L1  using List :  [1, 2, 3, 4]\n",
      "R1  using Numpy Array :  [1 2 3 4]\n",
      "2D Array  \n",
      " [[1 2 3]\n",
      " [4 5 6]]\n"
     ]
    }
   ],
   "source": [
    "#1.np.array() 1D/2D\n",
    "\n",
    "L1 = [1,2,3,4]\n",
    "\n",
    "R1 = np.array([1,2,3,4])\n",
    "\n",
    "print(\"L1  using List : \" , L1)\n",
    "print(\"R1  using Numpy Array : \" , R1) #1-D array\n",
    "\n",
    "R2 = np.array([[1,2,3],[4,5,6]]) #2-D Array\n",
    "\n",
    "print(\"2D Array \" , '\\n' , R2)"
   ]
  },
  {
   "cell_type": "code",
   "execution_count": 8,
   "id": "151577a4",
   "metadata": {},
   "outputs": [
    {
     "name": "stdout",
     "output_type": "stream",
     "text": [
      "Using Zeros :  \n",
      " [[0. 0. 0.]\n",
      " [0. 0. 0.]]\n",
      "Using Ones :  \n",
      " [[1. 1.]\n",
      " [1. 1.]\n",
      " [1. 1.]]\n",
      "Using Identity:  \n",
      " [[1. 0. 0. 0.]\n",
      " [0. 1. 0. 0.]\n",
      " [0. 0. 1. 0.]\n",
      " [0. 0. 0. 1.]]\n"
     ]
    }
   ],
   "source": [
    "#2.np.zeros/ones/identity()\n",
    "\n",
    "r1 = np.zeros((2,3))\n",
    "\n",
    "print(\"Using Zeros : \" , '\\n' , r1)\n",
    "\n",
    "r2 = np.ones((3,2))\n",
    "\n",
    "print(\"Using Ones : \" , '\\n' , r2)\n",
    "\n",
    "r3 = np.identity(4)\n",
    "\n",
    "print(\"Using Identity: \" , '\\n' , r3)\n"
   ]
  },
  {
   "cell_type": "code",
   "execution_count": 11,
   "id": "e313c118",
   "metadata": {},
   "outputs": [
    {
     "name": "stdout",
     "output_type": "stream",
     "text": [
      "Using Python Range Function :  [1, 2, 3, 4, 5, 6, 7, 8, 9, 10]\n",
      "Using Numpy Range Function :  [ 1  2  3  4  5  6  7  8  9 10]\n",
      "Using Numpy Range Function :  [10 12 14 16 18 20 22 24 26 28 30 32 34 36 38 40 42 44 46 48]\n"
     ]
    }
   ],
   "source": [
    "#3.np.arange()\n",
    "\n",
    "L1 = list(range(1,11))\n",
    "\n",
    "print(\"Using Python Range Function : \" , L1)\n",
    "\n",
    "R1 = np.arange(1,11)\n",
    "\n",
    "print(\"Using Numpy Range Function : \" , R1)\n",
    "\n",
    "R2 = np.arange(10,50,2)\n",
    "\n",
    "print(\"Using Numpy Range Function : \" , R2)\n",
    "\n",
    "\n"
   ]
  },
  {
   "cell_type": "code",
   "execution_count": 18,
   "id": "d5e70baa",
   "metadata": {},
   "outputs": [
    {
     "name": "stdout",
     "output_type": "stream",
     "text": [
      "[0.   0.25 0.5  0.75 1.  ]\n",
      "[10. 50.]\n",
      "[10. 50.]\n"
     ]
    }
   ],
   "source": [
    "#3.np.linspace()\n",
    "\n",
    "r1 = np.linspace(0,1,5)\n",
    "\n",
    "print(r1)\n",
    "\n",
    "r2 = np.linspace(10,50,2)\n",
    "\n",
    "print(r2)\n",
    "\n",
    "#np.copy()\n",
    "\n",
    "r3 = r2.copy()\n",
    "\n",
    "print(r3)"
   ]
  },
  {
   "cell_type": "code",
   "execution_count": 10,
   "id": "cd2929e9",
   "metadata": {},
   "outputs": [
    {
     "name": "stdout",
     "output_type": "stream",
     "text": [
      "[[0.14041922 0.56032426 0.83804847 0.67710119 0.0955183  0.98167524]\n",
      " [0.12229236 0.72987581 0.34816863 0.17351351 0.97080335 0.73223539]\n",
      " [0.30077669 0.20762228 0.03654397 0.29254203 0.6718925  0.65984318]]\n",
      "[[0.46 0.57 0.58 0.   0.99 0.86]\n",
      " [0.29 0.26 0.24 0.43 0.03 0.19]\n",
      " [0.59 0.93 0.56 0.93 0.1  0.46]]\n",
      "[14 32 17 35 22]\n"
     ]
    }
   ],
   "source": [
    "#6.np.random() :--. rand/randint\n",
    "\n",
    "r1 =  np.random.rand(3,6) # 0-1 \n",
    "\n",
    "print(r1)\n",
    "\n",
    "r2 = np.round( np.random.rand(3,6) , decimals =2)\n",
    "\n",
    "print(r2)\n",
    "\n",
    "r2 = np.random.randint(10,50 ,5)\n",
    "\n",
    "print(r2)"
   ]
  },
  {
   "cell_type": "code",
   "execution_count": 49,
   "id": "4ec1c794",
   "metadata": {},
   "outputs": [
    {
     "name": "stdout",
     "output_type": "stream",
     "text": [
      "[[11 11 11]\n",
      " [11 11 11]]\n"
     ]
    }
   ],
   "source": [
    "#7.np.full()\n",
    "\n",
    "r1 = np.full((2,3),11)\n",
    "\n",
    "print(r1)"
   ]
  }
 ],
 "metadata": {
  "kernelspec": {
   "display_name": "Python 3 (ipykernel)",
   "language": "python",
   "name": "python3"
  },
  "language_info": {
   "codemirror_mode": {
    "name": "ipython",
    "version": 3
   },
   "file_extension": ".py",
   "mimetype": "text/x-python",
   "name": "python",
   "nbconvert_exporter": "python",
   "pygments_lexer": "ipython3",
   "version": "3.11.3"
  }
 },
 "nbformat": 4,
 "nbformat_minor": 5
}
