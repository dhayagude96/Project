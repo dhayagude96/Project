{
 "cells": [
  {
   "cell_type": "code",
   "execution_count": 1,
   "id": "096559eb",
   "metadata": {},
   "outputs": [
    {
     "name": "stdout",
     "output_type": "stream",
     "text": [
      "[1, 2, 3, 4, 5, 6]\n",
      "Add of Two Numpy Array :  [5 7 9]\n"
     ]
    }
   ],
   "source": [
    "import numpy as np\n",
    "\n",
    "L1 = [1,2,3]\n",
    "L2 = [4,5,6]\n",
    "\n",
    "print(L1+L2)\n",
    "\n",
    "a1 = np.array([1,2,3])\n",
    "a2 = np.array([4,5,6])\n",
    "\n",
    "print('Add of Two Numpy Array : ' , a1+a2)"
   ]
  },
  {
   "cell_type": "markdown",
   "id": "57c0207e",
   "metadata": {},
   "source": [
    "\n",
    "# Broadcasting in NumPy arrays\n",
    "\n",
    "Broadcasting essentially stretches the smaller ndarray so that it matches the shape of the larger ndarray"
   ]
  },
  {
   "cell_type": "code",
   "execution_count": 12,
   "id": "87d1b4fb",
   "metadata": {},
   "outputs": [
    {
     "name": "stdout",
     "output_type": "stream",
     "text": [
      "[1 2 3 4]\n",
      "[[2]\n",
      " [3]\n",
      " [4]]\n",
      "Add of a and b is :  \n",
      " [[3 4 5 6]\n",
      " [4 5 6 7]\n",
      " [5 6 7 8]]\n"
     ]
    }
   ],
   "source": [
    "a = np.arange(1,5)\n",
    "\n",
    "print(a)\n",
    "\n",
    "b = np.array([[2],[3],[4]])\n",
    "\n",
    "print(b)\n",
    "\n",
    "print(\"Add of a and b is : \" , '\\n' , a+b)"
   ]
  },
  {
   "cell_type": "code",
   "execution_count": 15,
   "id": "9c40bb64",
   "metadata": {},
   "outputs": [
    {
     "name": "stdout",
     "output_type": "stream",
     "text": [
      "[[1. 1. 1.]\n",
      " [1. 1. 1.]]\n",
      "\n",
      "[[5. 5. 5.]\n",
      " [5. 5. 5.]]\n"
     ]
    }
   ],
   "source": [
    "b = np.ones([2,3])\n",
    "\n",
    "print(b)\n",
    "\n",
    "print()\n",
    "\n",
    "print(b*5)"
   ]
  },
  {
   "cell_type": "code",
   "execution_count": 17,
   "id": "5e4a0294",
   "metadata": {},
   "outputs": [
    {
     "name": "stdout",
     "output_type": "stream",
     "text": [
      "[2 4 6 8]\n"
     ]
    }
   ],
   "source": [
    "a = np.array([1,2,3,4])\n",
    "b = np.array([1,2,3,4])\n",
    "\n",
    "print(a+b)"
   ]
  },
  {
   "cell_type": "markdown",
   "id": "49c05f7f",
   "metadata": {},
   "source": [
    "# Maths with NumPy arrays"
   ]
  },
  {
   "cell_type": "code",
   "execution_count": 24,
   "id": "428d6633",
   "metadata": {},
   "outputs": [
    {
     "name": "stdout",
     "output_type": "stream",
     "text": [
      "Add of a + 4 is :  \n",
      " [[ 5  6  7]\n",
      " [ 8  9 10]]\n",
      "Sub of a - 4 is :  \n",
      " [[-3 -2 -1]\n",
      " [ 0  1  2]]\n",
      "Mult of a * 4 is :  \n",
      " [[ 4  8 12]\n",
      " [16 20 24]]\n",
      "Div of a / 4 is :  \n",
      " [[0.25 0.5  0.75]\n",
      " [1.   1.25 1.5 ]]\n",
      "Power of 2 :  \n",
      " [[         1      32768   14348907]\n",
      " [1073741824  452807053 2033549312]]\n"
     ]
    }
   ],
   "source": [
    "a = np.array([[1,2,3],[4,5,6]])\n",
    "\n",
    "print(\"Add of a + 4 is : \" , '\\n' , a+4)\n",
    "print(\"Sub of a - 4 is : \" , '\\n' , a-4)\n",
    "print(\"Mult of a * 4 is : \" , '\\n' , a*4)\n",
    "print(\"Div of a / 4 is : \" , '\\n' , a/4)\n",
    "\n",
    "print(\"Power of 2 : \" , '\\n' , a**15)"
   ]
  },
  {
   "cell_type": "code",
   "execution_count": 89,
   "id": "fcefe1a5",
   "metadata": {},
   "outputs": [
    {
     "name": "stdout",
     "output_type": "stream",
     "text": [
      "[[15  4 33 37]\n",
      " [13 37 43  4]\n",
      " [40 38 32 47]]\n",
      "\n",
      "Value more than 25 :  [33 37 37 43 40 38 32 47]\n"
     ]
    }
   ],
   "source": [
    "x = np.random.randint(1,50 , size = (3,4))\n",
    "\n",
    "print(x)\n",
    "\n",
    "print()\n",
    "print(\"Value more than 25 : \" ,x[x>25])"
   ]
  },
  {
   "cell_type": "markdown",
   "id": "4b2efb0f",
   "metadata": {},
   "source": [
    "# Mean, Median and Standard deviation"
   ]
  },
  {
   "cell_type": "code",
   "execution_count": 93,
   "id": "1cd7aadc",
   "metadata": {},
   "outputs": [
    {
     "name": "stdout",
     "output_type": "stream",
     "text": [
      "[10 15 20 25 30 35 40 45]\n",
      "Mean value of Data Set x is :  27.5\n",
      "Median value of Data Set x is :  27.5\n",
      "Standard deviation value of Data Set x is :  11.4564392373896\n"
     ]
    }
   ],
   "source": [
    "x = np.arange(10,50,5)\n",
    "print(x) #27.5\n",
    "\n",
    "print(\"Mean value of Data Set x is : \" , np.mean(x))\n",
    "print(\"Median value of Data Set x is : \" , np.median(x))\n",
    "print(\"Standard deviation value of Data Set x is : \" , np.std(x))"
   ]
  },
  {
   "cell_type": "markdown",
   "id": "da061158",
   "metadata": {},
   "source": [
    "# Append"
   ]
  },
  {
   "cell_type": "code",
   "execution_count": 5,
   "id": "efdc2d9e",
   "metadata": {},
   "outputs": [
    {
     "name": "stdout",
     "output_type": "stream",
     "text": [
      "[[1 2]\n",
      " [3 4]]\n",
      "[[1 2]\n",
      " [3 4]\n",
      " [5 6]]\n"
     ]
    }
   ],
   "source": [
    "a = np.array([[1,2],[3,4]])\n",
    "\n",
    "print(a)\n",
    "\n",
    "b= np.append(a,[[5,6]] , axis =0)\n",
    "\n",
    "print(b)"
   ]
  },
  {
   "cell_type": "markdown",
   "id": "45aa89ef",
   "metadata": {},
   "source": [
    "# Max and Min"
   ]
  },
  {
   "cell_type": "code",
   "execution_count": 37,
   "id": "8dcf843e",
   "metadata": {},
   "outputs": [
    {
     "name": "stdout",
     "output_type": "stream",
     "text": [
      "[[29 45 33]\n",
      " [34 33 43]]\n",
      "max value in X :  45\n",
      "min value in X :  29\n",
      "Varinace in x  33.47222222222222\n",
      "Suare root of X variables :  \n",
      " [[5.38516481 6.70820393 5.74456265]\n",
      " [5.83095189 5.74456265 6.55743852]]\n",
      "Log of 10 of X variables :  \n",
      " [[1.462398   1.65321251 1.51851394]\n",
      " [1.53147892 1.51851394 1.63346846]]\n"
     ]
    }
   ],
   "source": [
    "x = np.random.randint(10,50 , size=(2,3))\n",
    "\n",
    "print(x)\n",
    "\n",
    "print(\"max value in X : \" , np.max(x))\n",
    "print(\"min value in X : \" , np.min(x))\n",
    "print(\"Varinace in x \" , np.var(x))\n",
    "print(\"Suare root of X variables : \" , '\\n', np.sqrt(x))\n",
    "print(\"Log of 10 of X variables : \" , '\\n', np.log10(x))"
   ]
  },
  {
   "cell_type": "markdown",
   "id": "796e0813",
   "metadata": {},
   "source": [
    "# Sort"
   ]
  },
  {
   "cell_type": "code",
   "execution_count": 38,
   "id": "f1991778",
   "metadata": {},
   "outputs": [
    {
     "name": "stdout",
     "output_type": "stream",
     "text": [
      "Sorted order of a :  [10 13 13 14 16 18 20 20 25 45]\n"
     ]
    }
   ],
   "source": [
    "a = np.array([25,13,10,45,18,20,14,16,20,13])\n",
    "\n",
    "print(\"Sorted order of a : \" , np.sort(a))"
   ]
  }
 ],
 "metadata": {
  "kernelspec": {
   "display_name": "Python 3 (ipykernel)",
   "language": "python",
   "name": "python3"
  },
  "language_info": {
   "codemirror_mode": {
    "name": "ipython",
    "version": 3
   },
   "file_extension": ".py",
   "mimetype": "text/x-python",
   "name": "python",
   "nbconvert_exporter": "python",
   "pygments_lexer": "ipython3",
   "version": "3.11.3"
  }
 },
 "nbformat": 4,
 "nbformat_minor": 5
}
