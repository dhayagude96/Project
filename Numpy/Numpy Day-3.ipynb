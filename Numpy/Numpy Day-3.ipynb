{
 "cells": [
  {
   "cell_type": "markdown",
   "id": "721b2f36",
   "metadata": {},
   "source": [
    "# Transpose of Numpy Array :- np.transpose()\n",
    "\n"
   ]
  },
  {
   "cell_type": "code",
   "execution_count": 2,
   "id": "fd465332",
   "metadata": {},
   "outputs": [
    {
     "name": "stdout",
     "output_type": "stream",
     "text": [
      "Array a  :  \n",
      " [[1 2 3]\n",
      " [4 5 6]]\n",
      "Shape of A :  (2, 3)\n",
      "\n",
      "Array b  :  \n",
      " [[1 4]\n",
      " [2 5]\n",
      " [3 6]]\n",
      "Shape of B :  (3, 2)\n"
     ]
    }
   ],
   "source": [
    "import numpy as np\n",
    "\n",
    "a =  np.array([[1,2,3],[4,5,6]])\n",
    "\n",
    "print(\"Array a  : \" , '\\n' , a )\n",
    "print(\"Shape of A : \" , a.shape)\n",
    "\n",
    "print()\n",
    "\n",
    "b = a.transpose()\n",
    "\n",
    "print(\"Array b  : \" , '\\n' , b )\n",
    "print(\"Shape of B : \" , b.shape)"
   ]
  },
  {
   "cell_type": "markdown",
   "id": "73d1611f",
   "metadata": {},
   "source": [
    "# Squeezing a Numpy Array :- np.squeeze()\n",
    "\n"
   ]
  },
  {
   "cell_type": "code",
   "execution_count": 7,
   "id": "a37d3cf7",
   "metadata": {},
   "outputs": [
    {
     "name": "stdout",
     "output_type": "stream",
     "text": [
      "Array X is :  \n",
      " [[[1 2 3]\n",
      "  [4 5 6]]]\n",
      "Shape of x  (1, 2, 3)\n",
      "\n",
      "Array y is :  \n",
      " [[1 2 3]\n",
      " [4 5 6]]\n",
      "Shape of y  (2, 3)\n"
     ]
    }
   ],
   "source": [
    "x = np.array([[[1,2,3],[4,5,6]]])\n",
    "\n",
    "print(\"Array X is : \" , '\\n' , x)\n",
    "print(\"Shape of x \" ,x.shape)\n",
    "\n",
    "print()\n",
    "\n",
    "y = np.squeeze(x,0)\n",
    "\n",
    "print(\"Array y is : \" , '\\n' , y)\n",
    "print(\"Shape of y \" ,y.shape)"
   ]
  },
  {
   "cell_type": "markdown",
   "id": "2a855914",
   "metadata": {},
   "source": [
    "# Flip :-np.flip() method to reverse values in Numpy Array"
   ]
  },
  {
   "cell_type": "code",
   "execution_count": 12,
   "id": "b17d9564",
   "metadata": {},
   "outputs": [
    {
     "name": "stdout",
     "output_type": "stream",
     "text": [
      "Array a  :  \n",
      " [[1 2 3]\n",
      " [4 5 6]]\n",
      "Shape of A :  (2, 3)\n",
      "\n",
      "To interchange Rows  :  \n",
      " [[4 5 6]\n",
      " [1 2 3]]\n",
      "\n",
      "To interchange Columns :  \n",
      " [[3 2 1]\n",
      " [6 5 4]]\n"
     ]
    }
   ],
   "source": [
    "a = np.array([[1,2,3],[4,5,6]])\n",
    "\n",
    "print(\"Array a  : \" , '\\n' , a )\n",
    "print(\"Shape of A : \" , a.shape)\n",
    "\n",
    "print()\n",
    "\n",
    "print(\"To interchange Rows  : \" , '\\n',np.flip(a,axis=0))\n",
    "\n",
    "print()\n",
    "\n",
    "print(\"To interchange Columns : \" , '\\n' , np.flip(a,axis=1))"
   ]
  },
  {
   "cell_type": "markdown",
   "id": "f3a71331",
   "metadata": {},
   "source": [
    "# Indexing & Slicing of Numpy Array\n",
    "\n",
    "[start : end : step-size]"
   ]
  },
  {
   "cell_type": "code",
   "execution_count": 25,
   "id": "1655072b",
   "metadata": {
    "scrolled": true
   },
   "outputs": [
    {
     "name": "stdout",
     "output_type": "stream",
     "text": [
      "60\n",
      "70\n",
      "[10 20 30 40]\n",
      "[30 40 50 60 70 80 90]\n",
      "[10 30 50 70]\n",
      "[50 60 70 80]\n",
      "[30 40 50 60 70]\n"
     ]
    }
   ],
   "source": [
    "a = np.array([10,20,30,40,50,60,70,80,90])\n",
    "#              0  1  2  3  4  5  6  7  8\n",
    "#             -9  -8 -7 -6 -5 -4 -3 -2 -1\n",
    "\n",
    "print(a[5])\n",
    "print(a[-3])\n",
    "\n",
    "print(a[:4])# if we don't specify start vaule it will always take zero as start\n",
    "print(a[2:])# if we don't specify end vaule it will iterate till last element\n",
    "\n",
    "\n",
    "\n",
    "print(a[0:7:2])\n",
    "\n",
    "print(a[-5:-1])\n",
    "\n",
    "print(a[-7:-2])"
   ]
  },
  {
   "cell_type": "code",
   "execution_count": 34,
   "id": "829b7434",
   "metadata": {},
   "outputs": [
    {
     "name": "stdout",
     "output_type": "stream",
     "text": [
      "[[1 2 3]\n",
      " [4 5 6]\n",
      " [7 8 9]]\n",
      "\n",
      "5\n",
      "7\n",
      "2\n",
      "\n",
      "[[1 2 3]\n",
      " [4 5 6]]\n",
      "[[1 2 3]\n",
      " [4 5 6]]\n",
      "[[5 6]\n",
      " [8 9]]\n"
     ]
    }
   ],
   "source": [
    "x = np.array([[1,2,3],[4,5,6],[7,8,9]])\n",
    "\n",
    "print(x)\n",
    "\n",
    "print()\n",
    "\n",
    "print(x[1,1])\n",
    "\n",
    "print(x[2,0])\n",
    "\n",
    "print(x[0,1])\n",
    "\n",
    "print()\n",
    "\n",
    "print(x[0:2])#row : -- > 0/1\n",
    "\n",
    "print(x[0:2,0:3])\n",
    "\n",
    "print(x[1:3,1:3])"
   ]
  }
 ],
 "metadata": {
  "kernelspec": {
   "display_name": "Python 3 (ipykernel)",
   "language": "python",
   "name": "python3"
  },
  "language_info": {
   "codemirror_mode": {
    "name": "ipython",
    "version": 3
   },
   "file_extension": ".py",
   "mimetype": "text/x-python",
   "name": "python",
   "nbconvert_exporter": "python",
   "pygments_lexer": "ipython3",
   "version": "3.11.3"
  }
 },
 "nbformat": 4,
 "nbformat_minor": 5
}
