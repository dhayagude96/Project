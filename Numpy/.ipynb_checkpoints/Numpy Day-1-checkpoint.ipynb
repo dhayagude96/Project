{
 "cells": [
  {
   "cell_type": "markdown",
   "id": "30a36a46",
   "metadata": {},
   "source": [
    "# NumPy\n",
    "NumPy is a Python package. It stands for 'Numerical Python'. It is a library consisting of multidimensional array objects and a collection of routines for processing of array."
   ]
  },
  {
   "cell_type": "markdown",
   "id": "3317f167",
   "metadata": {},
   "source": [
    "# What is NumPy?\n",
    "It is a library consisting of multidimensional array objects and a collection of routines for processing those arrays.\n",
    "\n",
    "NumPy has put python lists out of the job as NumPy arrays are more efficient, convenient and makes it faster to read or write an item."
   ]
  },
  {
   "cell_type": "markdown",
   "id": "de2c3e61",
   "metadata": {},
   "source": [
    "# Python Lists vs NumPy Arrays – What’s the Difference?\n",
    "1.Python lists act as an array that can store elements of various types.A list is the Python equivalent of an array,but is resizeable and can contain elements of different types.\n",
    "\n",
    "2.NumPy arrays that contain only homogeneous elements, i.e. elements having the same data type.\n",
    "\n",
    "3.With NumPy arrays, you can perform element-wise operations, something which is not possible using Python lists!\n",
    "\n",
    "4.This is the reason why NumPy arrays are preferred over Python lists when performing mathematical operations on a large amount of data."
   ]
  },
  {
   "cell_type": "markdown",
   "id": "816ef0b0",
   "metadata": {},
   "source": [
    "# Why use NumPy?\n",
    "Using NumPy, mathematical and logical operations on arrays can be performed. NumPy also provides high performance.Some of the key features that contribute in the popularity of NumPyare:\n",
    "\n",
    "1.It is a powerful N-dimensional array object\n",
    "\n",
    "2.It is a sophisticated broadcasting functions\n",
    "\n",
    "3.It is a tool for integrating C/C++ and Fortran code\n",
    "\n",
    "4.It is useful linear algebra, Fourier transform, and random number capabilities"
   ]
  },
  {
   "cell_type": "markdown",
   "id": "9ca48a40",
   "metadata": {},
   "source": [
    "# Import Convention\n",
    "Since NumPy is a Python Library, it has to be imported first before you start using NumPy. To import NumPy, type in the following command:"
   ]
  },
  {
   "cell_type": "code",
   "execution_count": 1,
   "id": "298ab16a",
   "metadata": {},
   "outputs": [],
   "source": [
    "import numpy as np"
   ]
  },
  {
   "cell_type": "markdown",
   "id": "235a347d",
   "metadata": {},
   "source": [
    "# Creating Numpy Arrays\n",
    "\n",
    "1.np.array 1D/2D\n",
    "\n",
    "2.np.zeros/ones/empty/random()\n",
    "\n",
    "3.np.arange()\n",
    "\n",
    "4.np.linespace()\n",
    "\n",
    "5.np.copy()"
   ]
  },
  {
   "cell_type": "code",
   "execution_count": 6,
   "id": "1e9335de",
   "metadata": {},
   "outputs": [
    {
     "name": "stdout",
     "output_type": "stream",
     "text": [
      "<class 'list'>\n",
      "<class 'numpy.ndarray'>\n",
      "2D array :  [[1 2 3]\n",
      " [4 5 6]]\n"
     ]
    }
   ],
   "source": [
    "#1.np.array\n",
    "\n",
    "#Numpy Array Vs List\n",
    "\n",
    "L1 = [1,2,3,4] #python List\n",
    "\n",
    "L2 = np.array([1,2,3,4]) #Numpy Array\n",
    "\n",
    "print(type(L1))\n",
    "print(type(L2))\n",
    "\n",
    "L3 = np.array([[1,2,3],[4,5,6]])\n",
    "\n",
    "print(\"2D array : \" ,L3)"
   ]
  },
  {
   "cell_type": "code",
   "execution_count": 12,
   "id": "78333148",
   "metadata": {
    "scrolled": true
   },
   "outputs": [
    {
     "name": "stdout",
     "output_type": "stream",
     "text": [
      "[[0. 0. 0.]\n",
      " [0. 0. 0.]]\n",
      "\n",
      "[[1. 1. 1.]\n",
      " [1. 1. 1.]]\n",
      "\n",
      "[[1. 0.]\n",
      " [0. 1.]]\n"
     ]
    }
   ],
   "source": [
    "#np.zeros/ones/identity\n",
    "\n",
    "a1 = np.zeros((2,3)) #(row,col)\n",
    "\n",
    "print(a1)\n",
    "\n",
    "print()\n",
    "\n",
    "a2 = np.ones((2,3))\n",
    "\n",
    "print(a2)\n",
    "\n",
    "print()\n",
    "\n",
    "a3 = np.identity(2)\n",
    "\n",
    "print(a3)\n",
    "\n",
    "\n"
   ]
  },
  {
   "cell_type": "code",
   "execution_count": 16,
   "id": "301d3a0a",
   "metadata": {},
   "outputs": [
    {
     "name": "stdout",
     "output_type": "stream",
     "text": [
      "Using Range Function in List :  [1, 3, 5, 7, 9]\n",
      "Using arange Function in Numpy :  [1 3 5 7 9]\n"
     ]
    }
   ],
   "source": [
    "#np.arange()\n",
    "\n",
    "L1 = list(range(1,11,2))\n",
    "\n",
    "print(\"Using Range Function in List : \" , L1)\n",
    "\n",
    "A1 = np.arange(1,11,2) # 1 3 5 7 9\n",
    "\n",
    "print(\"Using arange Function in Numpy : \" , A1)\n",
    "\n"
   ]
  },
  {
   "cell_type": "code",
   "execution_count": 20,
   "id": "5de1623f",
   "metadata": {},
   "outputs": [
    {
     "name": "stdout",
     "output_type": "stream",
     "text": [
      "[0.   0.25 0.5  0.75 1.  ]\n",
      "[10. 20. 30. 40. 50.]\n",
      "[10. 20. 30. 40. 50.]\n"
     ]
    }
   ],
   "source": [
    "#np.linespace()\n",
    "\n",
    "A2 = np.linspace(0,1,5)\n",
    "\n",
    "print(A2)\n",
    "\n",
    "A3 = np.linspace(10,50,5)\n",
    "\n",
    "print(A3)\n",
    "\n",
    "A4 = A3.copy()\n",
    "\n",
    "print(A4)"
   ]
  },
  {
   "cell_type": "code",
   "execution_count": 41,
   "id": "1d40625c",
   "metadata": {},
   "outputs": [
    {
     "name": "stdout",
     "output_type": "stream",
     "text": [
      "[[0.21997699 0.1086313  0.71664094]\n",
      " [0.75321772 0.66318392 0.12552004]]\n",
      "\n",
      "[[0.86 0.35 0.57]\n",
      " [0.22 0.6  0.74]]\n",
      "\n",
      "[[35 28 14]\n",
      " [43 24 31]\n",
      " [29 49 11]]\n"
     ]
    }
   ],
   "source": [
    "#random()\n",
    "\n",
    "#rand() :---> 0,1\n",
    "r1 = np.random.rand(2,3) #0 - 1\n",
    "\n",
    "print(r1)\n",
    "\n",
    "print()\n",
    "\n",
    "\n",
    "r2 = np.round(np.random.rand(2,3), decimals = 2)\n",
    "print(r2)\n",
    "\n",
    "print()\n",
    "\n",
    "#randint :---> (10,50)\n",
    "\n",
    "r3 = np.random.randint(10,50,(3,3))\n",
    "print(r3)\n"
   ]
  },
  {
   "cell_type": "code",
   "execution_count": 43,
   "id": "b5756d7f",
   "metadata": {},
   "outputs": [
    {
     "name": "stdout",
     "output_type": "stream",
     "text": [
      "[[10 10 10]\n",
      " [10 10 10]]\n"
     ]
    }
   ],
   "source": [
    "#full() :---> array of Your choice\n",
    "\n",
    "a1 = np.full((2,3),10)\n",
    "\n",
    "print(a1)"
   ]
  }
 ],
 "metadata": {
  "kernelspec": {
   "display_name": "Python 3 (ipykernel)",
   "language": "python",
   "name": "python3"
  },
  "language_info": {
   "codemirror_mode": {
    "name": "ipython",
    "version": 3
   },
   "file_extension": ".py",
   "mimetype": "text/x-python",
   "name": "python",
   "nbconvert_exporter": "python",
   "pygments_lexer": "ipython3",
   "version": "3.11.3"
  }
 },
 "nbformat": 4,
 "nbformat_minor": 5
}
