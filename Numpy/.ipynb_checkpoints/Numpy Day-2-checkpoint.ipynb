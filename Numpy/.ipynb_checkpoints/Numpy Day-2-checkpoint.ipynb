{
 "cells": [
  {
   "cell_type": "markdown",
   "id": "89b40e9b",
   "metadata": {},
   "source": [
    "# Numpy Array Dimension / shape / size"
   ]
  },
  {
   "cell_type": "code",
   "execution_count": null,
   "id": "c4098e10",
   "metadata": {},
   "outputs": [],
   "source": []
  },
  {
   "cell_type": "markdown",
   "id": "a301168c",
   "metadata": {},
   "source": [
    "# Reshaping of Numpy Array"
   ]
  },
  {
   "cell_type": "code",
   "execution_count": null,
   "id": "879ebf32",
   "metadata": {},
   "outputs": [],
   "source": []
  },
  {
   "cell_type": "markdown",
   "id": "400af7a7",
   "metadata": {},
   "source": [
    "# flatten & ravel"
   ]
  },
  {
   "cell_type": "code",
   "execution_count": null,
   "id": "de817721",
   "metadata": {},
   "outputs": [],
   "source": []
  }
 ],
 "metadata": {
  "kernelspec": {
   "display_name": "Python 3 (ipykernel)",
   "language": "python",
   "name": "python3"
  },
  "language_info": {
   "codemirror_mode": {
    "name": "ipython",
    "version": 3
   },
   "file_extension": ".py",
   "mimetype": "text/x-python",
   "name": "python",
   "nbconvert_exporter": "python",
   "pygments_lexer": "ipython3",
   "version": "3.11.3"
  }
 },
 "nbformat": 4,
 "nbformat_minor": 5
}
