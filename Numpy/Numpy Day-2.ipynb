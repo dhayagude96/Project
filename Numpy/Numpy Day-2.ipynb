{
 "cells": [
  {
   "cell_type": "markdown",
   "id": "89b40e9b",
   "metadata": {},
   "source": [
    "# Numpy Array Dimension / shape / size"
   ]
  },
  {
   "cell_type": "code",
   "execution_count": 1,
   "id": "c4098e10",
   "metadata": {},
   "outputs": [],
   "source": [
    "import numpy as np"
   ]
  },
  {
   "cell_type": "code",
   "execution_count": 7,
   "id": "f032b471",
   "metadata": {},
   "outputs": [
    {
     "name": "stdout",
     "output_type": "stream",
     "text": [
      "Arra a  \n",
      " [[1 2 3]\n",
      " [4 5 6]]\n",
      "Shape of Array a is :  (2, 3)\n",
      "Dim of Array a is :  2\n",
      "No of Values in Array a :  6\n",
      "\n",
      "Arra b  \n",
      " [[[1 2 3]\n",
      "  [4 5 6]\n",
      "  [7 8 9]]]\n",
      "Shape of Array b is :  (1, 3, 3)\n",
      "Dim of Array b is :  3\n",
      "No of Values in Array b :  9\n"
     ]
    }
   ],
   "source": [
    "a = np.array([[1,2,3],[4,5,6]])\n",
    "\n",
    "print(\"Arra a \" , '\\n' , a)\n",
    "\n",
    "print(\"Shape of Array a is : \" , a.shape)\n",
    "\n",
    "print(\"Dim of Array a is : \" , a.ndim)\n",
    "\n",
    "print(\"No of Values in Array a : \" , a.size)\n",
    "\n",
    "\n",
    "print()\n",
    "\n",
    "\n",
    "b = np.array([[[1,2,3],[4,5,6],[7,8,9]]])\n",
    "\n",
    "print(\"Arra b \" , '\\n' , b)\n",
    "\n",
    "print(\"Shape of Array b is : \" , b.shape)#(3,3)\n",
    "\n",
    "print(\"Dim of Array b is : \" , b.ndim)#2d\n",
    "\n",
    "print(\"No of Values in Array b : \" , b.size)#9"
   ]
  },
  {
   "cell_type": "code",
   "execution_count": 3,
   "id": "0ee36280",
   "metadata": {},
   "outputs": [
    {
     "name": "stdout",
     "output_type": "stream",
     "text": [
      "2\n",
      "(2, 3)\n",
      "6\n"
     ]
    }
   ],
   "source": [
    "a3 = np.array([[1,2,3],[4,5,6]])\n",
    "\n",
    "print(a3.ndim)\n",
    "print(a3.shape)\n",
    "print(a3.size)"
   ]
  },
  {
   "cell_type": "code",
   "execution_count": 6,
   "id": "5d124cc1",
   "metadata": {},
   "outputs": [
    {
     "data": {
      "text/plain": [
       "array([[ 1,  2],\n",
       "       [ 3,  4],\n",
       "       [ 5,  6],\n",
       "       [ 7,  8],\n",
       "       [ 9, 10]])"
      ]
     },
     "execution_count": 6,
     "metadata": {},
     "output_type": "execute_result"
    }
   ],
   "source": [
    "a4 = np.array([1,2,3,4,5,6])\n",
    "\n",
    "\n",
    "b=a4.reshape(2,3)\n",
    "\n",
    "b\n",
    "\n",
    "a5 = np.arange(1,11)\n",
    "\n",
    "c=a5.reshape(5,2)\n",
    "\n",
    "c"
   ]
  },
  {
   "cell_type": "markdown",
   "id": "a301168c",
   "metadata": {},
   "source": [
    "# Reshaping of Numpy Array"
   ]
  },
  {
   "cell_type": "code",
   "execution_count": 17,
   "id": "879ebf32",
   "metadata": {},
   "outputs": [
    {
     "name": "stdout",
     "output_type": "stream",
     "text": [
      "[ 1  2  3  4  5  6  7  8  9 10]\n",
      "Shape of x  (10,)\n",
      "\n",
      "[[ 1  2]\n",
      " [ 3  4]\n",
      " [ 5  6]\n",
      " [ 7  8]\n",
      " [ 9 10]]\n",
      "Shape of y  (5, 2)\n",
      "\n",
      "[1 2 3 4 5 6]\n",
      "[[1 2 3]\n",
      " [4 5 6]]\n"
     ]
    }
   ],
   "source": [
    "x = np.arange(1,11)\n",
    "\n",
    "print(x)\n",
    "print(\"Shape of x \" ,x.shape)\n",
    "\n",
    "print()\n",
    "\n",
    "y = x.reshape(5,2)\n",
    "\n",
    "print(y)\n",
    "print(\"Shape of y \" , y.shape)\n",
    "\n",
    "print()\n",
    "\n",
    "a = np.array([1,2,3,4,5,6])\n",
    "print(a)\n",
    "\n",
    "b= a.reshape(2,3)\n",
    "\n",
    "print(b)\n",
    "\n",
    "\n"
   ]
  },
  {
   "cell_type": "markdown",
   "id": "400af7a7",
   "metadata": {},
   "source": [
    "# flatten & ravel"
   ]
  },
  {
   "cell_type": "code",
   "execution_count": 22,
   "id": "de817721",
   "metadata": {},
   "outputs": [
    {
     "name": "stdout",
     "output_type": "stream",
     "text": [
      "Orignal Object :  \n",
      " [[1 2 3]\n",
      " [4 5 6]]\n",
      "after using flatten  :  \n",
      " [25  2  3  4  5  6]\n",
      "after chaging value in b :  \n",
      " [[1 2 3]\n",
      " [4 5 6]]\n"
     ]
    }
   ],
   "source": [
    "#flatten :---. shallow copy\n",
    "\n",
    "a = np.array([[1,2,3],[4,5,6]])\n",
    "\n",
    "print(\"Orignal Object : \" , '\\n' , a)\n",
    "\n",
    "b= a.flatten()\n",
    "\n",
    "b[0] = 25\n",
    "print(\"after using flatten  : \" , '\\n' , b)\n",
    "\n",
    "print(\"after chaging value in b : \" , '\\n' , a)"
   ]
  },
  {
   "cell_type": "code",
   "execution_count": 24,
   "id": "7d0f3333",
   "metadata": {},
   "outputs": [
    {
     "name": "stdout",
     "output_type": "stream",
     "text": [
      "Orignal Object :  \n",
      " [[1 2 3]\n",
      " [4 5 6]]\n",
      "after using flatten  :  \n",
      " [25  2  3  4  5  6]\n",
      "after chaging value in b :  \n",
      " [[25  2  3]\n",
      " [ 4  5  6]]\n"
     ]
    }
   ],
   "source": [
    "#ravel :---> deep copy\n",
    "\n",
    "a = np.array([[1,2,3],[4,5,6]])\n",
    "\n",
    "print(\"Orignal Object : \" , '\\n' , a)\n",
    "\n",
    "b = a.ravel()\n",
    "\n",
    "b[0] = 25\n",
    "\n",
    "print(\"after using flatten  : \" , '\\n' , b)\n",
    "\n",
    "print(\"after chaging value in b : \" , '\\n' , a)\n"
   ]
  }
 ],
 "metadata": {
  "kernelspec": {
   "display_name": "Python 3 (ipykernel)",
   "language": "python",
   "name": "python3"
  },
  "language_info": {
   "codemirror_mode": {
    "name": "ipython",
    "version": 3
   },
   "file_extension": ".py",
   "mimetype": "text/x-python",
   "name": "python",
   "nbconvert_exporter": "python",
   "pygments_lexer": "ipython3",
   "version": "3.11.3"
  }
 },
 "nbformat": 4,
 "nbformat_minor": 5
}
