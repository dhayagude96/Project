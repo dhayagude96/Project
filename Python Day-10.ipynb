{
 "cells": [
  {
   "cell_type": "markdown",
   "id": "ddb52fda",
   "metadata": {},
   "source": [
    "# While loops"
   ]
  },
  {
   "cell_type": "code",
   "execution_count": 4,
   "id": "0bf16a8a",
   "metadata": {},
   "outputs": [
    {
     "name": "stdout",
     "output_type": "stream",
     "text": [
      "Hello Student \n",
      "Hello Student \n",
      "Hello Student \n",
      "Hello Student \n",
      "Hello Student \n"
     ]
    }
   ],
   "source": [
    "i = 1\n",
    "\n",
    "while i <= 5 :\n",
    "    print(\"Hello Student \")\n",
    "    i += 1"
   ]
  },
  {
   "cell_type": "code",
   "execution_count": 5,
   "id": "274ff293",
   "metadata": {},
   "outputs": [
    {
     "name": "stdout",
     "output_type": "stream",
     "text": [
      "1\n",
      "2\n",
      "3\n",
      "4\n",
      "5\n",
      "6\n",
      "7\n",
      "8\n",
      "9\n",
      "10\n"
     ]
    }
   ],
   "source": [
    "i = 1\n",
    "\n",
    "while i<=10 :\n",
    "    print(i)\n",
    "    i += 1"
   ]
  },
  {
   "cell_type": "code",
   "execution_count": 6,
   "id": "a3cc789f",
   "metadata": {},
   "outputs": [
    {
     "name": "stdout",
     "output_type": "stream",
     "text": [
      "2\n",
      "4\n",
      "6\n",
      "8\n",
      "10\n",
      "12\n",
      "14\n",
      "16\n",
      "18\n",
      "20\n"
     ]
    }
   ],
   "source": [
    "#Write a program to print table of Two\n",
    "\n",
    "\n",
    "\"\"\"\n",
    "1 x 2 = 2\n",
    "2 x 2 = 4\n",
    "3 x 2 = 6\n",
    "4\n",
    "5\n",
    "6\n",
    "7\n",
    "8\n",
    "9\n",
    "10 x 2 = 20\n",
    "\n",
    "\n",
    "\"\"\"\n",
    "\n",
    "i = 1\n",
    "\n",
    "while i <= 10 :\n",
    "    print(i * 2)\n",
    "    i += 1"
   ]
  },
  {
   "cell_type": "code",
   "execution_count": 8,
   "id": "82119c33",
   "metadata": {},
   "outputs": [
    {
     "name": "stdout",
     "output_type": "stream",
     "text": [
      "Enter Number :3\n",
      "3\n",
      "6\n",
      "9\n",
      "12\n",
      "15\n",
      "18\n",
      "21\n",
      "24\n",
      "27\n",
      "30\n"
     ]
    }
   ],
   "source": [
    "#Write a Progarm to Display table of given Number take input from user :\n",
    "\n",
    "num = int(input('Enter Number :'))\n",
    "\n",
    "i = 1\n",
    "\n",
    "while i <= 10 :\n",
    "    print(i * num)\n",
    "    i += 1"
   ]
  },
  {
   "cell_type": "code",
   "execution_count": 11,
   "id": "0f6bd30e",
   "metadata": {},
   "outputs": [
    {
     "name": "stdout",
     "output_type": "stream",
     "text": [
      "Studnet Name is :  Vishal\n",
      "Studnet Name is :  Sagar\n",
      "Studnet Name is :  Ajay\n",
      "Studnet Name is :  Govind\n"
     ]
    }
   ],
   "source": [
    "sname = ['Vishal','Sagar','Ajay',\"Govind\"]\n",
    "\n",
    "index = 0\n",
    "\n",
    "while index < 4 :\n",
    "    print(\"Studnet Name is : \" , sname[index])\n",
    "    index += 1"
   ]
  },
  {
   "cell_type": "code",
   "execution_count": null,
   "id": "47974299",
   "metadata": {},
   "outputs": [],
   "source": [
    "#len() :--> no of values in lsit/string/tuple/set"
   ]
  },
  {
   "cell_type": "code",
   "execution_count": 13,
   "id": "4c9ef27c",
   "metadata": {},
   "outputs": [
    {
     "name": "stdout",
     "output_type": "stream",
     "text": [
      "Studnet Name is :  Vishal\n",
      "Studnet Name is :  Sagar\n",
      "Studnet Name is :  Ajay\n",
      "Studnet Name is :  Govind\n",
      "Studnet Name is :  Ajanli\n",
      "Studnet Name is :  Sanket\n"
     ]
    }
   ],
   "source": [
    "sname = ['Vishal','Sagar','Ajay',\"Govind\",\"Ajanli\",\"Sanket\"]\n",
    "\n",
    "index = 0\n",
    "\n",
    "while index < len(sname) :\n",
    "    print(\"Studnet Name is : \" , sname[index])\n",
    "    index += 1"
   ]
  },
  {
   "cell_type": "code",
   "execution_count": 22,
   "id": "a2354dca",
   "metadata": {},
   "outputs": [
    {
     "name": "stdout",
     "output_type": "stream",
     "text": [
      "Enter value :60\n",
      "Enter Lower Number :\n",
      "Enter value :40\n",
      "Enter Lower Number :\n",
      "Enter value :20\n",
      "Enter Higher Number :\n",
      "Enter value :25\n",
      "Enter Lower Number :\n",
      "Enter value :23\n",
      "You win..... You have taken  5  Attempts\n"
     ]
    }
   ],
   "source": [
    "import random\n",
    "\n",
    "jackpot = random.randint(1,100) # 84\n",
    "\n",
    "guess = int(input(\"Enter value :\")) # 45\n",
    "\n",
    "count = 1\n",
    "\n",
    "while jackpot != guess :\n",
    "    if jackpot > guess :\n",
    "        print(\"Enter Higher Number :\")\n",
    "    else :\n",
    "        print(\"Enter Lower Number :\")\n",
    "        \n",
    "    guess = int(input(\"Enter value :\"))\n",
    "    count += 1\n",
    "    \n",
    "    \n",
    "print(\"You win..... You have taken \" , count ,\" Attempts\" )\n",
    "\n"
   ]
  },
  {
   "cell_type": "code",
   "execution_count": null,
   "id": "a5b69c4d",
   "metadata": {},
   "outputs": [],
   "source": []
  }
 ],
 "metadata": {
  "kernelspec": {
   "display_name": "Python 3 (ipykernel)",
   "language": "python",
   "name": "python3"
  },
  "language_info": {
   "codemirror_mode": {
    "name": "ipython",
    "version": 3
   },
   "file_extension": ".py",
   "mimetype": "text/x-python",
   "name": "python",
   "nbconvert_exporter": "python",
   "pygments_lexer": "ipython3",
   "version": "3.11.3"
  }
 },
 "nbformat": 4,
 "nbformat_minor": 5
}
