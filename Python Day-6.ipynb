{
 "cells": [
  {
   "cell_type": "code",
   "execution_count": null,
   "id": "cbcc3663",
   "metadata": {},
   "outputs": [],
   "source": [
    "\"\"\"\n",
    "# List\n",
    "\n",
    "1. List Vs Array\n",
    "2. Create\n",
    "3. Access\n",
    "4. Edit\n",
    "5. Add\n",
    "6. Delete\n",
    "7. operations\n",
    "8. Functions\n",
    "\n",
    "\"\"\""
   ]
  },
  {
   "cell_type": "code",
   "execution_count": null,
   "id": "1d4be436",
   "metadata": {},
   "outputs": [],
   "source": [
    "#1. List Vs Array\n",
    "\"\"\"\n",
    "\n",
    "Array:-->\n",
    "\n",
    "s1 = 25\n",
    "s2 = 23\n",
    "s3 = 24\n",
    "\n",
    "s = {25,23,24}\n",
    "\n",
    "s[]\n",
    "\n",
    "List :-->\n",
    "\n",
    "L = [25,23,24]\n",
    "L = [\"Vishal\" , 28 , \"Pune\" , 65000.84]\n",
    "L[0]\n",
    "\n",
    "1.Array is Homogeous in nature\n",
    "2.List is Hetrogeoun in Nature\n",
    "3.Array are faster then List\n",
    "4.List is more programable comapre to Array\n",
    "\n",
    "\"\"\""
   ]
  },
  {
   "cell_type": "code",
   "execution_count": 4,
   "id": "6f78d819",
   "metadata": {},
   "outputs": [
    {
     "name": "stdout",
     "output_type": "stream",
     "text": [
      "<class 'list'>\n",
      "Homogeouns List :  [25, 23, 26, 29, 1, 3]\n",
      "Hetreogeouns list :  ['Vishal', 101, 'M', 22000.0]\n",
      "Mult D list :  [1, 2, 3, [4, 5]]\n"
     ]
    }
   ],
   "source": [
    "#2. Create\n",
    "\n",
    "#empty list\n",
    "\n",
    "l1 = []\n",
    "\n",
    "print(type(l1))\n",
    "\n",
    "#Homogeous List\n",
    "\n",
    "l2 = [25,23,26,29,1,3]\n",
    "\n",
    "print(\"Homogeouns List : \" , l2)\n",
    "\n",
    "#Hetrogeoun\n",
    "\n",
    "l3 = [\"Vishal\" , 101 , 'M' , 22000.00 ]\n",
    "print(\"Hetreogeouns list : \" , l3)\n",
    "\n",
    "#Mult-D list\n",
    "l4 = [1,2,3,[4,5]]\n",
    "l5 = [[1,2],[3,4],[4,5]]\n",
    "print(\"Mult D list : \" , l4)"
   ]
  },
  {
   "cell_type": "code",
   "execution_count": 12,
   "id": "6508ab5e",
   "metadata": {},
   "outputs": [
    {
     "name": "stdout",
     "output_type": "stream",
     "text": [
      "At index one Value is :  3\n",
      "Studnet Name is :  Vishal  Student fee is : 22000.0\n",
      "4\n",
      "4\n",
      "5\n"
     ]
    }
   ],
   "source": [
    "#3. Access\n",
    "\n",
    "l2 = [25,23,26,29,1,3]\n",
    "\n",
    "print(\"At index one Value is : \" , l2[-1])\n",
    "\n",
    "l3 = [\"Vishal\" , 101 , 'M' , 22000.00 ]\n",
    "\n",
    "print(\"Studnet Name is : \" , l3[0] , \" Student fee is :\" , l3[-1])\n",
    "\n",
    "#Mult-D list\n",
    "l4 = [1,2,3,[4,5]]\n",
    "#     0 1 2   3\n",
    "#            0 1\n",
    "\n",
    "l5 = [[1,2],[3,4],[5,6]]\n",
    "#       0     1     2\n",
    "#      0 1  0  1   0 1\n",
    "\n",
    "\n",
    "print(l4[3][0])\n",
    "\n",
    "print(l5[1][1])\n",
    "\n",
    "print(l5[2][0])"
   ]
  },
  {
   "cell_type": "code",
   "execution_count": 20,
   "id": "67052a4a",
   "metadata": {},
   "outputs": [
    {
     "name": "stdout",
     "output_type": "stream",
     "text": [
      "[1, 2, 15, 4, 5, 6]\n",
      "['Anuja', 102, 'F', 22000.0]\n"
     ]
    }
   ],
   "source": [
    "#4. Edit : --> It is mutable class in Python\n",
    "\"\"\"\n",
    "s1 = \"Vishal\"\n",
    "\n",
    "s1[0] = \"B\"\n",
    "\n",
    "\"\"\"\n",
    "\n",
    "l6 = [1,2,3,4,5,6]\n",
    "\n",
    "l6[2] = 15\n",
    "\n",
    "print(l6)\n",
    "\n",
    "l3 = [\"Vishal\" , 101 , 'M' , 22000.00 ]\n",
    "\n",
    "l3[0:3] = [\"Anuja\" , 102 , 'F']\n",
    "\n",
    "print(l3)"
   ]
  },
  {
   "cell_type": "code",
   "execution_count": 25,
   "id": "e4624437",
   "metadata": {},
   "outputs": [
    {
     "name": "stdout",
     "output_type": "stream",
     "text": [
      "[1, 2, 3, 4, 5, 6, 25]\n",
      "[1, 2, 3, 4, 5, 6, 25, 27, 28, 29, 23]\n",
      "[5, 1, 2, 3, 4, 5, 6, 25, 27, 28, 29, 23]\n"
     ]
    }
   ],
   "source": [
    "#5. Add :--> append / extend / insert\n",
    "\n",
    "l6 = [1,2,3,4,5,6]\n",
    "\n",
    "l6.append(25) # it will add one value at a time\n",
    "\n",
    "print(l6)\n",
    "\n",
    "l6.extend([27,28,29,23]) # it will add multi value at a time\n",
    "\n",
    "print(l6)\n",
    "\n",
    "l6.insert(0,5)\n",
    "\n",
    "print(l6)"
   ]
  },
  {
   "cell_type": "code",
   "execution_count": 36,
   "id": "c13e72b9",
   "metadata": {},
   "outputs": [
    {
     "name": "stdout",
     "output_type": "stream",
     "text": [
      "[101, 'M', 22000.0]\n",
      "[]\n"
     ]
    }
   ],
   "source": [
    "#6. Delete :--> pop , remove , clear\n",
    "\n",
    "l6.pop()# pop will remove one value at a Time\n",
    "\n",
    "l6\n",
    "\n",
    "\n",
    "\n",
    "l3 = [\"Vishal\" , 101 , 'M' , 22000.00 ]\n",
    "\n",
    "l3.remove(\"Vishal\")\n",
    "print(l3)\n",
    "\n",
    "l3.clear()\n",
    "\n",
    "print(l3)"
   ]
  },
  {
   "cell_type": "code",
   "execution_count": 40,
   "id": "229e800a",
   "metadata": {},
   "outputs": [
    {
     "name": "stdout",
     "output_type": "stream",
     "text": [
      "[1, 2, 3, 1, 2, 3]\n",
      "[1, 2, 3, 1, 2, 3, 1, 2, 3]\n",
      "False\n"
     ]
    }
   ],
   "source": [
    "#7. operations\n",
    "\n",
    "l1 = [1,2,3]\n",
    "l2 = [1,2,3]\n",
    "\n",
    "print(l1+l2)\n",
    "print(l1*3)\n",
    "\n",
    "#Membership operators\n",
    "\n",
    "l3 = [\"Vishal\" , 101 , 'M' , 22000.00 ]\n",
    "\n",
    "print(\"Vishal\" not in l3)\n"
   ]
  },
  {
   "cell_type": "code",
   "execution_count": 46,
   "id": "225da62a",
   "metadata": {},
   "outputs": [
    {
     "name": "stdout",
     "output_type": "stream",
     "text": [
      "Max value in List l1 :  100\n",
      "Min value in List l1 :  1\n",
      "Len of List L1 is  :  13\n",
      "Assending order of lsit l1 :  [1, 10, 12, 12, 18, 18, 19, 25, 25, 26, 26, 36, 100]\n",
      "Desending order of lsit l1 :  [100, 36, 26, 26, 25, 25, 19, 18, 18, 12, 12, 10, 1]\n"
     ]
    }
   ],
   "source": [
    "#8. Functions : min/max/len/sorted\n",
    "\n",
    "l1 = [25,10,26,100,12,1,18,25,26,36,12,18,19]\n",
    "\n",
    "print(\"Max value in List l1 : \" , max(l1))\n",
    "print(\"Min value in List l1 : \" , min(l1))\n",
    "print(\"Len of List L1 is  : \" , len(l1))\n",
    "print(\"Assending order of lsit l1 : \" , sorted(l1))\n",
    "print(\"Desending order of lsit l1 : \" , sorted(l1 , reverse =True))\n"
   ]
  }
 ],
 "metadata": {
  "kernelspec": {
   "display_name": "Python 3 (ipykernel)",
   "language": "python",
   "name": "python3"
  },
  "language_info": {
   "codemirror_mode": {
    "name": "ipython",
    "version": 3
   },
   "file_extension": ".py",
   "mimetype": "text/x-python",
   "name": "python",
   "nbconvert_exporter": "python",
   "pygments_lexer": "ipython3",
   "version": "3.11.3"
  }
 },
 "nbformat": 4,
 "nbformat_minor": 5
}
