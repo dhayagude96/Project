{
 "cells": [
  {
   "cell_type": "code",
   "execution_count": null,
   "id": "6569e88d",
   "metadata": {},
   "outputs": [],
   "source": [
    "\"\"\"\n",
    "String :-->\n",
    "\n",
    "1.Creating \n",
    "2.Accessing \n",
    "3.Adding Char\n",
    "4.Editing String\n",
    "5.Deleting String\n",
    "6.Operators on String\n",
    "7.String Function\n",
    "\n",
    "\n",
    "\"\"\""
   ]
  },
  {
   "cell_type": "code",
   "execution_count": null,
   "id": "adeb84e1",
   "metadata": {},
   "outputs": [],
   "source": []
  },
  {
   "cell_type": "code",
   "execution_count": null,
   "id": "47dec031",
   "metadata": {},
   "outputs": [],
   "source": [
    "# int / string / float : list / tuple / set / dict"
   ]
  },
  {
   "cell_type": "code",
   "execution_count": 2,
   "id": "5cab1eee",
   "metadata": {},
   "outputs": [
    {
     "name": "stdout",
     "output_type": "stream",
     "text": [
      "EduTECH Warje/EduTECH Warje/EduTECH Warje\n"
     ]
    }
   ],
   "source": [
    "#1.Creating \n",
    "\n",
    "s1 = 'EduTECH Warje'\n",
    "\n",
    "s2= \"EduTECH Warje\"\n",
    "\n",
    "s3 = \"\"\"EduTECH Warje\"\"\"\n",
    "\n",
    "print(s1,s2,s3 , sep ='/')"
   ]
  },
  {
   "cell_type": "code",
   "execution_count": 5,
   "id": "275529f0",
   "metadata": {},
   "outputs": [
    {
     "name": "stdout",
     "output_type": "stream",
     "text": [
      "1st Chart of String Name :  V\n",
      "2nd Char of String Name : s\n"
     ]
    }
   ],
   "source": [
    "#2.Accessing \n",
    "\n",
    "\n",
    "name = \"Vishal\"\n",
    "#       012345\n",
    "#          \n",
    "\n",
    "#Postive Indexing\n",
    "\n",
    "print(\"1st Chart of String Name : \" , name[0])\n",
    "\n",
    "print(\"2nd Char of String Name :\" , name[2])\n",
    "\n",
    "#Negative Indexing\n",
    "print(\"Using Negative Indexin\")"
   ]
  }
 ],
 "metadata": {
  "kernelspec": {
   "display_name": "Python 3 (ipykernel)",
   "language": "python",
   "name": "python3"
  },
  "language_info": {
   "codemirror_mode": {
    "name": "ipython",
    "version": 3
   },
   "file_extension": ".py",
   "mimetype": "text/x-python",
   "name": "python",
   "nbconvert_exporter": "python",
   "pygments_lexer": "ipython3",
   "version": "3.11.3"
  }
 },
 "nbformat": 4,
 "nbformat_minor": 5
}
