{
 "cells": [
  {
   "cell_type": "code",
   "execution_count": null,
   "id": "3fb0b14b",
   "metadata": {},
   "outputs": [],
   "source": [
    "\"\"\"\n",
    "Functions:---->\n",
    "\n",
    "1.Types of Functions\n",
    "2.Creating Function\n",
    "\n",
    "a)Without parameter\n",
    "b)With Parameter\n",
    "c)with return keyword\n",
    "\n",
    "3.Docstrings\n",
    "\n",
    "4.Function Arguments\n",
    "\n",
    "a)Positional arguments\n",
    "b)keyword arguments\n",
    "c)Default arguments\n",
    "d)Variable-length arguments\n",
    "\n",
    "\n",
    "\"\"\""
   ]
  },
  {
   "cell_type": "code",
   "execution_count": null,
   "id": "ef1da286",
   "metadata": {},
   "outputs": [],
   "source": [
    "#1.Types of Functions\n",
    "\n",
    "\"\"\"\n",
    "\n",
    "1.pre-define :---> type()/id()/max()/min()\n",
    "2.user-define :--->\n",
    "\n",
    "\n",
    "\"\"\""
   ]
  },
  {
   "cell_type": "code",
   "execution_count": null,
   "id": "c4cfac36",
   "metadata": {},
   "outputs": [],
   "source": [
    "\"\"\"\n",
    "2.Creating Function\n",
    "\n",
    "a)Without parameter\n",
    "b)With Parameter\n",
    "c)with return keyword\n",
    "\n",
    "\n",
    "\"\"\""
   ]
  },
  {
   "cell_type": "code",
   "execution_count": 1,
   "id": "181ba0a9",
   "metadata": {},
   "outputs": [],
   "source": [
    "#a)Without parameter\n",
    "\n",
    "def msg():\n",
    "    print(\"Welcome to EduTECH\")"
   ]
  },
  {
   "cell_type": "code",
   "execution_count": 2,
   "id": "d32768c7",
   "metadata": {},
   "outputs": [
    {
     "name": "stdout",
     "output_type": "stream",
     "text": [
      "Welcome to EduTECH\n"
     ]
    }
   ],
   "source": [
    "#Calling Function\n",
    "\n",
    "msg()"
   ]
  },
  {
   "cell_type": "code",
   "execution_count": 7,
   "id": "3ecdb22c",
   "metadata": {},
   "outputs": [],
   "source": [
    "#b)With Parameter & Argument\n",
    "\n",
    "def edutech(name,crs_name):\n",
    "    print(\"Hello \" , name ,\"Welcome to EduTECH.... Your course is \" , crs_name)"
   ]
  },
  {
   "cell_type": "code",
   "execution_count": 8,
   "id": "00a41d42",
   "metadata": {},
   "outputs": [
    {
     "name": "stdout",
     "output_type": "stream",
     "text": [
      "Hello  Anuja Welcome to EduTECH.... Your course is  Data Analysis\n"
     ]
    }
   ],
   "source": [
    "edutech(\"Anuja\",\"Data Analysis\") #Arguments"
   ]
  },
  {
   "cell_type": "code",
   "execution_count": 9,
   "id": "061e604d",
   "metadata": {},
   "outputs": [],
   "source": [
    "#c)with return keyword\n",
    "\n",
    "def add(a,b):\n",
    "    num = a+b\n",
    "    return num"
   ]
  },
  {
   "cell_type": "code",
   "execution_count": 10,
   "id": "97d66395",
   "metadata": {},
   "outputs": [
    {
     "data": {
      "text/plain": [
       "51"
      ]
     },
     "execution_count": 10,
     "metadata": {},
     "output_type": "execute_result"
    }
   ],
   "source": [
    "add(28,23)"
   ]
  },
  {
   "cell_type": "code",
   "execution_count": 11,
   "id": "d96e219f",
   "metadata": {},
   "outputs": [],
   "source": [
    "def calculator():\n",
    "    a = int(input(\"Enter 1st Number :\"))\n",
    "\n",
    "    b= int(input(\"Enter 2nd Number :\"))\n",
    "\n",
    "    user_input = input(\"What you want to Perform :\")\n",
    "\n",
    "    if user_input == \"add\" :\n",
    "        print(\"Add of Two Number is : \" , a+b)\n",
    "    elif user_input == \"sub\" :\n",
    "        print(\"Sub of Two Number is : \" , a-b)\n",
    "    elif user_input == \"div\" :\n",
    "        print(\"Div of Two Number is : \" , a/b)\n",
    "    elif user_input == \"mult\" :\n",
    "        print(\"Mult of Two Number is : \" , a*b)\n",
    "    else :\n",
    "        print(\"Plz check with your Input \")\n",
    "        a = int(input(\"Enter 1st Number :\"))\n",
    "\n",
    "        b= int(input(\"Enter 2nd Number :\"))\n",
    "\n",
    "        user_input = input(\"What you want to Perform :\")\n",
    "\n",
    "        if user_input == \"add\" :\n",
    "            print(\"Add of Two Number is : \" , a+b)\n",
    "        elif user_input == \"sub\" :\n",
    "            print(\"Sub of Two Number is : \" , a-b)\n",
    "        elif user_input == \"div\" :\n",
    "            print(\"Div of Two Number is : \" , a/b)\n",
    "        elif user_input == \"mult\" :\n",
    "            print(\"Mult of Two Number is : \" , a*b)"
   ]
  },
  {
   "cell_type": "code",
   "execution_count": 12,
   "id": "4f685cff",
   "metadata": {},
   "outputs": [
    {
     "name": "stdout",
     "output_type": "stream",
     "text": [
      "Enter 1st Number :28\n",
      "Enter 2nd Number :10\n",
      "What you want to Perform :div\n",
      "Div of Two Number is :  2.8\n"
     ]
    }
   ],
   "source": [
    "calculator() #zero parameter function\n",
    "\n",
    "#Create function for caculation with parameter : num1,num2,input"
   ]
  },
  {
   "cell_type": "code",
   "execution_count": 13,
   "id": "abfe2d39",
   "metadata": {},
   "outputs": [],
   "source": [
    "#3.Docstrings\n",
    "\n",
    "def mult(a,b):\n",
    "    \"\"\"\n",
    "    This Function will return you Mult of Two Variables\n",
    "    Created By :--> Vishal\n",
    "    Date : --> 31/8/2023\n",
    "    Edited By :--> Sainath\n",
    "    \n",
    "    \n",
    "    \"\"\"\n",
    "    num = a*b\n",
    "    \n",
    "    return num"
   ]
  },
  {
   "cell_type": "code",
   "execution_count": 14,
   "id": "a646150e",
   "metadata": {},
   "outputs": [
    {
     "data": {
      "text/plain": [
       "500"
      ]
     },
     "execution_count": 14,
     "metadata": {},
     "output_type": "execute_result"
    }
   ],
   "source": [
    "mult(25,20)"
   ]
  },
  {
   "cell_type": "code",
   "execution_count": 18,
   "id": "63708e97",
   "metadata": {
    "scrolled": true
   },
   "outputs": [
    {
     "name": "stdout",
     "output_type": "stream",
     "text": [
      "int([x]) -> integer\n",
      "int(x, base=10) -> integer\n",
      "\n",
      "Convert a number or string to an integer, or return 0 if no arguments\n",
      "are given.  If x is a number, return x.__int__().  For floating point\n",
      "numbers, this truncates towards zero.\n",
      "\n",
      "If x is not a number or if base is given, then x must be a string,\n",
      "bytes, or bytearray instance representing an integer literal in the\n",
      "given base.  The literal can be preceded by '+' or '-' and be surrounded\n",
      "by whitespace.  The base defaults to 10.  Valid bases are 0 and 2-36.\n",
      "Base 0 means to interpret the base from the string as an integer literal.\n",
      ">>> int('0b100', base=0)\n",
      "4\n"
     ]
    }
   ],
   "source": [
    "print(mult(25,20).__doc__)"
   ]
  },
  {
   "cell_type": "code",
   "execution_count": null,
   "id": "5188583b",
   "metadata": {},
   "outputs": [],
   "source": [
    "\"\"\"\n",
    "4.Function Arguments\n",
    "\n",
    "a)Positional arguments\n",
    "b)keyword arguments\n",
    "c)Default arguments\n",
    "d)Variable-length arguments\n",
    "\n",
    "\"\"\""
   ]
  },
  {
   "cell_type": "code",
   "execution_count": 19,
   "id": "94a94d6d",
   "metadata": {},
   "outputs": [],
   "source": [
    "#a)Positional arguments\n",
    "\n",
    "def info(name,crs_name):\n",
    "    print(\"student name : \" , name)\n",
    "    print(\"Cosrse name : \" , crs_name)"
   ]
  },
  {
   "cell_type": "code",
   "execution_count": 22,
   "id": "ff18ee31",
   "metadata": {
    "scrolled": true
   },
   "outputs": [
    {
     "ename": "TypeError",
     "evalue": "info() missing 1 required positional argument: 'crs_name'",
     "output_type": "error",
     "traceback": [
      "\u001b[1;31m---------------------------------------------------------------------------\u001b[0m",
      "\u001b[1;31mTypeError\u001b[0m                                 Traceback (most recent call last)",
      "Cell \u001b[1;32mIn[22], line 1\u001b[0m\n\u001b[1;32m----> 1\u001b[0m info(\u001b[38;5;124m\"\u001b[39m\u001b[38;5;124mData Science\u001b[39m\u001b[38;5;124m\"\u001b[39m)\n",
      "\u001b[1;31mTypeError\u001b[0m: info() missing 1 required positional argument: 'crs_name'"
     ]
    }
   ],
   "source": [
    "info(\"Data Science\")"
   ]
  },
  {
   "cell_type": "code",
   "execution_count": 23,
   "id": "636ac4bc",
   "metadata": {},
   "outputs": [],
   "source": [
    "#b)keyword arguments\n",
    "\n",
    "def edutech(name,crs_name):\n",
    "    print(\"Student Name : \" , name)\n",
    "    print(\"Course Name : \" , crs_name)\n",
    "   \n",
    "    \n",
    "   "
   ]
  },
  {
   "cell_type": "code",
   "execution_count": 24,
   "id": "3b7f2b5e",
   "metadata": {
    "scrolled": true
   },
   "outputs": [
    {
     "name": "stdout",
     "output_type": "stream",
     "text": [
      "Student Name :  Sainath\n",
      "Course Name :  SAP\n"
     ]
    }
   ],
   "source": [
    "edutech(crs_name=\"SAP\",name=\"Sainath\")"
   ]
  },
  {
   "cell_type": "code",
   "execution_count": 25,
   "id": "0b6e21af",
   "metadata": {},
   "outputs": [],
   "source": [
    "#c)Default arguments\n",
    "\n",
    "def welcome(name='Guest'):\n",
    "    print(\"Welcome to EduTECH \" , name)"
   ]
  },
  {
   "cell_type": "code",
   "execution_count": 27,
   "id": "81a1550e",
   "metadata": {
    "scrolled": true
   },
   "outputs": [
    {
     "name": "stdout",
     "output_type": "stream",
     "text": [
      "Welcome to EduTECH  Vishal\n",
      "Welcome to EduTECH  Guest\n"
     ]
    }
   ],
   "source": [
    "welcome(\"Vishal\")\n",
    "welcome()"
   ]
  },
  {
   "cell_type": "code",
   "execution_count": 31,
   "id": "38f1ca8b",
   "metadata": {},
   "outputs": [
    {
     "name": "stdout",
     "output_type": "stream",
     "text": [
      "Tumhi ji kahi string pass krtay ....Limit ahe ka ????\n"
     ]
    }
   ],
   "source": [
    "#d)Variable-length arguments :---> *\n",
    "\n",
    "print(\"Tumhi ji kahi string pass krtay ....Limit ahe ka ????\")\n",
    "\n",
    "def add(*num):\n",
    "    total =0\n",
    "    for i in num:\n",
    "        total += i\n",
    "    print(\"Sum of Total is : \" , total)"
   ]
  },
  {
   "cell_type": "code",
   "execution_count": 33,
   "id": "e0a13eed",
   "metadata": {},
   "outputs": [
    {
     "name": "stdout",
     "output_type": "stream",
     "text": [
      "Sum of Total is :  48\n",
      "Sum of Total is :  139\n"
     ]
    }
   ],
   "source": [
    "add(25,23)\n",
    "add(22,22,22,23,28,22)"
   ]
  },
  {
   "cell_type": "code",
   "execution_count": null,
   "id": "8b3bb5e7",
   "metadata": {},
   "outputs": [],
   "source": [
    "#Write a program to print wether enter number is odd or even : take input from user\n",
    "#Write a Program to check whether enter number is postive or negative\n",
    "#Write a program to convert kilometer to miles\n",
    "#Write a program to Convert celsius into fehernheit\n",
    "#4.Write a Program for Login page : ask user for Email ID & Pass check with input"
   ]
  }
 ],
 "metadata": {
  "kernelspec": {
   "display_name": "Python 3 (ipykernel)",
   "language": "python",
   "name": "python3"
  },
  "language_info": {
   "codemirror_mode": {
    "name": "ipython",
    "version": 3
   },
   "file_extension": ".py",
   "mimetype": "text/x-python",
   "name": "python",
   "nbconvert_exporter": "python",
   "pygments_lexer": "ipython3",
   "version": "3.11.3"
  }
 },
 "nbformat": 4,
 "nbformat_minor": 5
}
